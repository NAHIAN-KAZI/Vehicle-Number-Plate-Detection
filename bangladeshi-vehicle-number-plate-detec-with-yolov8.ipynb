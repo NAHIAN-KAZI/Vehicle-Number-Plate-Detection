{
 "cells": [
  {
   "cell_type": "markdown",
   "id": "fd199e88",
   "metadata": {
    "papermill": {
     "duration": 0.003343,
     "end_time": "2025-05-26T08:21:08.933287",
     "exception": false,
     "start_time": "2025-05-26T08:21:08.929944",
     "status": "completed"
    },
    "tags": []
   },
   "source": [
    "# **Setup and Dependancies**"
   ]
  },
  {
   "cell_type": "code",
   "execution_count": 1,
   "id": "96a50de9",
   "metadata": {
    "execution": {
     "iopub.execute_input": "2025-05-26T08:21:08.940125Z",
     "iopub.status.busy": "2025-05-26T08:21:08.939860Z",
     "iopub.status.idle": "2025-05-26T08:22:28.660504Z",
     "shell.execute_reply": "2025-05-26T08:22:28.659574Z"
    },
    "papermill": {
     "duration": 79.725364,
     "end_time": "2025-05-26T08:22:28.661973",
     "exception": false,
     "start_time": "2025-05-26T08:21:08.936609",
     "status": "completed"
    },
    "tags": []
   },
   "outputs": [
    {
     "name": "stdout",
     "output_type": "stream",
     "text": [
      "Collecting ultralytics\r\n",
      "  Downloading ultralytics-8.3.145-py3-none-any.whl.metadata (37 kB)\r\n",
      "Requirement already satisfied: numpy>=1.23.0 in /usr/local/lib/python3.11/dist-packages (from ultralytics) (1.26.4)\r\n",
      "Requirement already satisfied: matplotlib>=3.3.0 in /usr/local/lib/python3.11/dist-packages (from ultralytics) (3.7.2)\r\n",
      "Requirement already satisfied: opencv-python>=4.6.0 in /usr/local/lib/python3.11/dist-packages (from ultralytics) (4.11.0.86)\r\n",
      "Requirement already satisfied: pillow>=7.1.2 in /usr/local/lib/python3.11/dist-packages (from ultralytics) (11.1.0)\r\n",
      "Requirement already satisfied: pyyaml>=5.3.1 in /usr/local/lib/python3.11/dist-packages (from ultralytics) (6.0.2)\r\n",
      "Requirement already satisfied: requests>=2.23.0 in /usr/local/lib/python3.11/dist-packages (from ultralytics) (2.32.3)\r\n",
      "Requirement already satisfied: scipy>=1.4.1 in /usr/local/lib/python3.11/dist-packages (from ultralytics) (1.15.2)\r\n",
      "Requirement already satisfied: torch>=1.8.0 in /usr/local/lib/python3.11/dist-packages (from ultralytics) (2.6.0+cu124)\r\n",
      "Requirement already satisfied: torchvision>=0.9.0 in /usr/local/lib/python3.11/dist-packages (from ultralytics) (0.21.0+cu124)\r\n",
      "Requirement already satisfied: tqdm>=4.64.0 in /usr/local/lib/python3.11/dist-packages (from ultralytics) (4.67.1)\r\n",
      "Requirement already satisfied: psutil in /usr/local/lib/python3.11/dist-packages (from ultralytics) (7.0.0)\r\n",
      "Requirement already satisfied: py-cpuinfo in /usr/local/lib/python3.11/dist-packages (from ultralytics) (9.0.0)\r\n",
      "Requirement already satisfied: pandas>=1.1.4 in /usr/local/lib/python3.11/dist-packages (from ultralytics) (2.2.3)\r\n",
      "Collecting ultralytics-thop>=2.0.0 (from ultralytics)\r\n",
      "  Downloading ultralytics_thop-2.0.14-py3-none-any.whl.metadata (9.4 kB)\r\n",
      "Requirement already satisfied: contourpy>=1.0.1 in /usr/local/lib/python3.11/dist-packages (from matplotlib>=3.3.0->ultralytics) (1.3.1)\r\n",
      "Requirement already satisfied: cycler>=0.10 in /usr/local/lib/python3.11/dist-packages (from matplotlib>=3.3.0->ultralytics) (0.12.1)\r\n",
      "Requirement already satisfied: fonttools>=4.22.0 in /usr/local/lib/python3.11/dist-packages (from matplotlib>=3.3.0->ultralytics) (4.57.0)\r\n",
      "Requirement already satisfied: kiwisolver>=1.0.1 in /usr/local/lib/python3.11/dist-packages (from matplotlib>=3.3.0->ultralytics) (1.4.8)\r\n",
      "Requirement already satisfied: packaging>=20.0 in /usr/local/lib/python3.11/dist-packages (from matplotlib>=3.3.0->ultralytics) (25.0)\r\n",
      "Requirement already satisfied: pyparsing<3.1,>=2.3.1 in /usr/local/lib/python3.11/dist-packages (from matplotlib>=3.3.0->ultralytics) (3.0.9)\r\n",
      "Requirement already satisfied: python-dateutil>=2.7 in /usr/local/lib/python3.11/dist-packages (from matplotlib>=3.3.0->ultralytics) (2.9.0.post0)\r\n",
      "Requirement already satisfied: mkl_fft in /usr/local/lib/python3.11/dist-packages (from numpy>=1.23.0->ultralytics) (1.3.8)\r\n",
      "Requirement already satisfied: mkl_random in /usr/local/lib/python3.11/dist-packages (from numpy>=1.23.0->ultralytics) (1.2.4)\r\n",
      "Requirement already satisfied: mkl_umath in /usr/local/lib/python3.11/dist-packages (from numpy>=1.23.0->ultralytics) (0.1.1)\r\n",
      "Requirement already satisfied: mkl in /usr/local/lib/python3.11/dist-packages (from numpy>=1.23.0->ultralytics) (2025.1.0)\r\n",
      "Requirement already satisfied: tbb4py in /usr/local/lib/python3.11/dist-packages (from numpy>=1.23.0->ultralytics) (2022.1.0)\r\n",
      "Requirement already satisfied: mkl-service in /usr/local/lib/python3.11/dist-packages (from numpy>=1.23.0->ultralytics) (2.4.1)\r\n",
      "Requirement already satisfied: pytz>=2020.1 in /usr/local/lib/python3.11/dist-packages (from pandas>=1.1.4->ultralytics) (2025.2)\r\n",
      "Requirement already satisfied: tzdata>=2022.7 in /usr/local/lib/python3.11/dist-packages (from pandas>=1.1.4->ultralytics) (2025.2)\r\n",
      "Requirement already satisfied: charset-normalizer<4,>=2 in /usr/local/lib/python3.11/dist-packages (from requests>=2.23.0->ultralytics) (3.4.2)\r\n",
      "Requirement already satisfied: idna<4,>=2.5 in /usr/local/lib/python3.11/dist-packages (from requests>=2.23.0->ultralytics) (3.10)\r\n",
      "Requirement already satisfied: urllib3<3,>=1.21.1 in /usr/local/lib/python3.11/dist-packages (from requests>=2.23.0->ultralytics) (2.4.0)\r\n",
      "Requirement already satisfied: certifi>=2017.4.17 in /usr/local/lib/python3.11/dist-packages (from requests>=2.23.0->ultralytics) (2025.4.26)\r\n",
      "Requirement already satisfied: filelock in /usr/local/lib/python3.11/dist-packages (from torch>=1.8.0->ultralytics) (3.18.0)\r\n",
      "Requirement already satisfied: typing-extensions>=4.10.0 in /usr/local/lib/python3.11/dist-packages (from torch>=1.8.0->ultralytics) (4.13.2)\r\n",
      "Requirement already satisfied: networkx in /usr/local/lib/python3.11/dist-packages (from torch>=1.8.0->ultralytics) (3.4.2)\r\n",
      "Requirement already satisfied: jinja2 in /usr/local/lib/python3.11/dist-packages (from torch>=1.8.0->ultralytics) (3.1.6)\r\n",
      "Requirement already satisfied: fsspec in /usr/local/lib/python3.11/dist-packages (from torch>=1.8.0->ultralytics) (2025.3.2)\r\n",
      "Requirement already satisfied: nvidia-cuda-nvrtc-cu12==12.4.127 in /usr/local/lib/python3.11/dist-packages (from torch>=1.8.0->ultralytics) (12.4.127)\r\n",
      "Requirement already satisfied: nvidia-cuda-runtime-cu12==12.4.127 in /usr/local/lib/python3.11/dist-packages (from torch>=1.8.0->ultralytics) (12.4.127)\r\n",
      "Requirement already satisfied: nvidia-cuda-cupti-cu12==12.4.127 in /usr/local/lib/python3.11/dist-packages (from torch>=1.8.0->ultralytics) (12.4.127)\r\n",
      "Collecting nvidia-cudnn-cu12==9.1.0.70 (from torch>=1.8.0->ultralytics)\r\n",
      "  Downloading nvidia_cudnn_cu12-9.1.0.70-py3-none-manylinux2014_x86_64.whl.metadata (1.6 kB)\r\n",
      "Collecting nvidia-cublas-cu12==12.4.5.8 (from torch>=1.8.0->ultralytics)\r\n",
      "  Downloading nvidia_cublas_cu12-12.4.5.8-py3-none-manylinux2014_x86_64.whl.metadata (1.5 kB)\r\n",
      "Collecting nvidia-cufft-cu12==11.2.1.3 (from torch>=1.8.0->ultralytics)\r\n",
      "  Downloading nvidia_cufft_cu12-11.2.1.3-py3-none-manylinux2014_x86_64.whl.metadata (1.5 kB)\r\n",
      "Collecting nvidia-curand-cu12==10.3.5.147 (from torch>=1.8.0->ultralytics)\r\n",
      "  Downloading nvidia_curand_cu12-10.3.5.147-py3-none-manylinux2014_x86_64.whl.metadata (1.5 kB)\r\n",
      "Collecting nvidia-cusolver-cu12==11.6.1.9 (from torch>=1.8.0->ultralytics)\r\n",
      "  Downloading nvidia_cusolver_cu12-11.6.1.9-py3-none-manylinux2014_x86_64.whl.metadata (1.6 kB)\r\n",
      "Collecting nvidia-cusparse-cu12==12.3.1.170 (from torch>=1.8.0->ultralytics)\r\n",
      "  Downloading nvidia_cusparse_cu12-12.3.1.170-py3-none-manylinux2014_x86_64.whl.metadata (1.6 kB)\r\n",
      "Requirement already satisfied: nvidia-cusparselt-cu12==0.6.2 in /usr/local/lib/python3.11/dist-packages (from torch>=1.8.0->ultralytics) (0.6.2)\r\n",
      "Requirement already satisfied: nvidia-nccl-cu12==2.21.5 in /usr/local/lib/python3.11/dist-packages (from torch>=1.8.0->ultralytics) (2.21.5)\r\n",
      "Requirement already satisfied: nvidia-nvtx-cu12==12.4.127 in /usr/local/lib/python3.11/dist-packages (from torch>=1.8.0->ultralytics) (12.4.127)\r\n",
      "Collecting nvidia-nvjitlink-cu12==12.4.127 (from torch>=1.8.0->ultralytics)\r\n",
      "  Downloading nvidia_nvjitlink_cu12-12.4.127-py3-none-manylinux2014_x86_64.whl.metadata (1.5 kB)\r\n",
      "Requirement already satisfied: triton==3.2.0 in /usr/local/lib/python3.11/dist-packages (from torch>=1.8.0->ultralytics) (3.2.0)\r\n",
      "Requirement already satisfied: sympy==1.13.1 in /usr/local/lib/python3.11/dist-packages (from torch>=1.8.0->ultralytics) (1.13.1)\r\n",
      "Requirement already satisfied: mpmath<1.4,>=1.1.0 in /usr/local/lib/python3.11/dist-packages (from sympy==1.13.1->torch>=1.8.0->ultralytics) (1.3.0)\r\n",
      "Requirement already satisfied: six>=1.5 in /usr/local/lib/python3.11/dist-packages (from python-dateutil>=2.7->matplotlib>=3.3.0->ultralytics) (1.17.0)\r\n",
      "Requirement already satisfied: MarkupSafe>=2.0 in /usr/local/lib/python3.11/dist-packages (from jinja2->torch>=1.8.0->ultralytics) (3.0.2)\r\n",
      "Requirement already satisfied: intel-openmp<2026,>=2024 in /usr/local/lib/python3.11/dist-packages (from mkl->numpy>=1.23.0->ultralytics) (2024.2.0)\r\n",
      "Requirement already satisfied: tbb==2022.* in /usr/local/lib/python3.11/dist-packages (from mkl->numpy>=1.23.0->ultralytics) (2022.1.0)\r\n",
      "Requirement already satisfied: tcmlib==1.* in /usr/local/lib/python3.11/dist-packages (from tbb==2022.*->mkl->numpy>=1.23.0->ultralytics) (1.3.0)\r\n",
      "Requirement already satisfied: intel-cmplr-lib-rt in /usr/local/lib/python3.11/dist-packages (from mkl_umath->numpy>=1.23.0->ultralytics) (2024.2.0)\r\n",
      "Requirement already satisfied: intel-cmplr-lib-ur==2024.2.0 in /usr/local/lib/python3.11/dist-packages (from intel-openmp<2026,>=2024->mkl->numpy>=1.23.0->ultralytics) (2024.2.0)\r\n",
      "Downloading ultralytics-8.3.145-py3-none-any.whl (1.0 MB)\r\n",
      "\u001b[2K   \u001b[90m━━━━━━━━━━━━━━━━━━━━━━━━━━━━━━━━━━━━━━━━\u001b[0m \u001b[32m1.0/1.0 MB\u001b[0m \u001b[31m26.3 MB/s\u001b[0m eta \u001b[36m0:00:00\u001b[0m\r\n",
      "\u001b[?25hDownloading nvidia_cublas_cu12-12.4.5.8-py3-none-manylinux2014_x86_64.whl (363.4 MB)\r\n",
      "\u001b[2K   \u001b[90m━━━━━━━━━━━━━━━━━━━━━━━━━━━━━━━━━━━━━━━━\u001b[0m \u001b[32m363.4/363.4 MB\u001b[0m \u001b[31m4.6 MB/s\u001b[0m eta \u001b[36m0:00:00\u001b[0m\r\n",
      "\u001b[?25hDownloading nvidia_cudnn_cu12-9.1.0.70-py3-none-manylinux2014_x86_64.whl (664.8 MB)\r\n",
      "\u001b[2K   \u001b[90m━━━━━━━━━━━━━━━━━━━━━━━━━━━━━━━━━━━━━━━━\u001b[0m \u001b[32m664.8/664.8 MB\u001b[0m \u001b[31m2.5 MB/s\u001b[0m eta \u001b[36m0:00:00\u001b[0m\r\n",
      "\u001b[?25hDownloading nvidia_cufft_cu12-11.2.1.3-py3-none-manylinux2014_x86_64.whl (211.5 MB)\r\n",
      "\u001b[2K   \u001b[90m━━━━━━━━━━━━━━━━━━━━━━━━━━━━━━━━━━━━━━━━\u001b[0m \u001b[32m211.5/211.5 MB\u001b[0m \u001b[31m7.9 MB/s\u001b[0m eta \u001b[36m0:00:00\u001b[0m\r\n",
      "\u001b[?25hDownloading nvidia_curand_cu12-10.3.5.147-py3-none-manylinux2014_x86_64.whl (56.3 MB)\r\n",
      "\u001b[2K   \u001b[90m━━━━━━━━━━━━━━━━━━━━━━━━━━━━━━━━━━━━━━━━\u001b[0m \u001b[32m56.3/56.3 MB\u001b[0m \u001b[31m32.5 MB/s\u001b[0m eta \u001b[36m0:00:00\u001b[0m\r\n",
      "\u001b[?25hDownloading nvidia_cusolver_cu12-11.6.1.9-py3-none-manylinux2014_x86_64.whl (127.9 MB)\r\n",
      "\u001b[2K   \u001b[90m━━━━━━━━━━━━━━━━━━━━━━━━━━━━━━━━━━━━━━━━\u001b[0m \u001b[32m127.9/127.9 MB\u001b[0m \u001b[31m13.3 MB/s\u001b[0m eta \u001b[36m0:00:00\u001b[0m\r\n",
      "\u001b[?25hDownloading nvidia_cusparse_cu12-12.3.1.170-py3-none-manylinux2014_x86_64.whl (207.5 MB)\r\n",
      "\u001b[2K   \u001b[90m━━━━━━━━━━━━━━━━━━━━━━━━━━━━━━━━━━━━━━━━\u001b[0m \u001b[32m207.5/207.5 MB\u001b[0m \u001b[31m8.2 MB/s\u001b[0m eta \u001b[36m0:00:00\u001b[0m\r\n",
      "\u001b[?25hDownloading nvidia_nvjitlink_cu12-12.4.127-py3-none-manylinux2014_x86_64.whl (21.1 MB)\r\n",
      "\u001b[2K   \u001b[90m━━━━━━━━━━━━━━━━━━━━━━━━━━━━━━━━━━━━━━━━\u001b[0m \u001b[32m21.1/21.1 MB\u001b[0m \u001b[31m81.1 MB/s\u001b[0m eta \u001b[36m0:00:00\u001b[0m\r\n",
      "\u001b[?25hDownloading ultralytics_thop-2.0.14-py3-none-any.whl (26 kB)\r\n",
      "Installing collected packages: nvidia-nvjitlink-cu12, nvidia-curand-cu12, nvidia-cufft-cu12, nvidia-cublas-cu12, nvidia-cusparse-cu12, nvidia-cudnn-cu12, nvidia-cusolver-cu12, ultralytics-thop, ultralytics\r\n",
      "  Attempting uninstall: nvidia-nvjitlink-cu12\r\n",
      "    Found existing installation: nvidia-nvjitlink-cu12 12.9.41\r\n",
      "    Uninstalling nvidia-nvjitlink-cu12-12.9.41:\r\n",
      "      Successfully uninstalled nvidia-nvjitlink-cu12-12.9.41\r\n",
      "  Attempting uninstall: nvidia-curand-cu12\r\n",
      "    Found existing installation: nvidia-curand-cu12 10.3.10.19\r\n",
      "    Uninstalling nvidia-curand-cu12-10.3.10.19:\r\n",
      "      Successfully uninstalled nvidia-curand-cu12-10.3.10.19\r\n",
      "  Attempting uninstall: nvidia-cufft-cu12\r\n",
      "    Found existing installation: nvidia-cufft-cu12 11.4.0.6\r\n",
      "    Uninstalling nvidia-cufft-cu12-11.4.0.6:\r\n",
      "      Successfully uninstalled nvidia-cufft-cu12-11.4.0.6\r\n",
      "  Attempting uninstall: nvidia-cublas-cu12\r\n",
      "    Found existing installation: nvidia-cublas-cu12 12.9.0.13\r\n",
      "    Uninstalling nvidia-cublas-cu12-12.9.0.13:\r\n",
      "      Successfully uninstalled nvidia-cublas-cu12-12.9.0.13\r\n",
      "  Attempting uninstall: nvidia-cusparse-cu12\r\n",
      "    Found existing installation: nvidia-cusparse-cu12 12.5.9.5\r\n",
      "    Uninstalling nvidia-cusparse-cu12-12.5.9.5:\r\n",
      "      Successfully uninstalled nvidia-cusparse-cu12-12.5.9.5\r\n",
      "  Attempting uninstall: nvidia-cudnn-cu12\r\n",
      "    Found existing installation: nvidia-cudnn-cu12 9.3.0.75\r\n",
      "    Uninstalling nvidia-cudnn-cu12-9.3.0.75:\r\n",
      "      Successfully uninstalled nvidia-cudnn-cu12-9.3.0.75\r\n",
      "  Attempting uninstall: nvidia-cusolver-cu12\r\n",
      "    Found existing installation: nvidia-cusolver-cu12 11.7.4.40\r\n",
      "    Uninstalling nvidia-cusolver-cu12-11.7.4.40:\r\n",
      "      Successfully uninstalled nvidia-cusolver-cu12-11.7.4.40\r\n",
      "Successfully installed nvidia-cublas-cu12-12.4.5.8 nvidia-cudnn-cu12-9.1.0.70 nvidia-cufft-cu12-11.2.1.3 nvidia-curand-cu12-10.3.5.147 nvidia-cusolver-cu12-11.6.1.9 nvidia-cusparse-cu12-12.3.1.170 nvidia-nvjitlink-cu12-12.4.127 ultralytics-8.3.145 ultralytics-thop-2.0.14\r\n",
      "Creating new Ultralytics Settings v0.0.6 file ✅ \n",
      "View Ultralytics Settings with 'yolo settings' or at '/root/.config/Ultralytics/settings.json'\n",
      "Update Settings with 'yolo settings key=value', i.e. 'yolo settings runs_dir=path/to/dir'. For help see https://docs.ultralytics.com/quickstart/#ultralytics-settings.\n",
      "GPU Available: True\n",
      "Device: Tesla P100-PCIE-16GB\n"
     ]
    }
   ],
   "source": [
    "import os\n",
    "import shutil\n",
    "import random\n",
    "import yaml\n",
    "import cv2\n",
    "import numpy as np\n",
    "import matplotlib.pyplot as plt\n",
    "from pathlib import Path\n",
    "import kagglehub\n",
    "from sklearn.model_selection import train_test_split\n",
    "\n",
    "# Install required packages\n",
    "!pip install ultralytics\n",
    "\n",
    "from ultralytics import YOLO\n",
    "import torch\n",
    "\n",
    "# Set random seeds for reproducibility\n",
    "random.seed(42)\n",
    "np.random.seed(42)\n",
    "torch.manual_seed(42)\n",
    "\n",
    "print(\"GPU Available:\", torch.cuda.is_available())\n",
    "print(\"Device:\", torch.cuda.get_device_name(0) if torch.cuda.is_available() else \"CPU\")"
   ]
  },
  {
   "cell_type": "markdown",
   "id": "1ed19f70",
   "metadata": {
    "papermill": {
     "duration": 0.019236,
     "end_time": "2025-05-26T08:22:28.701175",
     "exception": false,
     "start_time": "2025-05-26T08:22:28.681939",
     "status": "completed"
    },
    "tags": []
   },
   "source": [
    "#  ***Actual Dataset Structure***"
   ]
  },
  {
   "cell_type": "code",
   "execution_count": 2,
   "id": "0b791a00",
   "metadata": {
    "execution": {
     "iopub.execute_input": "2025-05-26T08:22:28.742536Z",
     "iopub.status.busy": "2025-05-26T08:22:28.742101Z",
     "iopub.status.idle": "2025-05-26T08:22:32.643392Z",
     "shell.execute_reply": "2025-05-26T08:22:32.642400Z"
    },
    "papermill": {
     "duration": 3.924231,
     "end_time": "2025-05-26T08:22:32.644816",
     "exception": false,
     "start_time": "2025-05-26T08:22:28.720585",
     "status": "completed"
    },
    "tags": []
   },
   "outputs": [
    {
     "name": "stdout",
     "output_type": "stream",
     "text": [
      "Inspecting contents of: /kaggle/input/bangladeshi-vehicle-license-plate\n",
      "bangladeshi-vehicle-license-plate/\n",
      "    Bangladeshi_Vehicle_Image_with_visible_license_plate/\n",
      "        Vehicle924.txt\n",
      "        Vehicle254.txt\n",
      "        Vehicle1003.txt\n",
      "        Vehicle75.jpg\n",
      "        Vehicle1071.jpg\n"
     ]
    }
   ],
   "source": [
    "\n",
    "\n",
    "root_path = \"/kaggle/input/bangladeshi-vehicle-license-plate\"\n",
    "\n",
    "print(\"Inspecting contents of:\", root_path)\n",
    "for root, dirs, files in os.walk(root_path):\n",
    "    level = root.replace(root_path, '').count(os.sep)\n",
    "    indent = ' ' * 4 * level\n",
    "    print(f\"{indent}{os.path.basename(root)}/\")\n",
    "    subindent = ' ' * 4 * (level + 1)\n",
    "    for f in files[:5]:  # show max 5 files per folder\n",
    "        print(f\"{subindent}{f}\")\n"
   ]
  },
  {
   "cell_type": "markdown",
   "id": "7ce15790",
   "metadata": {
    "papermill": {
     "duration": 0.019001,
     "end_time": "2025-05-26T08:22:32.683524",
     "exception": false,
     "start_time": "2025-05-26T08:22:32.664523",
     "status": "completed"
    },
    "tags": []
   },
   "source": [
    "# ***Extract Dataset***"
   ]
  },
  {
   "cell_type": "code",
   "execution_count": 3,
   "id": "4acbdf8f",
   "metadata": {
    "execution": {
     "iopub.execute_input": "2025-05-26T08:22:32.723700Z",
     "iopub.status.busy": "2025-05-26T08:22:32.722947Z",
     "iopub.status.idle": "2025-05-26T08:22:52.525163Z",
     "shell.execute_reply": "2025-05-26T08:22:52.524121Z"
    },
    "papermill": {
     "duration": 19.823836,
     "end_time": "2025-05-26T08:22:52.526565",
     "exception": false,
     "start_time": "2025-05-26T08:22:32.702729",
     "status": "completed"
    },
    "tags": []
   },
   "outputs": [
    {
     "name": "stdout",
     "output_type": "stream",
     "text": [
      "✅ Dataset split (70/30 then 70/30) complete and files copied.\n",
      "images/train: 1080 files\n",
      "images/val: 463 files\n",
      "images/test: 386 files\n",
      "labels/train: 1080 files\n",
      "labels/val: 463 files\n",
      "labels/test: 386 files\n"
     ]
    }
   ],
   "source": [
    "import os\n",
    "import shutil\n",
    "import random\n",
    "from sklearn.model_selection import train_test_split\n",
    "\n",
    "# Paths\n",
    "src_dir = \"/kaggle/input/bangladeshi-vehicle-license-plate/Bangladeshi_Vehicle_Image_with_visible_license_plate\"\n",
    "project_dir = \"/kaggle/working/yolo_license_plate\"\n",
    "dataset_dir = f\"{project_dir}/datasets/license_plate\"\n",
    "\n",
    "# Create required YOLO directories\n",
    "folders = [\n",
    "    \"images/train\", \"images/val\", \"images/test\",\n",
    "    \"labels/train\", \"labels/val\", \"labels/test\"\n",
    "]\n",
    "for folder in folders:\n",
    "    os.makedirs(os.path.join(dataset_dir, folder), exist_ok=True)\n",
    "\n",
    "# List all images\n",
    "image_files = [f for f in os.listdir(src_dir) if f.lower().endswith(('.jpg', '.jpeg', '.png'))]\n",
    "image_files.sort()\n",
    "\n",
    "# Step 1: Split into 70% train, 20% test\n",
    "train_files, test_files = train_test_split(image_files, test_size=0.2, random_state=42)\n",
    "\n",
    "# Step 2: Split train into 70% train, 30% val\n",
    "train_files, val_files = train_test_split(train_files, test_size=0.3, random_state=42)\n",
    "\n",
    "# Dataset dictionary\n",
    "splits = {\n",
    "    'train': train_files,\n",
    "    'val': val_files,\n",
    "    'test': test_files\n",
    "}\n",
    "\n",
    "# Copy files to YOLO directory\n",
    "for split, files in splits.items():\n",
    "    for img_file in files:\n",
    "        # Copy image\n",
    "        src_img = os.path.join(src_dir, img_file)\n",
    "        dst_img = os.path.join(dataset_dir, 'images', split, img_file)\n",
    "        shutil.copy(src_img, dst_img)\n",
    "\n",
    "        # Copy corresponding label\n",
    "        label_file = os.path.splitext(img_file)[0] + \".txt\"\n",
    "        src_label = os.path.join(src_dir, label_file)\n",
    "        dst_label = os.path.join(dataset_dir, 'labels', split, label_file)\n",
    "        if os.path.exists(src_label):\n",
    "            shutil.copy(src_label, dst_label)\n",
    "\n",
    "print(\"✅ Dataset split (70/30 then 70/30) complete and files copied.\")\n",
    "\n",
    "# Summary\n",
    "for category in ['images', 'labels']:\n",
    "    for split in ['train', 'val', 'test']:\n",
    "        folder = os.path.join(dataset_dir, category, split)\n",
    "        print(f\"{category}/{split}: {len(os.listdir(folder))} files\")\n"
   ]
  },
  {
   "cell_type": "markdown",
   "id": "bd551c33",
   "metadata": {
    "papermill": {
     "duration": 0.019007,
     "end_time": "2025-05-26T08:22:52.565466",
     "exception": false,
     "start_time": "2025-05-26T08:22:52.546459",
     "status": "completed"
    },
    "tags": []
   },
   "source": [
    "# ***YAML***"
   ]
  },
  {
   "cell_type": "code",
   "execution_count": 4,
   "id": "edad2b83",
   "metadata": {
    "execution": {
     "iopub.execute_input": "2025-05-26T08:22:52.605516Z",
     "iopub.status.busy": "2025-05-26T08:22:52.604667Z",
     "iopub.status.idle": "2025-05-26T08:22:52.611256Z",
     "shell.execute_reply": "2025-05-26T08:22:52.610390Z"
    },
    "papermill": {
     "duration": 0.027784,
     "end_time": "2025-05-26T08:22:52.612389",
     "exception": false,
     "start_time": "2025-05-26T08:22:52.584605",
     "status": "completed"
    },
    "tags": []
   },
   "outputs": [
    {
     "name": "stdout",
     "output_type": "stream",
     "text": [
      "✅ data.yaml created.\n"
     ]
    }
   ],
   "source": [
    "import yaml\n",
    "\n",
    "data_yaml = {\n",
    "    'train': '/kaggle/working/yolo_license_plate/datasets/license_plate/images/train',\n",
    "    'val': '/kaggle/working/yolo_license_plate/datasets/license_plate/images/val',\n",
    "    'test': '/kaggle/working/yolo_license_plate/datasets/license_plate/images/test',\n",
    "    'nc': 1,\n",
    "    'names': ['license_plate']\n",
    "}\n",
    "\n",
    "with open('/kaggle/working/yolo_license_plate/data.yaml', 'w') as f:\n",
    "    yaml.dump(data_yaml, f)\n",
    "\n",
    "print(\"✅ data.yaml created.\")\n"
   ]
  },
  {
   "cell_type": "markdown",
   "id": "35a23d6c",
   "metadata": {
    "papermill": {
     "duration": 0.083779,
     "end_time": "2025-05-26T08:22:52.715495",
     "exception": false,
     "start_time": "2025-05-26T08:22:52.631716",
     "status": "completed"
    },
    "tags": []
   },
   "source": [
    "# ***Training***"
   ]
  },
  {
   "cell_type": "code",
   "execution_count": 5,
   "id": "2a087355",
   "metadata": {
    "execution": {
     "iopub.execute_input": "2025-05-26T08:22:52.755404Z",
     "iopub.status.busy": "2025-05-26T08:22:52.755105Z",
     "iopub.status.idle": "2025-05-26T08:44:16.870489Z",
     "shell.execute_reply": "2025-05-26T08:44:16.869455Z"
    },
    "papermill": {
     "duration": 1284.514978,
     "end_time": "2025-05-26T08:44:17.249973",
     "exception": false,
     "start_time": "2025-05-26T08:22:52.734995",
     "status": "completed"
    },
    "tags": []
   },
   "outputs": [
    {
     "name": "stdout",
     "output_type": "stream",
     "text": [
      "Downloading https://github.com/ultralytics/assets/releases/download/v8.3.0/yolov8s.pt to 'yolov8s.pt'...\n"
     ]
    },
    {
     "name": "stderr",
     "output_type": "stream",
     "text": [
      "100%|██████████| 21.5M/21.5M [00:00<00:00, 112MB/s] \n"
     ]
    },
    {
     "name": "stdout",
     "output_type": "stream",
     "text": [
      "Ultralytics 8.3.145 🚀 Python-3.11.11 torch-2.6.0+cu124 CUDA:0 (Tesla P100-PCIE-16GB, 16269MiB)\n",
      "\u001b[34m\u001b[1mengine/trainer: \u001b[0magnostic_nms=False, amp=True, augment=False, auto_augment=randaugment, batch=16, bgr=0.0, box=7.5, cache=False, cfg=None, classes=None, close_mosaic=10, cls=0.5, conf=None, copy_paste=0.0, copy_paste_mode=flip, cos_lr=False, cutmix=0.0, data=/kaggle/working/yolo_license_plate/data.yaml, degrees=0.0, deterministic=True, device=0, dfl=1.5, dnn=False, dropout=0.0, dynamic=False, embed=None, epochs=50, erasing=0.4, exist_ok=False, fliplr=0.5, flipud=0.0, format=torchscript, fraction=1.0, freeze=None, half=False, hsv_h=0.015, hsv_s=0.7, hsv_v=0.4, imgsz=640, int8=False, iou=0.7, keras=False, kobj=1.0, line_width=None, lr0=0.01, lrf=0.01, mask_ratio=4, max_det=300, mixup=0.0, mode=train, model=yolov8s.pt, momentum=0.937, mosaic=1.0, multi_scale=False, name=yolov11_license_plate, nbs=64, nms=False, opset=None, optimize=False, optimizer=auto, overlap_mask=True, patience=100, perspective=0.0, plots=True, pose=12.0, pretrained=True, profile=False, project=/kaggle/working/yolo_license_plate, rect=False, resume=False, retina_masks=False, save=True, save_conf=False, save_crop=False, save_dir=/kaggle/working/yolo_license_plate/yolov11_license_plate, save_frames=False, save_json=False, save_period=-1, save_txt=False, scale=0.5, seed=0, shear=0.0, show=False, show_boxes=True, show_conf=True, show_labels=True, simplify=True, single_cls=False, source=None, split=val, stream_buffer=False, task=detect, time=None, tracker=botsort.yaml, translate=0.1, val=True, verbose=True, vid_stride=1, visualize=False, warmup_bias_lr=0.1, warmup_epochs=3.0, warmup_momentum=0.8, weight_decay=0.0005, workers=8, workspace=None\n",
      "Downloading https://ultralytics.com/assets/Arial.ttf to '/root/.config/Ultralytics/Arial.ttf'...\n"
     ]
    },
    {
     "name": "stderr",
     "output_type": "stream",
     "text": [
      "100%|██████████| 755k/755k [00:00<00:00, 29.6MB/s]\n"
     ]
    },
    {
     "name": "stdout",
     "output_type": "stream",
     "text": [
      "Overriding model.yaml nc=80 with nc=1\n",
      "\n",
      "                   from  n    params  module                                       arguments                     \n",
      "  0                  -1  1       928  ultralytics.nn.modules.conv.Conv             [3, 32, 3, 2]                 \n",
      "  1                  -1  1     18560  ultralytics.nn.modules.conv.Conv             [32, 64, 3, 2]                \n",
      "  2                  -1  1     29056  ultralytics.nn.modules.block.C2f             [64, 64, 1, True]             \n",
      "  3                  -1  1     73984  ultralytics.nn.modules.conv.Conv             [64, 128, 3, 2]               \n",
      "  4                  -1  2    197632  ultralytics.nn.modules.block.C2f             [128, 128, 2, True]           \n",
      "  5                  -1  1    295424  ultralytics.nn.modules.conv.Conv             [128, 256, 3, 2]              \n",
      "  6                  -1  2    788480  ultralytics.nn.modules.block.C2f             [256, 256, 2, True]           \n",
      "  7                  -1  1   1180672  ultralytics.nn.modules.conv.Conv             [256, 512, 3, 2]              \n",
      "  8                  -1  1   1838080  ultralytics.nn.modules.block.C2f             [512, 512, 1, True]           \n",
      "  9                  -1  1    656896  ultralytics.nn.modules.block.SPPF            [512, 512, 5]                 \n",
      " 10                  -1  1         0  torch.nn.modules.upsampling.Upsample         [None, 2, 'nearest']          \n",
      " 11             [-1, 6]  1         0  ultralytics.nn.modules.conv.Concat           [1]                           \n",
      " 12                  -1  1    591360  ultralytics.nn.modules.block.C2f             [768, 256, 1]                 \n",
      " 13                  -1  1         0  torch.nn.modules.upsampling.Upsample         [None, 2, 'nearest']          \n",
      " 14             [-1, 4]  1         0  ultralytics.nn.modules.conv.Concat           [1]                           \n",
      " 15                  -1  1    148224  ultralytics.nn.modules.block.C2f             [384, 128, 1]                 \n",
      " 16                  -1  1    147712  ultralytics.nn.modules.conv.Conv             [128, 128, 3, 2]              \n",
      " 17            [-1, 12]  1         0  ultralytics.nn.modules.conv.Concat           [1]                           \n",
      " 18                  -1  1    493056  ultralytics.nn.modules.block.C2f             [384, 256, 1]                 \n",
      " 19                  -1  1    590336  ultralytics.nn.modules.conv.Conv             [256, 256, 3, 2]              \n",
      " 20             [-1, 9]  1         0  ultralytics.nn.modules.conv.Concat           [1]                           \n",
      " 21                  -1  1   1969152  ultralytics.nn.modules.block.C2f             [768, 512, 1]                 \n",
      " 22        [15, 18, 21]  1   2116435  ultralytics.nn.modules.head.Detect           [1, [128, 256, 512]]          \n",
      "Model summary: 129 layers, 11,135,987 parameters, 11,135,971 gradients, 28.6 GFLOPs\n",
      "\n",
      "Transferred 349/355 items from pretrained weights\n",
      "Freezing layer 'model.22.dfl.conv.weight'\n",
      "\u001b[34m\u001b[1mAMP: \u001b[0mrunning Automatic Mixed Precision (AMP) checks...\n",
      "Downloading https://github.com/ultralytics/assets/releases/download/v8.3.0/yolo11n.pt to 'yolo11n.pt'...\n"
     ]
    },
    {
     "name": "stderr",
     "output_type": "stream",
     "text": [
      "100%|██████████| 5.35M/5.35M [00:00<00:00, 89.0MB/s]\n"
     ]
    },
    {
     "name": "stdout",
     "output_type": "stream",
     "text": [
      "\u001b[34m\u001b[1mAMP: \u001b[0mchecks passed ✅\n",
      "\u001b[34m\u001b[1mtrain: \u001b[0mFast image access ✅ (ping: 0.0±0.0 ms, read: 1612.5±746.3 MB/s, size: 85.1 KB)\n"
     ]
    },
    {
     "name": "stderr",
     "output_type": "stream",
     "text": [
      "\u001b[34m\u001b[1mtrain: \u001b[0mScanning /kaggle/working/yolo_license_plate/datasets/license_plate/labels/train... 1080 images, 0 backgrounds, 0 corrupt: 100%|██████████| 1080/1080 [00:00<00:00, 1387.30it/s]"
     ]
    },
    {
     "name": "stdout",
     "output_type": "stream",
     "text": [
      "\u001b[34m\u001b[1mtrain: \u001b[0m/kaggle/working/yolo_license_plate/datasets/license_plate/images/train/Vehicle1644.jpg: corrupt JPEG restored and saved\n",
      "\u001b[34m\u001b[1mtrain: \u001b[0mNew cache created: /kaggle/working/yolo_license_plate/datasets/license_plate/labels/train.cache\n"
     ]
    },
    {
     "name": "stderr",
     "output_type": "stream",
     "text": [
      "\n"
     ]
    },
    {
     "name": "stdout",
     "output_type": "stream",
     "text": [
      "\u001b[34m\u001b[1malbumentations: \u001b[0mBlur(p=0.01, blur_limit=(3, 7)), MedianBlur(p=0.01, blur_limit=(3, 7)), ToGray(p=0.01, num_output_channels=3, method='weighted_average'), CLAHE(p=0.01, clip_limit=(1.0, 4.0), tile_grid_size=(8, 8))\n",
      "\u001b[34m\u001b[1mval: \u001b[0mFast image access ✅ (ping: 0.0±0.0 ms, read: 371.1±64.1 MB/s, size: 94.3 KB)\n"
     ]
    },
    {
     "name": "stderr",
     "output_type": "stream",
     "text": [
      "\u001b[34m\u001b[1mval: \u001b[0mScanning /kaggle/working/yolo_license_plate/datasets/license_plate/labels/val... 463 images, 0 backgrounds, 0 corrupt: 100%|██████████| 463/463 [00:00<00:00, 1879.58it/s]"
     ]
    },
    {
     "name": "stdout",
     "output_type": "stream",
     "text": [
      "\u001b[34m\u001b[1mval: \u001b[0mNew cache created: /kaggle/working/yolo_license_plate/datasets/license_plate/labels/val.cache\n"
     ]
    },
    {
     "name": "stderr",
     "output_type": "stream",
     "text": [
      "\n"
     ]
    },
    {
     "name": "stdout",
     "output_type": "stream",
     "text": [
      "Plotting labels to /kaggle/working/yolo_license_plate/yolov11_license_plate/labels.jpg... \n",
      "\u001b[34m\u001b[1moptimizer:\u001b[0m 'optimizer=auto' found, ignoring 'lr0=0.01' and 'momentum=0.937' and determining best 'optimizer', 'lr0' and 'momentum' automatically... \n",
      "\u001b[34m\u001b[1moptimizer:\u001b[0m AdamW(lr=0.002, momentum=0.9) with parameter groups 57 weight(decay=0.0), 64 weight(decay=0.0005), 63 bias(decay=0.0)\n",
      "Image sizes 640 train, 640 val\n",
      "Using 4 dataloader workers\n",
      "Logging results to \u001b[1m/kaggle/working/yolo_license_plate/yolov11_license_plate\u001b[0m\n",
      "Starting training for 50 epochs...\n",
      "\n",
      "      Epoch    GPU_mem   box_loss   cls_loss   dfl_loss  Instances       Size\n"
     ]
    },
    {
     "name": "stderr",
     "output_type": "stream",
     "text": [
      "       1/50      4.31G      1.698       4.37      1.647         20        640:  34%|███▍      | 23/68 [00:08<00:14,  3.01it/s]libpng warning: iCCP: profile 'ICC Profile': 0h: PCS illuminant is not D50\n",
      "       1/50      4.31G      1.627      3.679      1.562         35        640:  44%|████▍     | 30/68 [00:10<00:12,  3.13it/s]libpng warning: iCCP: profile 'ICC Profile': 0h: PCS illuminant is not D50\n",
      "       1/50      4.32G      1.551      2.245      1.447         18        640: 100%|██████████| 68/68 [00:22<00:00,  3.02it/s]\n",
      "                 Class     Images  Instances      Box(P          R      mAP50  mAP50-95): 100%|██████████| 15/15 [00:04<00:00,  3.14it/s]\n"
     ]
    },
    {
     "name": "stdout",
     "output_type": "stream",
     "text": [
      "                   all        463        472      0.718      0.653      0.718      0.374\n",
      "\n",
      "      Epoch    GPU_mem   box_loss   cls_loss   dfl_loss  Instances       Size\n"
     ]
    },
    {
     "name": "stderr",
     "output_type": "stream",
     "text": [
      "       2/50      4.36G      1.417     0.9753      1.319         31        640:  18%|█▊        | 12/68 [00:03<00:17,  3.26it/s]libpng warning: iCCP: profile 'ICC Profile': 0h: PCS illuminant is not D50\n",
      "       2/50      4.36G      1.486      1.055      1.383         27        640:  75%|███████▌  | 51/68 [00:15<00:05,  3.25it/s]libpng warning: iCCP: profile 'ICC Profile': 0h: PCS illuminant is not D50\n",
      "       2/50      4.36G      1.488      1.038      1.393         31        640:  97%|█████████▋| 66/68 [00:20<00:00,  3.30it/s]libpng warning: iCCP: profile 'ICC Profile': 0h: PCS illuminant is not D50\n",
      "       2/50      4.36G      1.498      1.042        1.4         13        640: 100%|██████████| 68/68 [00:21<00:00,  3.23it/s]\n",
      "                 Class     Images  Instances      Box(P          R      mAP50  mAP50-95): 100%|██████████| 15/15 [00:03<00:00,  4.12it/s]"
     ]
    },
    {
     "name": "stdout",
     "output_type": "stream",
     "text": [
      "                   all        463        472      0.273        0.5      0.189     0.0975\n"
     ]
    },
    {
     "name": "stderr",
     "output_type": "stream",
     "text": [
      "\n"
     ]
    },
    {
     "name": "stdout",
     "output_type": "stream",
     "text": [
      "\n",
      "      Epoch    GPU_mem   box_loss   cls_loss   dfl_loss  Instances       Size\n"
     ]
    },
    {
     "name": "stderr",
     "output_type": "stream",
     "text": [
      "       3/50       4.4G      1.514     0.9995      1.408         16        640: 100%|██████████| 68/68 [00:20<00:00,  3.27it/s]\n",
      "                 Class     Images  Instances      Box(P          R      mAP50  mAP50-95): 100%|██████████| 15/15 [00:03<00:00,  4.03it/s]"
     ]
    },
    {
     "name": "stdout",
     "output_type": "stream",
     "text": [
      "                   all        463        472      0.769      0.767       0.81      0.437\n"
     ]
    },
    {
     "name": "stderr",
     "output_type": "stream",
     "text": [
      "\n"
     ]
    },
    {
     "name": "stdout",
     "output_type": "stream",
     "text": [
      "\n",
      "      Epoch    GPU_mem   box_loss   cls_loss   dfl_loss  Instances       Size\n"
     ]
    },
    {
     "name": "stderr",
     "output_type": "stream",
     "text": [
      "       4/50      4.43G      1.518      1.027      1.436         33        640:  29%|██▉       | 20/68 [00:06<00:15,  3.19it/s]libpng warning: iCCP: profile 'ICC Profile': 0h: PCS illuminant is not D50\n",
      "       4/50      4.43G      1.517      1.043      1.432         28        640:  56%|█████▌    | 38/68 [00:11<00:09,  3.25it/s]libpng warning: iCCP: profile 'ICC Profile': 0h: PCS illuminant is not D50\n",
      "       4/50      4.43G      1.487      1.009      1.411         19        640: 100%|██████████| 68/68 [00:20<00:00,  3.28it/s]\n",
      "                 Class     Images  Instances      Box(P          R      mAP50  mAP50-95): 100%|██████████| 15/15 [00:03<00:00,  4.08it/s]"
     ]
    },
    {
     "name": "stdout",
     "output_type": "stream",
     "text": [
      "                   all        463        472      0.873      0.864      0.895      0.504\n"
     ]
    },
    {
     "name": "stderr",
     "output_type": "stream",
     "text": [
      "\n"
     ]
    },
    {
     "name": "stdout",
     "output_type": "stream",
     "text": [
      "\n",
      "      Epoch    GPU_mem   box_loss   cls_loss   dfl_loss  Instances       Size\n"
     ]
    },
    {
     "name": "stderr",
     "output_type": "stream",
     "text": [
      "       5/50      4.47G      1.478      0.943      1.429         23        640:  43%|████▎     | 29/68 [00:08<00:11,  3.28it/s]libpng warning: iCCP: profile 'ICC Profile': 0h: PCS illuminant is not D50\n",
      "       5/50      4.47G      1.465     0.9398      1.414         34        640:  79%|███████▉  | 54/68 [00:16<00:04,  3.24it/s]libpng warning: iCCP: profile 'ICC Profile': 0h: PCS illuminant is not D50\n",
      "       5/50      4.47G      1.475     0.9321      1.417         18        640: 100%|██████████| 68/68 [00:20<00:00,  3.27it/s]\n",
      "                 Class     Images  Instances      Box(P          R      mAP50  mAP50-95): 100%|██████████| 15/15 [00:03<00:00,  4.10it/s]"
     ]
    },
    {
     "name": "stdout",
     "output_type": "stream",
     "text": [
      "                   all        463        472      0.722      0.797      0.735      0.409\n"
     ]
    },
    {
     "name": "stderr",
     "output_type": "stream",
     "text": [
      "\n"
     ]
    },
    {
     "name": "stdout",
     "output_type": "stream",
     "text": [
      "\n",
      "      Epoch    GPU_mem   box_loss   cls_loss   dfl_loss  Instances       Size\n"
     ]
    },
    {
     "name": "stderr",
     "output_type": "stream",
     "text": [
      "       6/50       4.5G      1.461     0.8777      1.386         40        640:  29%|██▉       | 20/68 [00:06<00:14,  3.26it/s]libpng warning: iCCP: profile 'ICC Profile': 0h: PCS illuminant is not D50\n",
      "       6/50       4.5G      1.464     0.8576      1.397         40        640:  57%|█████▋    | 39/68 [00:11<00:08,  3.24it/s]libpng warning: iCCP: profile 'ICC Profile': 0h: PCS illuminant is not D50\n",
      "       6/50       4.5G      1.452     0.8617      1.386         40        640:  90%|████████▉ | 61/68 [00:18<00:02,  3.20it/s]libpng warning: iCCP: profile 'ICC Profile': 0h: PCS illuminant is not D50\n",
      "       6/50      4.51G      1.448     0.8594       1.38         12        640: 100%|██████████| 68/68 [00:20<00:00,  3.28it/s]\n",
      "                 Class     Images  Instances      Box(P          R      mAP50  mAP50-95): 100%|██████████| 15/15 [00:03<00:00,  4.08it/s]"
     ]
    },
    {
     "name": "stdout",
     "output_type": "stream",
     "text": [
      "                   all        463        472      0.929      0.864      0.924      0.512\n"
     ]
    },
    {
     "name": "stderr",
     "output_type": "stream",
     "text": [
      "\n"
     ]
    },
    {
     "name": "stdout",
     "output_type": "stream",
     "text": [
      "\n",
      "      Epoch    GPU_mem   box_loss   cls_loss   dfl_loss  Instances       Size\n"
     ]
    },
    {
     "name": "stderr",
     "output_type": "stream",
     "text": [
      "       7/50      4.54G      1.543     0.8972      1.436         24        640:  12%|█▏        | 8/68 [00:02<00:18,  3.25it/s]libpng warning: iCCP: profile 'ICC Profile': 0h: PCS illuminant is not D50\n",
      "       7/50      4.54G      1.468     0.8774      1.385         35        640:  90%|████████▉ | 61/68 [00:18<00:02,  3.25it/s]libpng warning: iCCP: profile 'ICC Profile': 0h: PCS illuminant is not D50\n",
      "       7/50      4.54G       1.47     0.8758      1.386         14        640: 100%|██████████| 68/68 [00:20<00:00,  3.26it/s]\n",
      "                 Class     Images  Instances      Box(P          R      mAP50  mAP50-95): 100%|██████████| 15/15 [00:03<00:00,  4.07it/s]"
     ]
    },
    {
     "name": "stdout",
     "output_type": "stream",
     "text": [
      "                   all        463        472      0.956      0.936      0.968      0.526\n"
     ]
    },
    {
     "name": "stderr",
     "output_type": "stream",
     "text": [
      "\n"
     ]
    },
    {
     "name": "stdout",
     "output_type": "stream",
     "text": [
      "\n",
      "      Epoch    GPU_mem   box_loss   cls_loss   dfl_loss  Instances       Size\n"
     ]
    },
    {
     "name": "stderr",
     "output_type": "stream",
     "text": [
      "       8/50      4.58G      1.463     0.8516      1.372         33        640:  46%|████▌     | 31/68 [00:09<00:11,  3.27it/s]libpng warning: iCCP: profile 'ICC Profile': 0h: PCS illuminant is not D50\n",
      "       8/50      4.58G      1.457     0.8459      1.372         18        640: 100%|██████████| 68/68 [00:20<00:00,  3.29it/s]\n",
      "                 Class     Images  Instances      Box(P          R      mAP50  mAP50-95): 100%|██████████| 15/15 [00:03<00:00,  3.87it/s]"
     ]
    },
    {
     "name": "stdout",
     "output_type": "stream",
     "text": [
      "                   all        463        472      0.844      0.706      0.788      0.447\n"
     ]
    },
    {
     "name": "stderr",
     "output_type": "stream",
     "text": [
      "\n"
     ]
    },
    {
     "name": "stdout",
     "output_type": "stream",
     "text": [
      "\n",
      "      Epoch    GPU_mem   box_loss   cls_loss   dfl_loss  Instances       Size\n"
     ]
    },
    {
     "name": "stderr",
     "output_type": "stream",
     "text": [
      "       9/50      4.61G      1.484     0.8221       1.35         29        640:  10%|█         | 7/68 [00:02<00:18,  3.27it/s]libpng warning: iCCP: profile 'ICC Profile': 0h: PCS illuminant is not D50\n",
      "       9/50      4.61G      1.478     0.8605      1.358         41        640:  35%|███▌      | 24/68 [00:07<00:13,  3.21it/s]libpng warning: iCCP: profile 'ICC Profile': 0h: PCS illuminant is not D50\n",
      "       9/50      4.61G      1.448      0.831      1.359         16        640: 100%|██████████| 68/68 [00:20<00:00,  3.28it/s]\n",
      "                 Class     Images  Instances      Box(P          R      mAP50  mAP50-95): 100%|██████████| 15/15 [00:03<00:00,  4.04it/s]"
     ]
    },
    {
     "name": "stdout",
     "output_type": "stream",
     "text": [
      "                   all        463        472      0.868      0.936      0.879      0.491\n"
     ]
    },
    {
     "name": "stderr",
     "output_type": "stream",
     "text": [
      "\n"
     ]
    },
    {
     "name": "stdout",
     "output_type": "stream",
     "text": [
      "\n",
      "      Epoch    GPU_mem   box_loss   cls_loss   dfl_loss  Instances       Size\n"
     ]
    },
    {
     "name": "stderr",
     "output_type": "stream",
     "text": [
      "      10/50      4.65G       1.42     0.7677      1.365         24        640:  13%|█▎        | 9/68 [00:02<00:18,  3.27it/s]libpng warning: iCCP: profile 'ICC Profile': 0h: PCS illuminant is not D50\n",
      "      10/50      4.65G      1.393     0.7834      1.353         26        640:  74%|███████▎  | 50/68 [00:15<00:05,  3.26it/s]libpng warning: iCCP: profile 'ICC Profile': 0h: PCS illuminant is not D50\n",
      "      10/50      4.65G      1.394     0.7865      1.357         32        640:  93%|█████████▎| 63/68 [00:19<00:01,  3.33it/s]libpng warning: iCCP: profile 'ICC Profile': 0h: PCS illuminant is not D50\n",
      "      10/50      4.65G      1.397     0.7871      1.358         17        640: 100%|██████████| 68/68 [00:20<00:00,  3.26it/s]\n",
      "                 Class     Images  Instances      Box(P          R      mAP50  mAP50-95): 100%|██████████| 15/15 [00:03<00:00,  4.07it/s]"
     ]
    },
    {
     "name": "stdout",
     "output_type": "stream",
     "text": [
      "                   all        463        472      0.899      0.924      0.932      0.438\n"
     ]
    },
    {
     "name": "stderr",
     "output_type": "stream",
     "text": [
      "\n"
     ]
    },
    {
     "name": "stdout",
     "output_type": "stream",
     "text": [
      "\n",
      "      Epoch    GPU_mem   box_loss   cls_loss   dfl_loss  Instances       Size\n"
     ]
    },
    {
     "name": "stderr",
     "output_type": "stream",
     "text": [
      "      11/50      4.69G      1.399     0.7598      1.321         30        640:  81%|████████  | 55/68 [00:16<00:04,  3.18it/s]libpng warning: iCCP: profile 'ICC Profile': 0h: PCS illuminant is not D50\n",
      "      11/50      4.69G      1.401     0.7565      1.326         13        640: 100%|██████████| 68/68 [00:20<00:00,  3.27it/s]\n",
      "                 Class     Images  Instances      Box(P          R      mAP50  mAP50-95): 100%|██████████| 15/15 [00:03<00:00,  4.07it/s]"
     ]
    },
    {
     "name": "stdout",
     "output_type": "stream",
     "text": [
      "                   all        463        472      0.959      0.948      0.969      0.556\n"
     ]
    },
    {
     "name": "stderr",
     "output_type": "stream",
     "text": [
      "\n"
     ]
    },
    {
     "name": "stdout",
     "output_type": "stream",
     "text": [
      "\n",
      "      Epoch    GPU_mem   box_loss   cls_loss   dfl_loss  Instances       Size\n"
     ]
    },
    {
     "name": "stderr",
     "output_type": "stream",
     "text": [
      "      12/50      4.72G      1.403     0.7561      1.341         37        640:  50%|█████     | 34/68 [00:10<00:10,  3.24it/s]libpng warning: iCCP: profile 'ICC Profile': 0h: PCS illuminant is not D50\n",
      "      12/50      4.72G      1.398     0.7538      1.335         32        640:  54%|█████▍    | 37/68 [00:11<00:09,  3.20it/s]libpng warning: iCCP: profile 'ICC Profile': 0h: PCS illuminant is not D50\n",
      "      12/50      4.72G      1.411     0.7617      1.348         10        640: 100%|██████████| 68/68 [00:20<00:00,  3.27it/s]\n",
      "                 Class     Images  Instances      Box(P          R      mAP50  mAP50-95): 100%|██████████| 15/15 [00:03<00:00,  3.96it/s]"
     ]
    },
    {
     "name": "stdout",
     "output_type": "stream",
     "text": [
      "                   all        463        472      0.953      0.943      0.973      0.559\n"
     ]
    },
    {
     "name": "stderr",
     "output_type": "stream",
     "text": [
      "\n"
     ]
    },
    {
     "name": "stdout",
     "output_type": "stream",
     "text": [
      "\n",
      "      Epoch    GPU_mem   box_loss   cls_loss   dfl_loss  Instances       Size\n"
     ]
    },
    {
     "name": "stderr",
     "output_type": "stream",
     "text": [
      "      13/50      4.76G      1.394     0.7385      1.328         28        640:  54%|█████▍    | 37/68 [00:11<00:09,  3.27it/s]libpng warning: iCCP: profile 'ICC Profile': 0h: PCS illuminant is not D50\n",
      "      13/50      4.76G      1.398     0.7336      1.329         36        640:  78%|███████▊  | 53/68 [00:16<00:04,  3.28it/s]libpng warning: iCCP: profile 'ICC Profile': 0h: PCS illuminant is not D50\n",
      "      13/50      4.76G       1.39     0.7283      1.327         17        640: 100%|██████████| 68/68 [00:20<00:00,  3.32it/s]\n",
      "                 Class     Images  Instances      Box(P          R      mAP50  mAP50-95): 100%|██████████| 15/15 [00:03<00:00,  4.01it/s]"
     ]
    },
    {
     "name": "stdout",
     "output_type": "stream",
     "text": [
      "                   all        463        472      0.961      0.947       0.97      0.558\n"
     ]
    },
    {
     "name": "stderr",
     "output_type": "stream",
     "text": [
      "\n"
     ]
    },
    {
     "name": "stdout",
     "output_type": "stream",
     "text": [
      "\n",
      "      Epoch    GPU_mem   box_loss   cls_loss   dfl_loss  Instances       Size\n"
     ]
    },
    {
     "name": "stderr",
     "output_type": "stream",
     "text": [
      "      14/50      4.79G      1.382     0.6956      1.337         30        640:  15%|█▍        | 10/68 [00:03<00:18,  3.14it/s]libpng warning: iCCP: profile 'ICC Profile': 0h: PCS illuminant is not D50\n",
      "      14/50       4.8G      1.366     0.7121      1.337         12        640: 100%|██████████| 68/68 [00:20<00:00,  3.27it/s]\n",
      "                 Class     Images  Instances      Box(P          R      mAP50  mAP50-95): 100%|██████████| 15/15 [00:03<00:00,  4.20it/s]"
     ]
    },
    {
     "name": "stdout",
     "output_type": "stream",
     "text": [
      "                   all        463        472      0.964      0.949      0.971      0.556\n"
     ]
    },
    {
     "name": "stderr",
     "output_type": "stream",
     "text": [
      "\n"
     ]
    },
    {
     "name": "stdout",
     "output_type": "stream",
     "text": [
      "\n",
      "      Epoch    GPU_mem   box_loss   cls_loss   dfl_loss  Instances       Size\n"
     ]
    },
    {
     "name": "stderr",
     "output_type": "stream",
     "text": [
      "      15/50      4.83G      1.404     0.7486       1.38         21        640:  72%|███████▏  | 49/68 [00:14<00:05,  3.23it/s]libpng warning: iCCP: profile 'ICC Profile': 0h: PCS illuminant is not D50\n",
      "      15/50      4.83G      1.391     0.7398      1.366         43        640:  88%|████████▊ | 60/68 [00:18<00:02,  3.19it/s]libpng warning: iCCP: profile 'ICC Profile': 0h: PCS illuminant is not D50\n",
      "      15/50      4.83G      1.386     0.7348      1.362         24        640: 100%|██████████| 68/68 [00:20<00:00,  3.29it/s]\n",
      "                 Class     Images  Instances      Box(P          R      mAP50  mAP50-95): 100%|██████████| 15/15 [00:03<00:00,  4.11it/s]"
     ]
    },
    {
     "name": "stdout",
     "output_type": "stream",
     "text": [
      "                   all        463        472      0.925      0.915      0.957      0.544\n"
     ]
    },
    {
     "name": "stderr",
     "output_type": "stream",
     "text": [
      "\n"
     ]
    },
    {
     "name": "stdout",
     "output_type": "stream",
     "text": [
      "\n",
      "      Epoch    GPU_mem   box_loss   cls_loss   dfl_loss  Instances       Size\n"
     ]
    },
    {
     "name": "stderr",
     "output_type": "stream",
     "text": [
      "      16/50      4.87G      1.365     0.7072      1.316         32        640:  69%|██████▉   | 47/68 [00:14<00:06,  3.31it/s]libpng warning: iCCP: profile 'ICC Profile': 0h: PCS illuminant is not D50\n",
      "      16/50      4.87G      1.362        0.7      1.315         26        640:  84%|████████▍ | 57/68 [00:17<00:03,  3.11it/s]libpng warning: iCCP: profile 'ICC Profile': 0h: PCS illuminant is not D50\n",
      "      16/50      4.87G      1.359     0.6952      1.316         15        640: 100%|██████████| 68/68 [00:20<00:00,  3.29it/s]\n",
      "                 Class     Images  Instances      Box(P          R      mAP50  mAP50-95): 100%|██████████| 15/15 [00:03<00:00,  4.07it/s]"
     ]
    },
    {
     "name": "stdout",
     "output_type": "stream",
     "text": [
      "                   all        463        472      0.942      0.956      0.972      0.556\n"
     ]
    },
    {
     "name": "stderr",
     "output_type": "stream",
     "text": [
      "\n"
     ]
    },
    {
     "name": "stdout",
     "output_type": "stream",
     "text": [
      "\n",
      "      Epoch    GPU_mem   box_loss   cls_loss   dfl_loss  Instances       Size\n"
     ]
    },
    {
     "name": "stderr",
     "output_type": "stream",
     "text": [
      "      17/50       4.9G      1.206     0.6918      1.259         29        640:   3%|▎         | 2/68 [00:00<00:19,  3.34it/s]libpng warning: iCCP: profile 'ICC Profile': 0h: PCS illuminant is not D50\n",
      "      17/50       4.9G      1.338     0.6995      1.309         32        640:  62%|██████▏   | 42/68 [00:12<00:08,  3.23it/s]libpng warning: iCCP: profile 'ICC Profile': 0h: PCS illuminant is not D50\n",
      "      17/50       4.9G      1.329     0.6905      1.301         18        640: 100%|██████████| 68/68 [00:20<00:00,  3.29it/s]\n",
      "                 Class     Images  Instances      Box(P          R      mAP50  mAP50-95): 100%|██████████| 15/15 [00:03<00:00,  3.84it/s]"
     ]
    },
    {
     "name": "stdout",
     "output_type": "stream",
     "text": [
      "                   all        463        472      0.963      0.966      0.979      0.593\n"
     ]
    },
    {
     "name": "stderr",
     "output_type": "stream",
     "text": [
      "\n"
     ]
    },
    {
     "name": "stdout",
     "output_type": "stream",
     "text": [
      "\n",
      "      Epoch    GPU_mem   box_loss   cls_loss   dfl_loss  Instances       Size\n"
     ]
    },
    {
     "name": "stderr",
     "output_type": "stream",
     "text": [
      "      18/50      4.94G      1.302     0.6792      1.284         32        640:  15%|█▍        | 10/68 [00:03<00:17,  3.27it/s]libpng warning: iCCP: profile 'ICC Profile': 0h: PCS illuminant is not D50\n",
      "      18/50      4.94G      1.328     0.7015      1.312         32        640:  69%|██████▉   | 47/68 [00:14<00:06,  3.29it/s]libpng warning: iCCP: profile 'ICC Profile': 0h: PCS illuminant is not D50\n",
      "      18/50      4.94G      1.325     0.6998      1.307         37        640:  93%|█████████▎| 63/68 [00:19<00:01,  3.35it/s]libpng warning: iCCP: profile 'ICC Profile': 0h: PCS illuminant is not D50\n",
      "      18/50      4.94G      1.325     0.6968      1.305         16        640: 100%|██████████| 68/68 [00:20<00:00,  3.29it/s]\n",
      "                 Class     Images  Instances      Box(P          R      mAP50  mAP50-95): 100%|██████████| 15/15 [00:03<00:00,  4.09it/s]"
     ]
    },
    {
     "name": "stdout",
     "output_type": "stream",
     "text": [
      "                   all        463        472      0.964      0.951      0.986      0.593\n"
     ]
    },
    {
     "name": "stderr",
     "output_type": "stream",
     "text": [
      "\n"
     ]
    },
    {
     "name": "stdout",
     "output_type": "stream",
     "text": [
      "\n",
      "      Epoch    GPU_mem   box_loss   cls_loss   dfl_loss  Instances       Size\n"
     ]
    },
    {
     "name": "stderr",
     "output_type": "stream",
     "text": [
      "      19/50      4.97G      1.291     0.6429      1.268         31        640:  46%|████▌     | 31/68 [00:09<00:11,  3.29it/s]libpng warning: iCCP: profile 'ICC Profile': 0h: PCS illuminant is not D50\n",
      "      19/50      4.98G      1.292     0.6555      1.287         13        640: 100%|██████████| 68/68 [00:20<00:00,  3.30it/s]\n",
      "                 Class     Images  Instances      Box(P          R      mAP50  mAP50-95): 100%|██████████| 15/15 [00:03<00:00,  4.16it/s]"
     ]
    },
    {
     "name": "stdout",
     "output_type": "stream",
     "text": [
      "                   all        463        472      0.964       0.96      0.983      0.591\n"
     ]
    },
    {
     "name": "stderr",
     "output_type": "stream",
     "text": [
      "\n"
     ]
    },
    {
     "name": "stdout",
     "output_type": "stream",
     "text": [
      "\n",
      "      Epoch    GPU_mem   box_loss   cls_loss   dfl_loss  Instances       Size\n"
     ]
    },
    {
     "name": "stderr",
     "output_type": "stream",
     "text": [
      "      20/50      5.01G       1.31     0.6504      1.308         28        640:  13%|█▎        | 9/68 [00:02<00:17,  3.34it/s]libpng warning: iCCP: profile 'ICC Profile': 0h: PCS illuminant is not D50\n",
      "      20/50      5.01G      1.304     0.6409      1.301         36        640:  53%|█████▎    | 36/68 [00:10<00:09,  3.28it/s]libpng warning: iCCP: profile 'ICC Profile': 0h: PCS illuminant is not D50\n",
      "      20/50      5.01G      1.302     0.6391      1.301         15        640: 100%|██████████| 68/68 [00:20<00:00,  3.26it/s]\n",
      "                 Class     Images  Instances      Box(P          R      mAP50  mAP50-95): 100%|██████████| 15/15 [00:03<00:00,  4.17it/s]"
     ]
    },
    {
     "name": "stdout",
     "output_type": "stream",
     "text": [
      "                   all        463        472      0.951      0.983      0.982      0.591\n"
     ]
    },
    {
     "name": "stderr",
     "output_type": "stream",
     "text": [
      "\n"
     ]
    },
    {
     "name": "stdout",
     "output_type": "stream",
     "text": [
      "\n",
      "      Epoch    GPU_mem   box_loss   cls_loss   dfl_loss  Instances       Size\n"
     ]
    },
    {
     "name": "stderr",
     "output_type": "stream",
     "text": [
      "      21/50      5.05G      1.296     0.6323      1.279         34        640:  60%|██████    | 41/68 [00:12<00:08,  3.22it/s]libpng warning: iCCP: profile 'ICC Profile': 0h: PCS illuminant is not D50\n",
      "      21/50      5.05G      1.305     0.6367      1.282         35        640:  78%|███████▊  | 53/68 [00:16<00:04,  3.25it/s]libpng warning: iCCP: profile 'ICC Profile': 0h: PCS illuminant is not D50\n",
      "      21/50      5.05G      1.307     0.6358      1.286         17        640: 100%|██████████| 68/68 [00:20<00:00,  3.27it/s]\n",
      "                 Class     Images  Instances      Box(P          R      mAP50  mAP50-95): 100%|██████████| 15/15 [00:03<00:00,  3.77it/s]"
     ]
    },
    {
     "name": "stdout",
     "output_type": "stream",
     "text": [
      "                   all        463        472      0.962       0.97      0.987      0.596\n"
     ]
    },
    {
     "name": "stderr",
     "output_type": "stream",
     "text": [
      "\n"
     ]
    },
    {
     "name": "stdout",
     "output_type": "stream",
     "text": [
      "\n",
      "      Epoch    GPU_mem   box_loss   cls_loss   dfl_loss  Instances       Size\n"
     ]
    },
    {
     "name": "stderr",
     "output_type": "stream",
     "text": [
      "      22/50      5.08G      1.326     0.6645       1.29         30        640:  31%|███       | 21/68 [00:06<00:14,  3.26it/s]libpng warning: iCCP: profile 'ICC Profile': 0h: PCS illuminant is not D50\n",
      "      22/50      5.09G      1.295     0.6475      1.277         13        640: 100%|██████████| 68/68 [00:20<00:00,  3.29it/s]\n",
      "                 Class     Images  Instances      Box(P          R      mAP50  mAP50-95): 100%|██████████| 15/15 [00:03<00:00,  4.19it/s]"
     ]
    },
    {
     "name": "stdout",
     "output_type": "stream",
     "text": [
      "                   all        463        472      0.971      0.956      0.984      0.593\n"
     ]
    },
    {
     "name": "stderr",
     "output_type": "stream",
     "text": [
      "\n"
     ]
    },
    {
     "name": "stdout",
     "output_type": "stream",
     "text": [
      "\n",
      "      Epoch    GPU_mem   box_loss   cls_loss   dfl_loss  Instances       Size\n"
     ]
    },
    {
     "name": "stderr",
     "output_type": "stream",
     "text": [
      "      23/50      5.12G      1.254     0.6094      1.266         31        640:   7%|▋         | 5/68 [00:01<00:19,  3.25it/s]libpng warning: iCCP: profile 'ICC Profile': 0h: PCS illuminant is not D50\n",
      "      23/50      5.12G      1.299     0.6303       1.28         34        640:  81%|████████  | 55/68 [00:16<00:03,  3.32it/s]libpng warning: iCCP: profile 'ICC Profile': 0h: PCS illuminant is not D50\n",
      "      23/50      5.12G       1.31     0.6319      1.287         31        640:  91%|█████████ | 62/68 [00:19<00:01,  3.24it/s]libpng warning: iCCP: profile 'ICC Profile': 0h: PCS illuminant is not D50\n",
      "      23/50      5.12G       1.31     0.6318       1.29         16        640: 100%|██████████| 68/68 [00:20<00:00,  3.26it/s]\n",
      "                 Class     Images  Instances      Box(P          R      mAP50  mAP50-95): 100%|██████████| 15/15 [00:03<00:00,  4.23it/s]"
     ]
    },
    {
     "name": "stdout",
     "output_type": "stream",
     "text": [
      "                   all        463        472      0.962      0.967      0.982       0.61\n"
     ]
    },
    {
     "name": "stderr",
     "output_type": "stream",
     "text": [
      "\n"
     ]
    },
    {
     "name": "stdout",
     "output_type": "stream",
     "text": [
      "\n",
      "      Epoch    GPU_mem   box_loss   cls_loss   dfl_loss  Instances       Size\n"
     ]
    },
    {
     "name": "stderr",
     "output_type": "stream",
     "text": [
      "      24/50      5.16G      1.296      0.646      1.297         31        640:  28%|██▊       | 19/68 [00:05<00:14,  3.31it/s]libpng warning: iCCP: profile 'ICC Profile': 0h: PCS illuminant is not D50\n",
      "      24/50      5.16G      1.277     0.6295      1.286         16        640: 100%|██████████| 68/68 [00:20<00:00,  3.28it/s]\n",
      "                 Class     Images  Instances      Box(P          R      mAP50  mAP50-95): 100%|██████████| 15/15 [00:03<00:00,  4.23it/s]"
     ]
    },
    {
     "name": "stdout",
     "output_type": "stream",
     "text": [
      "                   all        463        472      0.971      0.964      0.977      0.588\n"
     ]
    },
    {
     "name": "stderr",
     "output_type": "stream",
     "text": [
      "\n"
     ]
    },
    {
     "name": "stdout",
     "output_type": "stream",
     "text": [
      "\n",
      "      Epoch    GPU_mem   box_loss   cls_loss   dfl_loss  Instances       Size\n"
     ]
    },
    {
     "name": "stderr",
     "output_type": "stream",
     "text": [
      "      25/50      5.19G      1.237     0.6115      1.262         23        640:  10%|█         | 7/68 [00:02<00:18,  3.37it/s]libpng warning: iCCP: profile 'ICC Profile': 0h: PCS illuminant is not D50\n",
      "      25/50      5.19G      1.274     0.6187      1.267         24        640:  29%|██▉       | 20/68 [00:06<00:14,  3.27it/s]libpng warning: iCCP: profile 'ICC Profile': 0h: PCS illuminant is not D50\n",
      "      25/50       5.2G      1.274     0.6342      1.267         20        640: 100%|██████████| 68/68 [00:20<00:00,  3.29it/s]\n",
      "                 Class     Images  Instances      Box(P          R      mAP50  mAP50-95): 100%|██████████| 15/15 [00:03<00:00,  4.25it/s]"
     ]
    },
    {
     "name": "stdout",
     "output_type": "stream",
     "text": [
      "                   all        463        472      0.956      0.966      0.976      0.594\n"
     ]
    },
    {
     "name": "stderr",
     "output_type": "stream",
     "text": [
      "\n"
     ]
    },
    {
     "name": "stdout",
     "output_type": "stream",
     "text": [
      "\n",
      "      Epoch    GPU_mem   box_loss   cls_loss   dfl_loss  Instances       Size\n"
     ]
    },
    {
     "name": "stderr",
     "output_type": "stream",
     "text": [
      "      26/50      5.23G      1.318     0.6047      1.301         23        640:  13%|█▎        | 9/68 [00:02<00:17,  3.29it/s]libpng warning: iCCP: profile 'ICC Profile': 0h: PCS illuminant is not D50\n",
      "      26/50      5.23G      1.308     0.6129      1.284         28        640:  34%|███▍      | 23/68 [00:06<00:13,  3.33it/s]libpng warning: iCCP: profile 'ICC Profile': 0h: PCS illuminant is not D50\n",
      "      26/50      5.23G      1.263     0.6107      1.258         15        640: 100%|██████████| 68/68 [00:20<00:00,  3.28it/s]\n",
      "                 Class     Images  Instances      Box(P          R      mAP50  mAP50-95): 100%|██████████| 15/15 [00:03<00:00,  4.23it/s]"
     ]
    },
    {
     "name": "stdout",
     "output_type": "stream",
     "text": [
      "                   all        463        472      0.954       0.97      0.979      0.597\n"
     ]
    },
    {
     "name": "stderr",
     "output_type": "stream",
     "text": [
      "\n"
     ]
    },
    {
     "name": "stdout",
     "output_type": "stream",
     "text": [
      "\n",
      "      Epoch    GPU_mem   box_loss   cls_loss   dfl_loss  Instances       Size\n"
     ]
    },
    {
     "name": "stderr",
     "output_type": "stream",
     "text": [
      "      27/50      5.26G      1.281     0.6065      1.303         30        640:  10%|█         | 7/68 [00:02<00:18,  3.30it/s]libpng warning: iCCP: profile 'ICC Profile': 0h: PCS illuminant is not D50\n",
      "      27/50      5.27G      1.254     0.5909       1.25         29        640:  51%|█████▏    | 35/68 [00:10<00:09,  3.31it/s]libpng warning: iCCP: profile 'ICC Profile': 0h: PCS illuminant is not D50\n",
      "      27/50      5.27G       1.26      0.595      1.256         18        640: 100%|██████████| 68/68 [00:20<00:00,  3.31it/s]\n",
      "                 Class     Images  Instances      Box(P          R      mAP50  mAP50-95): 100%|██████████| 15/15 [00:03<00:00,  4.07it/s]"
     ]
    },
    {
     "name": "stdout",
     "output_type": "stream",
     "text": [
      "                   all        463        472      0.968      0.979      0.983        0.6\n"
     ]
    },
    {
     "name": "stderr",
     "output_type": "stream",
     "text": [
      "\n"
     ]
    },
    {
     "name": "stdout",
     "output_type": "stream",
     "text": [
      "\n",
      "      Epoch    GPU_mem   box_loss   cls_loss   dfl_loss  Instances       Size\n"
     ]
    },
    {
     "name": "stderr",
     "output_type": "stream",
     "text": [
      "  0%|          | 0/68 [00:00<?, ?it/s]libpng warning: iCCP: profile 'ICC Profile': 0h: PCS illuminant is not D50\n",
      "      28/50       5.3G      1.197     0.5844      1.221         31        640:  72%|███████▏  | 49/68 [00:15<00:05,  3.32it/s]libpng warning: iCCP: profile 'ICC Profile': 0h: PCS illuminant is not D50\n",
      "      28/50      5.31G       1.21     0.5807      1.228         13        640: 100%|██████████| 68/68 [00:20<00:00,  3.28it/s]\n",
      "                 Class     Images  Instances      Box(P          R      mAP50  mAP50-95): 100%|██████████| 15/15 [00:03<00:00,  4.15it/s]"
     ]
    },
    {
     "name": "stdout",
     "output_type": "stream",
     "text": [
      "                   all        463        472      0.969      0.964      0.987      0.598\n"
     ]
    },
    {
     "name": "stderr",
     "output_type": "stream",
     "text": [
      "\n"
     ]
    },
    {
     "name": "stdout",
     "output_type": "stream",
     "text": [
      "\n",
      "      Epoch    GPU_mem   box_loss   cls_loss   dfl_loss  Instances       Size\n"
     ]
    },
    {
     "name": "stderr",
     "output_type": "stream",
     "text": [
      "      29/50      5.34G      1.268     0.6053      1.264         35        640:  22%|██▏       | 15/68 [00:04<00:16,  3.22it/s]libpng warning: iCCP: profile 'ICC Profile': 0h: PCS illuminant is not D50\n",
      "      29/50      5.34G      1.271     0.5903      1.259         37        640:  35%|███▌      | 24/68 [00:07<00:13,  3.24it/s]libpng warning: iCCP: profile 'ICC Profile': 0h: PCS illuminant is not D50\n",
      "      29/50      5.34G       1.25     0.5839      1.246         34        640:  88%|████████▊ | 60/68 [00:18<00:02,  3.25it/s]libpng warning: iCCP: profile 'ICC Profile': 0h: PCS illuminant is not D50\n",
      "      29/50      5.34G      1.255     0.5854      1.245         16        640: 100%|██████████| 68/68 [00:20<00:00,  3.27it/s]\n",
      "                 Class     Images  Instances      Box(P          R      mAP50  mAP50-95): 100%|██████████| 15/15 [00:03<00:00,  4.14it/s]"
     ]
    },
    {
     "name": "stdout",
     "output_type": "stream",
     "text": [
      "                   all        463        472      0.962      0.981      0.982      0.585\n"
     ]
    },
    {
     "name": "stderr",
     "output_type": "stream",
     "text": [
      "\n"
     ]
    },
    {
     "name": "stdout",
     "output_type": "stream",
     "text": [
      "\n",
      "      Epoch    GPU_mem   box_loss   cls_loss   dfl_loss  Instances       Size\n"
     ]
    },
    {
     "name": "stderr",
     "output_type": "stream",
     "text": [
      "      30/50      5.37G      1.211      0.563      1.221         33        640:  35%|███▌      | 24/68 [00:07<00:13,  3.17it/s]libpng warning: iCCP: profile 'ICC Profile': 0h: PCS illuminant is not D50\n",
      "      30/50      5.38G      1.238     0.5894      1.244         13        640: 100%|██████████| 68/68 [00:20<00:00,  3.30it/s]\n",
      "                 Class     Images  Instances      Box(P          R      mAP50  mAP50-95):   0%|          | 0/15 [00:00<?, ?it/s]libpng warning: iCCP: profile 'ICC Profile': 0h: PCS illuminant is not D50\n",
      "                 Class     Images  Instances      Box(P          R      mAP50  mAP50-95): 100%|██████████| 15/15 [00:03<00:00,  3.78it/s]"
     ]
    },
    {
     "name": "stdout",
     "output_type": "stream",
     "text": [
      "                   all        463        472      0.976       0.97      0.986      0.604\n"
     ]
    },
    {
     "name": "stderr",
     "output_type": "stream",
     "text": [
      "\n"
     ]
    },
    {
     "name": "stdout",
     "output_type": "stream",
     "text": [
      "\n",
      "      Epoch    GPU_mem   box_loss   cls_loss   dfl_loss  Instances       Size\n"
     ]
    },
    {
     "name": "stderr",
     "output_type": "stream",
     "text": [
      "      31/50      5.41G      1.235     0.5695      1.244         26        640:  71%|███████   | 48/68 [00:14<00:06,  3.25it/s]libpng warning: iCCP: profile 'ICC Profile': 0h: PCS illuminant is not D50\n",
      "      31/50      5.42G      1.228     0.5673       1.23         16        640: 100%|██████████| 68/68 [00:20<00:00,  3.29it/s]\n",
      "                 Class     Images  Instances      Box(P          R      mAP50  mAP50-95): 100%|██████████| 15/15 [00:03<00:00,  4.15it/s]"
     ]
    },
    {
     "name": "stdout",
     "output_type": "stream",
     "text": [
      "                   all        463        472      0.969      0.978      0.982      0.593\n"
     ]
    },
    {
     "name": "stderr",
     "output_type": "stream",
     "text": [
      "\n"
     ]
    },
    {
     "name": "stdout",
     "output_type": "stream",
     "text": [
      "\n",
      "      Epoch    GPU_mem   box_loss   cls_loss   dfl_loss  Instances       Size\n"
     ]
    },
    {
     "name": "stderr",
     "output_type": "stream",
     "text": [
      "      32/50      5.67G       1.22     0.5431      1.263         24        640:  12%|█▏        | 8/68 [00:02<00:18,  3.23it/s]libpng warning: iCCP: profile 'ICC Profile': 0h: PCS illuminant is not D50\n",
      "      32/50      5.67G      1.204     0.5623       1.23         28        640:  75%|███████▌  | 51/68 [00:15<00:05,  3.26it/s]libpng warning: iCCP: profile 'ICC Profile': 0h: PCS illuminant is not D50\n",
      "      32/50      5.67G      1.208     0.5608      1.233         14        640: 100%|██████████| 68/68 [00:20<00:00,  3.29it/s]\n",
      "                 Class     Images  Instances      Box(P          R      mAP50  mAP50-95): 100%|██████████| 15/15 [00:03<00:00,  4.23it/s]"
     ]
    },
    {
     "name": "stdout",
     "output_type": "stream",
     "text": [
      "                   all        463        472      0.965      0.983      0.978       0.59\n"
     ]
    },
    {
     "name": "stderr",
     "output_type": "stream",
     "text": [
      "\n"
     ]
    },
    {
     "name": "stdout",
     "output_type": "stream",
     "text": [
      "\n",
      "      Epoch    GPU_mem   box_loss   cls_loss   dfl_loss  Instances       Size\n"
     ]
    },
    {
     "name": "stderr",
     "output_type": "stream",
     "text": [
      "      33/50      5.71G      1.158     0.5764      1.243         25        640:   6%|▌         | 4/68 [00:01<00:19,  3.34it/s]libpng warning: iCCP: profile 'ICC Profile': 0h: PCS illuminant is not D50\n",
      "      33/50      5.71G      1.188     0.5625      1.236         26        640:  32%|███▏      | 22/68 [00:06<00:13,  3.31it/s]libpng warning: iCCP: profile 'ICC Profile': 0h: PCS illuminant is not D50\n",
      "      33/50      5.71G      1.205     0.5631      1.225         12        640: 100%|██████████| 68/68 [00:20<00:00,  3.28it/s]\n",
      "                 Class     Images  Instances      Box(P          R      mAP50  mAP50-95): 100%|██████████| 15/15 [00:03<00:00,  3.96it/s]"
     ]
    },
    {
     "name": "stdout",
     "output_type": "stream",
     "text": [
      "                   all        463        472      0.968      0.977      0.986      0.608\n"
     ]
    },
    {
     "name": "stderr",
     "output_type": "stream",
     "text": [
      "\n"
     ]
    },
    {
     "name": "stdout",
     "output_type": "stream",
     "text": [
      "\n",
      "      Epoch    GPU_mem   box_loss   cls_loss   dfl_loss  Instances       Size\n"
     ]
    },
    {
     "name": "stderr",
     "output_type": "stream",
     "text": [
      "      34/50      5.74G        1.2     0.5546      1.213         28        640:  56%|█████▌    | 38/68 [00:11<00:09,  3.24it/s]libpng warning: iCCP: profile 'ICC Profile': 0h: PCS illuminant is not D50\n",
      "      34/50      5.74G      1.194     0.5522       1.21         30        640:  71%|███████   | 48/68 [00:14<00:06,  3.28it/s]libpng warning: iCCP: profile 'ICC Profile': 0h: PCS illuminant is not D50\n",
      "      34/50      5.75G       1.21     0.5609      1.225          9        640: 100%|██████████| 68/68 [00:20<00:00,  3.29it/s]\n",
      "                 Class     Images  Instances      Box(P          R      mAP50  mAP50-95): 100%|██████████| 15/15 [00:03<00:00,  4.16it/s]"
     ]
    },
    {
     "name": "stdout",
     "output_type": "stream",
     "text": [
      "                   all        463        472      0.967      0.984       0.99      0.599\n"
     ]
    },
    {
     "name": "stderr",
     "output_type": "stream",
     "text": [
      "\n"
     ]
    },
    {
     "name": "stdout",
     "output_type": "stream",
     "text": [
      "\n",
      "      Epoch    GPU_mem   box_loss   cls_loss   dfl_loss  Instances       Size\n"
     ]
    },
    {
     "name": "stderr",
     "output_type": "stream",
     "text": [
      "      35/50      5.78G      1.153     0.5505      1.203         26        640:  44%|████▍     | 30/68 [00:09<00:11,  3.19it/s]libpng warning: iCCP: profile 'ICC Profile': 0h: PCS illuminant is not D50\n",
      "      35/50      5.78G      1.175     0.5495      1.216         30        640:  74%|███████▎  | 50/68 [00:15<00:05,  3.31it/s]libpng warning: iCCP: profile 'ICC Profile': 0h: PCS illuminant is not D50\n",
      "      35/50      5.78G       1.18     0.5488      1.217         16        640: 100%|██████████| 68/68 [00:20<00:00,  3.29it/s]\n",
      "                 Class     Images  Instances      Box(P          R      mAP50  mAP50-95): 100%|██████████| 15/15 [00:03<00:00,  4.22it/s]"
     ]
    },
    {
     "name": "stdout",
     "output_type": "stream",
     "text": [
      "                   all        463        472      0.962      0.975      0.982      0.598\n"
     ]
    },
    {
     "name": "stderr",
     "output_type": "stream",
     "text": [
      "\n"
     ]
    },
    {
     "name": "stdout",
     "output_type": "stream",
     "text": [
      "\n",
      "      Epoch    GPU_mem   box_loss   cls_loss   dfl_loss  Instances       Size\n"
     ]
    },
    {
     "name": "stderr",
     "output_type": "stream",
     "text": [
      "      36/50      5.81G      1.152     0.5458      1.194         26        640:  38%|███▊      | 26/68 [00:08<00:12,  3.31it/s]libpng warning: iCCP: profile 'ICC Profile': 0h: PCS illuminant is not D50\n",
      "      36/50      5.81G      1.156     0.5462      1.193         38        640:  40%|███▉      | 27/68 [00:08<00:12,  3.31it/s]libpng warning: iCCP: profile 'ICC Profile': 0h: PCS illuminant is not D50\n",
      "      36/50      5.81G       1.16     0.5472      1.206         34        640:  99%|█████████▊| 67/68 [00:20<00:00,  3.30it/s]libpng warning: iCCP: profile 'ICC Profile': 0h: PCS illuminant is not D50\n",
      "      36/50      5.82G      1.157     0.5468      1.206         14        640: 100%|██████████| 68/68 [00:20<00:00,  3.27it/s]\n",
      "                 Class     Images  Instances      Box(P          R      mAP50  mAP50-95): 100%|██████████| 15/15 [00:03<00:00,  3.99it/s]"
     ]
    },
    {
     "name": "stdout",
     "output_type": "stream",
     "text": [
      "                   all        463        472      0.963       0.98       0.98      0.614\n"
     ]
    },
    {
     "name": "stderr",
     "output_type": "stream",
     "text": [
      "\n"
     ]
    },
    {
     "name": "stdout",
     "output_type": "stream",
     "text": [
      "\n",
      "      Epoch    GPU_mem   box_loss   cls_loss   dfl_loss  Instances       Size\n"
     ]
    },
    {
     "name": "stderr",
     "output_type": "stream",
     "text": [
      "      37/50      5.85G      1.141     0.5241      1.192         28        640:  50%|█████     | 34/68 [00:10<00:10,  3.21it/s]libpng warning: iCCP: profile 'ICC Profile': 0h: PCS illuminant is not D50\n",
      "      37/50      5.85G      1.151     0.5297      1.192         13        640: 100%|██████████| 68/68 [00:20<00:00,  3.29it/s]\n",
      "                 Class     Images  Instances      Box(P          R      mAP50  mAP50-95): 100%|██████████| 15/15 [00:03<00:00,  4.23it/s]"
     ]
    },
    {
     "name": "stdout",
     "output_type": "stream",
     "text": [
      "                   all        463        472      0.964      0.977      0.986      0.593\n"
     ]
    },
    {
     "name": "stderr",
     "output_type": "stream",
     "text": [
      "\n"
     ]
    },
    {
     "name": "stdout",
     "output_type": "stream",
     "text": [
      "\n",
      "      Epoch    GPU_mem   box_loss   cls_loss   dfl_loss  Instances       Size\n"
     ]
    },
    {
     "name": "stderr",
     "output_type": "stream",
     "text": [
      "      38/50      5.89G      1.167     0.5329      1.208         28        640:  54%|█████▍    | 37/68 [00:11<00:09,  3.26it/s]libpng warning: iCCP: profile 'ICC Profile': 0h: PCS illuminant is not D50\n",
      "      38/50      5.89G       1.16     0.5294      1.206         24        640:  76%|███████▋  | 52/68 [00:15<00:04,  3.24it/s]libpng warning: iCCP: profile 'ICC Profile': 0h: PCS illuminant is not D50\n",
      "      38/50      5.89G      1.155     0.5284      1.198         14        640: 100%|██████████| 68/68 [00:20<00:00,  3.28it/s]\n",
      "                 Class     Images  Instances      Box(P          R      mAP50  mAP50-95): 100%|██████████| 15/15 [00:03<00:00,  4.21it/s]"
     ]
    },
    {
     "name": "stdout",
     "output_type": "stream",
     "text": [
      "                   all        463        472      0.965      0.983      0.983      0.606\n"
     ]
    },
    {
     "name": "stderr",
     "output_type": "stream",
     "text": [
      "\n"
     ]
    },
    {
     "name": "stdout",
     "output_type": "stream",
     "text": [
      "\n",
      "      Epoch    GPU_mem   box_loss   cls_loss   dfl_loss  Instances       Size\n"
     ]
    },
    {
     "name": "stderr",
     "output_type": "stream",
     "text": [
      "      39/50      5.91G      1.217     0.7553      1.286         29        640:   1%|▏         | 1/68 [00:00<00:19,  3.43it/s]libpng warning: iCCP: profile 'ICC Profile': 0h: PCS illuminant is not D50\n",
      "      39/50      5.92G      1.125     0.5154      1.175         37        640:  82%|████████▏ | 56/68 [00:17<00:03,  3.28it/s]libpng warning: iCCP: profile 'ICC Profile': 0h: PCS illuminant is not D50\n",
      "      39/50      5.92G      1.136     0.5205      1.185         15        640: 100%|██████████| 68/68 [00:20<00:00,  3.29it/s]\n",
      "                 Class     Images  Instances      Box(P          R      mAP50  mAP50-95): 100%|██████████| 15/15 [00:03<00:00,  4.22it/s]"
     ]
    },
    {
     "name": "stdout",
     "output_type": "stream",
     "text": [
      "                   all        463        472       0.97      0.987      0.991      0.609\n"
     ]
    },
    {
     "name": "stderr",
     "output_type": "stream",
     "text": [
      "\n"
     ]
    },
    {
     "name": "stdout",
     "output_type": "stream",
     "text": [
      "\n",
      "      Epoch    GPU_mem   box_loss   cls_loss   dfl_loss  Instances       Size\n"
     ]
    },
    {
     "name": "stderr",
     "output_type": "stream",
     "text": [
      "      40/50      5.96G       1.13     0.5134       1.19         34        640:  59%|█████▉    | 40/68 [00:12<00:08,  3.26it/s]libpng warning: iCCP: profile 'ICC Profile': 0h: PCS illuminant is not D50\n",
      "      40/50      5.96G      1.137     0.5156      1.197         29        640:  69%|██████▉   | 47/68 [00:14<00:06,  3.33it/s]libpng warning: iCCP: profile 'ICC Profile': 0h: PCS illuminant is not D50\n",
      "      40/50      5.96G      1.135     0.5153      1.194         12        640: 100%|██████████| 68/68 [00:20<00:00,  3.30it/s]\n",
      "                 Class     Images  Instances      Box(P          R      mAP50  mAP50-95): 100%|██████████| 15/15 [00:03<00:00,  4.24it/s]"
     ]
    },
    {
     "name": "stdout",
     "output_type": "stream",
     "text": [
      "                   all        463        472      0.971      0.975      0.977      0.593\n"
     ]
    },
    {
     "name": "stderr",
     "output_type": "stream",
     "text": [
      "\n"
     ]
    },
    {
     "name": "stdout",
     "output_type": "stream",
     "text": [
      "Closing dataloader mosaic\n",
      "\u001b[34m\u001b[1malbumentations: \u001b[0mBlur(p=0.01, blur_limit=(3, 7)), MedianBlur(p=0.01, blur_limit=(3, 7)), ToGray(p=0.01, num_output_channels=3, method='weighted_average'), CLAHE(p=0.01, clip_limit=(1.0, 4.0), tile_grid_size=(8, 8))\n",
      "\n",
      "      Epoch    GPU_mem   box_loss   cls_loss   dfl_loss  Instances       Size\n"
     ]
    },
    {
     "name": "stderr",
     "output_type": "stream",
     "text": [
      "      41/50      6.22G      1.094     0.4718      1.199         18        640:  46%|████▌     | 31/68 [00:11<00:11,  3.28it/s]libpng warning: iCCP: profile 'ICC Profile': 0h: PCS illuminant is not D50\n",
      "      41/50      6.22G      1.108     0.4628      1.201         16        640:  69%|██████▉   | 47/68 [00:16<00:06,  3.29it/s]libpng warning: iCCP: profile 'ICC Profile': 0h: PCS illuminant is not D50\n",
      "      41/50      6.22G      1.104     0.4621      1.197          8        640: 100%|██████████| 68/68 [00:22<00:00,  3.06it/s]\n",
      "                 Class     Images  Instances      Box(P          R      mAP50  mAP50-95): 100%|██████████| 15/15 [00:03<00:00,  4.23it/s]"
     ]
    },
    {
     "name": "stdout",
     "output_type": "stream",
     "text": [
      "                   all        463        472       0.98      0.979      0.991       0.61\n"
     ]
    },
    {
     "name": "stderr",
     "output_type": "stream",
     "text": [
      "\n"
     ]
    },
    {
     "name": "stdout",
     "output_type": "stream",
     "text": [
      "\n",
      "      Epoch    GPU_mem   box_loss   cls_loss   dfl_loss  Instances       Size\n"
     ]
    },
    {
     "name": "stderr",
     "output_type": "stream",
     "text": [
      "      42/50      6.25G      1.014      0.418      1.164         16        640:  15%|█▍        | 10/68 [00:03<00:17,  3.28it/s]libpng warning: iCCP: profile 'ICC Profile': 0h: PCS illuminant is not D50\n",
      "      42/50      6.25G      1.101     0.4492      1.207         16        640:  41%|████      | 28/68 [00:08<00:12,  3.29it/s]libpng warning: iCCP: profile 'ICC Profile': 0h: PCS illuminant is not D50\n",
      "      42/50      6.26G      1.106     0.4514      1.201         10        640: 100%|██████████| 68/68 [00:20<00:00,  3.25it/s]\n",
      "                 Class     Images  Instances      Box(P          R      mAP50  mAP50-95): 100%|██████████| 15/15 [00:03<00:00,  4.25it/s]"
     ]
    },
    {
     "name": "stdout",
     "output_type": "stream",
     "text": [
      "                   all        463        472      0.973      0.977       0.99      0.615\n"
     ]
    },
    {
     "name": "stderr",
     "output_type": "stream",
     "text": [
      "\n"
     ]
    },
    {
     "name": "stdout",
     "output_type": "stream",
     "text": [
      "\n",
      "      Epoch    GPU_mem   box_loss   cls_loss   dfl_loss  Instances       Size\n"
     ]
    },
    {
     "name": "stderr",
     "output_type": "stream",
     "text": [
      "      43/50      6.29G      1.143     0.4445      1.217         16        640:  24%|██▎       | 16/68 [00:04<00:15,  3.26it/s]libpng warning: iCCP: profile 'ICC Profile': 0h: PCS illuminant is not D50\n",
      "      43/50      6.29G      1.104     0.4342      1.207         17        640:  43%|████▎     | 29/68 [00:08<00:11,  3.30it/s]libpng warning: iCCP: profile 'ICC Profile': 0h: PCS illuminant is not D50\n",
      "      43/50      6.29G      1.089     0.4374      1.192          8        640: 100%|██████████| 68/68 [00:20<00:00,  3.29it/s]\n",
      "                 Class     Images  Instances      Box(P          R      mAP50  mAP50-95): 100%|██████████| 15/15 [00:03<00:00,  3.89it/s]"
     ]
    },
    {
     "name": "stdout",
     "output_type": "stream",
     "text": [
      "                   all        463        472      0.975      0.981      0.988       0.62\n"
     ]
    },
    {
     "name": "stderr",
     "output_type": "stream",
     "text": [
      "\n"
     ]
    },
    {
     "name": "stdout",
     "output_type": "stream",
     "text": [
      "\n",
      "      Epoch    GPU_mem   box_loss   cls_loss   dfl_loss  Instances       Size\n"
     ]
    },
    {
     "name": "stderr",
     "output_type": "stream",
     "text": [
      "      44/50      6.33G      1.091     0.4302      1.193         16        640:  25%|██▌       | 17/68 [00:05<00:15,  3.33it/s]libpng warning: iCCP: profile 'ICC Profile': 0h: PCS illuminant is not D50\n",
      "      44/50      6.33G      1.076     0.4325      1.176         16        640:  78%|███████▊  | 53/68 [00:16<00:04,  3.27it/s]libpng warning: iCCP: profile 'ICC Profile': 0h: PCS illuminant is not D50\n",
      "      44/50      6.33G      1.065     0.4306      1.174          8        640: 100%|██████████| 68/68 [00:20<00:00,  3.30it/s]\n",
      "                 Class     Images  Instances      Box(P          R      mAP50  mAP50-95): 100%|██████████| 15/15 [00:03<00:00,  4.01it/s]"
     ]
    },
    {
     "name": "stdout",
     "output_type": "stream",
     "text": [
      "                   all        463        472       0.97      0.981      0.981      0.607\n"
     ]
    },
    {
     "name": "stderr",
     "output_type": "stream",
     "text": [
      "\n"
     ]
    },
    {
     "name": "stdout",
     "output_type": "stream",
     "text": [
      "\n",
      "      Epoch    GPU_mem   box_loss   cls_loss   dfl_loss  Instances       Size\n"
     ]
    },
    {
     "name": "stderr",
     "output_type": "stream",
     "text": [
      "      45/50      6.36G      1.029     0.4157      1.147         16        640:  38%|███▊      | 26/68 [00:07<00:12,  3.30it/s]libpng warning: iCCP: profile 'ICC Profile': 0h: PCS illuminant is not D50\n",
      "      45/50      6.36G      1.046     0.4229      1.168         17        640:  62%|██████▏   | 42/68 [00:12<00:08,  3.19it/s]libpng warning: iCCP: profile 'ICC Profile': 0h: PCS illuminant is not D50\n",
      "      45/50      6.37G       1.06      0.426      1.172         10        640: 100%|██████████| 68/68 [00:20<00:00,  3.29it/s]\n",
      "                 Class     Images  Instances      Box(P          R      mAP50  mAP50-95): 100%|██████████| 15/15 [00:03<00:00,  4.18it/s]"
     ]
    },
    {
     "name": "stdout",
     "output_type": "stream",
     "text": [
      "                   all        463        472       0.97      0.971      0.981      0.611\n"
     ]
    },
    {
     "name": "stderr",
     "output_type": "stream",
     "text": [
      "\n"
     ]
    },
    {
     "name": "stdout",
     "output_type": "stream",
     "text": [
      "\n",
      "      Epoch    GPU_mem   box_loss   cls_loss   dfl_loss  Instances       Size\n"
     ]
    },
    {
     "name": "stderr",
     "output_type": "stream",
     "text": [
      "      46/50       6.4G      1.085     0.4399      1.205         16        640:  10%|█         | 7/68 [00:02<00:18,  3.33it/s]libpng warning: iCCP: profile 'ICC Profile': 0h: PCS illuminant is not D50\n",
      "      46/50       6.4G      1.049     0.4237      1.172         16        640:  63%|██████▎   | 43/68 [00:13<00:07,  3.27it/s]libpng warning: iCCP: profile 'ICC Profile': 0h: PCS illuminant is not D50\n",
      "      46/50       6.4G      1.063     0.4262      1.168          8        640: 100%|██████████| 68/68 [00:20<00:00,  3.27it/s]\n",
      "                 Class     Images  Instances      Box(P          R      mAP50  mAP50-95): 100%|██████████| 15/15 [00:03<00:00,  4.23it/s]"
     ]
    },
    {
     "name": "stdout",
     "output_type": "stream",
     "text": [
      "                   all        463        472       0.97      0.977      0.988      0.617\n"
     ]
    },
    {
     "name": "stderr",
     "output_type": "stream",
     "text": [
      "\n"
     ]
    },
    {
     "name": "stdout",
     "output_type": "stream",
     "text": [
      "\n",
      "      Epoch    GPU_mem   box_loss   cls_loss   dfl_loss  Instances       Size\n"
     ]
    },
    {
     "name": "stderr",
     "output_type": "stream",
     "text": [
      "      47/50      6.44G     0.9877     0.4093      1.145         16        640:  12%|█▏        | 8/68 [00:02<00:18,  3.25it/s]libpng warning: iCCP: profile 'ICC Profile': 0h: PCS illuminant is not D50\n",
      "      47/50      6.44G      1.016     0.4106      1.145         17        640:  69%|██████▉   | 47/68 [00:14<00:06,  3.34it/s]libpng warning: iCCP: profile 'ICC Profile': 0h: PCS illuminant is not D50\n",
      "      47/50      6.44G      1.028     0.4144      1.154          8        640: 100%|██████████| 68/68 [00:20<00:00,  3.29it/s]\n",
      "                 Class     Images  Instances      Box(P          R      mAP50  mAP50-95): 100%|██████████| 15/15 [00:03<00:00,  4.14it/s]"
     ]
    },
    {
     "name": "stdout",
     "output_type": "stream",
     "text": [
      "                   all        463        472       0.97      0.973      0.986      0.626\n"
     ]
    },
    {
     "name": "stderr",
     "output_type": "stream",
     "text": [
      "\n"
     ]
    },
    {
     "name": "stdout",
     "output_type": "stream",
     "text": [
      "\n",
      "      Epoch    GPU_mem   box_loss   cls_loss   dfl_loss  Instances       Size\n"
     ]
    },
    {
     "name": "stderr",
     "output_type": "stream",
     "text": [
      "      48/50      6.47G      1.012     0.4079      1.141         18        640:  69%|██████▉   | 47/68 [00:14<00:06,  3.29it/s]libpng warning: iCCP: profile 'ICC Profile': 0h: PCS illuminant is not D50\n",
      "      48/50      6.47G      1.011     0.4057      1.139         16        640:  74%|███████▎  | 50/68 [00:15<00:05,  3.30it/s]libpng warning: iCCP: profile 'ICC Profile': 0h: PCS illuminant is not D50\n",
      "      48/50      6.47G      1.023     0.4126      1.141          8        640: 100%|██████████| 68/68 [00:20<00:00,  3.29it/s]\n",
      "                 Class     Images  Instances      Box(P          R      mAP50  mAP50-95): 100%|██████████| 15/15 [00:03<00:00,  4.01it/s]"
     ]
    },
    {
     "name": "stdout",
     "output_type": "stream",
     "text": [
      "                   all        463        472      0.978      0.968      0.988      0.622\n"
     ]
    },
    {
     "name": "stderr",
     "output_type": "stream",
     "text": [
      "\n"
     ]
    },
    {
     "name": "stdout",
     "output_type": "stream",
     "text": [
      "\n",
      "      Epoch    GPU_mem   box_loss   cls_loss   dfl_loss  Instances       Size\n"
     ]
    },
    {
     "name": "stderr",
     "output_type": "stream",
     "text": [
      "      49/50      6.73G      1.033     0.4098      1.172         16        640:   4%|▍         | 3/68 [00:00<00:19,  3.35it/s]libpng warning: iCCP: profile 'ICC Profile': 0h: PCS illuminant is not D50\n",
      "      49/50      6.73G     0.9954     0.4193      1.164         17        640:   9%|▉         | 6/68 [00:01<00:19,  3.25it/s]libpng warning: iCCP: profile 'ICC Profile': 0h: PCS illuminant is not D50\n",
      "      49/50      6.73G      1.005     0.4062      1.138          8        640: 100%|██████████| 68/68 [00:20<00:00,  3.30it/s]\n",
      "                 Class     Images  Instances      Box(P          R      mAP50  mAP50-95): 100%|██████████| 15/15 [00:03<00:00,  4.30it/s]"
     ]
    },
    {
     "name": "stdout",
     "output_type": "stream",
     "text": [
      "                   all        463        472      0.981      0.972      0.988      0.627\n"
     ]
    },
    {
     "name": "stderr",
     "output_type": "stream",
     "text": [
      "\n"
     ]
    },
    {
     "name": "stdout",
     "output_type": "stream",
     "text": [
      "\n",
      "      Epoch    GPU_mem   box_loss   cls_loss   dfl_loss  Instances       Size\n"
     ]
    },
    {
     "name": "stderr",
     "output_type": "stream",
     "text": [
      "      50/50      6.77G     0.9772        0.4      1.152         18        640:  24%|██▎       | 16/68 [00:04<00:15,  3.26it/s]libpng warning: iCCP: profile 'ICC Profile': 0h: PCS illuminant is not D50\n",
      "      50/50      6.77G     0.9925      0.399      1.137         17        640:  71%|███████   | 48/68 [00:14<00:06,  3.26it/s]libpng warning: iCCP: profile 'ICC Profile': 0h: PCS illuminant is not D50\n",
      "      50/50      6.77G     0.9994     0.4015      1.136          8        640: 100%|██████████| 68/68 [00:20<00:00,  3.27it/s]\n",
      "                 Class     Images  Instances      Box(P          R      mAP50  mAP50-95): 100%|██████████| 15/15 [00:03<00:00,  4.28it/s]"
     ]
    },
    {
     "name": "stdout",
     "output_type": "stream",
     "text": [
      "                   all        463        472      0.979      0.973      0.988      0.626\n"
     ]
    },
    {
     "name": "stderr",
     "output_type": "stream",
     "text": [
      "\n"
     ]
    },
    {
     "name": "stdout",
     "output_type": "stream",
     "text": [
      "\n",
      "50 epochs completed in 0.348 hours.\n",
      "Optimizer stripped from /kaggle/working/yolo_license_plate/yolov11_license_plate/weights/last.pt, 22.5MB\n",
      "Optimizer stripped from /kaggle/working/yolo_license_plate/yolov11_license_plate/weights/best.pt, 22.5MB\n",
      "\n",
      "Validating /kaggle/working/yolo_license_plate/yolov11_license_plate/weights/best.pt...\n",
      "Ultralytics 8.3.145 🚀 Python-3.11.11 torch-2.6.0+cu124 CUDA:0 (Tesla P100-PCIE-16GB, 16269MiB)\n",
      "Model summary (fused): 72 layers, 11,125,971 parameters, 0 gradients, 28.4 GFLOPs\n"
     ]
    },
    {
     "name": "stderr",
     "output_type": "stream",
     "text": [
      "                 Class     Images  Instances      Box(P          R      mAP50  mAP50-95): 100%|██████████| 15/15 [00:04<00:00,  3.30it/s]\n"
     ]
    },
    {
     "name": "stdout",
     "output_type": "stream",
     "text": [
      "                   all        463        472       0.98      0.972      0.988      0.627\n"
     ]
    },
    {
     "name": "stderr",
     "output_type": "stream",
     "text": [
      "/usr/local/lib/python3.11/dist-packages/matplotlib/colors.py:721: RuntimeWarning: invalid value encountered in less\n",
      "  xa[xa < 0] = -1\n",
      "/usr/local/lib/python3.11/dist-packages/matplotlib/colors.py:721: RuntimeWarning: invalid value encountered in less\n",
      "  xa[xa < 0] = -1\n"
     ]
    },
    {
     "name": "stdout",
     "output_type": "stream",
     "text": [
      "Speed: 0.2ms preprocess, 3.7ms inference, 0.0ms loss, 1.6ms postprocess per image\n",
      "Results saved to \u001b[1m/kaggle/working/yolo_license_plate/yolov11_license_plate\u001b[0m\n"
     ]
    },
    {
     "data": {
      "text/plain": [
       "ultralytics.utils.metrics.DetMetrics object with attributes:\n",
       "\n",
       "ap_class_index: array([0])\n",
       "box: ultralytics.utils.metrics.Metric object\n",
       "confusion_matrix: <ultralytics.utils.metrics.ConfusionMatrix object at 0x799c01e42750>\n",
       "curves: ['Precision-Recall(B)', 'F1-Confidence(B)', 'Precision-Confidence(B)', 'Recall-Confidence(B)']\n",
       "curves_results: [[array([          0,    0.001001,    0.002002,    0.003003,    0.004004,    0.005005,    0.006006,    0.007007,    0.008008,    0.009009,     0.01001,    0.011011,    0.012012,    0.013013,    0.014014,    0.015015,    0.016016,    0.017017,    0.018018,    0.019019,     0.02002,    0.021021,    0.022022,    0.023023,\n",
       "          0.024024,    0.025025,    0.026026,    0.027027,    0.028028,    0.029029,     0.03003,    0.031031,    0.032032,    0.033033,    0.034034,    0.035035,    0.036036,    0.037037,    0.038038,    0.039039,     0.04004,    0.041041,    0.042042,    0.043043,    0.044044,    0.045045,    0.046046,    0.047047,\n",
       "          0.048048,    0.049049,     0.05005,    0.051051,    0.052052,    0.053053,    0.054054,    0.055055,    0.056056,    0.057057,    0.058058,    0.059059,     0.06006,    0.061061,    0.062062,    0.063063,    0.064064,    0.065065,    0.066066,    0.067067,    0.068068,    0.069069,     0.07007,    0.071071,\n",
       "          0.072072,    0.073073,    0.074074,    0.075075,    0.076076,    0.077077,    0.078078,    0.079079,     0.08008,    0.081081,    0.082082,    0.083083,    0.084084,    0.085085,    0.086086,    0.087087,    0.088088,    0.089089,     0.09009,    0.091091,    0.092092,    0.093093,    0.094094,    0.095095,\n",
       "          0.096096,    0.097097,    0.098098,    0.099099,      0.1001,      0.1011,      0.1021,      0.1031,      0.1041,     0.10511,     0.10611,     0.10711,     0.10811,     0.10911,     0.11011,     0.11111,     0.11211,     0.11311,     0.11411,     0.11512,     0.11612,     0.11712,     0.11812,     0.11912,\n",
       "           0.12012,     0.12112,     0.12212,     0.12312,     0.12412,     0.12513,     0.12613,     0.12713,     0.12813,     0.12913,     0.13013,     0.13113,     0.13213,     0.13313,     0.13413,     0.13514,     0.13614,     0.13714,     0.13814,     0.13914,     0.14014,     0.14114,     0.14214,     0.14314,\n",
       "           0.14414,     0.14515,     0.14615,     0.14715,     0.14815,     0.14915,     0.15015,     0.15115,     0.15215,     0.15315,     0.15415,     0.15516,     0.15616,     0.15716,     0.15816,     0.15916,     0.16016,     0.16116,     0.16216,     0.16316,     0.16416,     0.16517,     0.16617,     0.16717,\n",
       "           0.16817,     0.16917,     0.17017,     0.17117,     0.17217,     0.17317,     0.17417,     0.17518,     0.17618,     0.17718,     0.17818,     0.17918,     0.18018,     0.18118,     0.18218,     0.18318,     0.18418,     0.18519,     0.18619,     0.18719,     0.18819,     0.18919,     0.19019,     0.19119,\n",
       "           0.19219,     0.19319,     0.19419,      0.1952,      0.1962,      0.1972,      0.1982,      0.1992,      0.2002,      0.2012,      0.2022,      0.2032,      0.2042,     0.20521,     0.20621,     0.20721,     0.20821,     0.20921,     0.21021,     0.21121,     0.21221,     0.21321,     0.21421,     0.21522,\n",
       "           0.21622,     0.21722,     0.21822,     0.21922,     0.22022,     0.22122,     0.22222,     0.22322,     0.22422,     0.22523,     0.22623,     0.22723,     0.22823,     0.22923,     0.23023,     0.23123,     0.23223,     0.23323,     0.23423,     0.23524,     0.23624,     0.23724,     0.23824,     0.23924,\n",
       "           0.24024,     0.24124,     0.24224,     0.24324,     0.24424,     0.24525,     0.24625,     0.24725,     0.24825,     0.24925,     0.25025,     0.25125,     0.25225,     0.25325,     0.25425,     0.25526,     0.25626,     0.25726,     0.25826,     0.25926,     0.26026,     0.26126,     0.26226,     0.26326,\n",
       "           0.26426,     0.26527,     0.26627,     0.26727,     0.26827,     0.26927,     0.27027,     0.27127,     0.27227,     0.27327,     0.27427,     0.27528,     0.27628,     0.27728,     0.27828,     0.27928,     0.28028,     0.28128,     0.28228,     0.28328,     0.28428,     0.28529,     0.28629,     0.28729,\n",
       "           0.28829,     0.28929,     0.29029,     0.29129,     0.29229,     0.29329,     0.29429,      0.2953,      0.2963,      0.2973,      0.2983,      0.2993,      0.3003,      0.3013,      0.3023,      0.3033,      0.3043,     0.30531,     0.30631,     0.30731,     0.30831,     0.30931,     0.31031,     0.31131,\n",
       "           0.31231,     0.31331,     0.31431,     0.31532,     0.31632,     0.31732,     0.31832,     0.31932,     0.32032,     0.32132,     0.32232,     0.32332,     0.32432,     0.32533,     0.32633,     0.32733,     0.32833,     0.32933,     0.33033,     0.33133,     0.33233,     0.33333,     0.33433,     0.33534,\n",
       "           0.33634,     0.33734,     0.33834,     0.33934,     0.34034,     0.34134,     0.34234,     0.34334,     0.34434,     0.34535,     0.34635,     0.34735,     0.34835,     0.34935,     0.35035,     0.35135,     0.35235,     0.35335,     0.35435,     0.35536,     0.35636,     0.35736,     0.35836,     0.35936,\n",
       "           0.36036,     0.36136,     0.36236,     0.36336,     0.36436,     0.36537,     0.36637,     0.36737,     0.36837,     0.36937,     0.37037,     0.37137,     0.37237,     0.37337,     0.37437,     0.37538,     0.37638,     0.37738,     0.37838,     0.37938,     0.38038,     0.38138,     0.38238,     0.38338,\n",
       "           0.38438,     0.38539,     0.38639,     0.38739,     0.38839,     0.38939,     0.39039,     0.39139,     0.39239,     0.39339,     0.39439,      0.3954,      0.3964,      0.3974,      0.3984,      0.3994,      0.4004,      0.4014,      0.4024,      0.4034,      0.4044,     0.40541,     0.40641,     0.40741,\n",
       "           0.40841,     0.40941,     0.41041,     0.41141,     0.41241,     0.41341,     0.41441,     0.41542,     0.41642,     0.41742,     0.41842,     0.41942,     0.42042,     0.42142,     0.42242,     0.42342,     0.42442,     0.42543,     0.42643,     0.42743,     0.42843,     0.42943,     0.43043,     0.43143,\n",
       "           0.43243,     0.43343,     0.43443,     0.43544,     0.43644,     0.43744,     0.43844,     0.43944,     0.44044,     0.44144,     0.44244,     0.44344,     0.44444,     0.44545,     0.44645,     0.44745,     0.44845,     0.44945,     0.45045,     0.45145,     0.45245,     0.45345,     0.45445,     0.45546,\n",
       "           0.45646,     0.45746,     0.45846,     0.45946,     0.46046,     0.46146,     0.46246,     0.46346,     0.46446,     0.46547,     0.46647,     0.46747,     0.46847,     0.46947,     0.47047,     0.47147,     0.47247,     0.47347,     0.47447,     0.47548,     0.47648,     0.47748,     0.47848,     0.47948,\n",
       "           0.48048,     0.48148,     0.48248,     0.48348,     0.48448,     0.48549,     0.48649,     0.48749,     0.48849,     0.48949,     0.49049,     0.49149,     0.49249,     0.49349,     0.49449,      0.4955,      0.4965,      0.4975,      0.4985,      0.4995,      0.5005,      0.5015,      0.5025,      0.5035,\n",
       "            0.5045,     0.50551,     0.50651,     0.50751,     0.50851,     0.50951,     0.51051,     0.51151,     0.51251,     0.51351,     0.51451,     0.51552,     0.51652,     0.51752,     0.51852,     0.51952,     0.52052,     0.52152,     0.52252,     0.52352,     0.52452,     0.52553,     0.52653,     0.52753,\n",
       "           0.52853,     0.52953,     0.53053,     0.53153,     0.53253,     0.53353,     0.53453,     0.53554,     0.53654,     0.53754,     0.53854,     0.53954,     0.54054,     0.54154,     0.54254,     0.54354,     0.54454,     0.54555,     0.54655,     0.54755,     0.54855,     0.54955,     0.55055,     0.55155,\n",
       "           0.55255,     0.55355,     0.55455,     0.55556,     0.55656,     0.55756,     0.55856,     0.55956,     0.56056,     0.56156,     0.56256,     0.56356,     0.56456,     0.56557,     0.56657,     0.56757,     0.56857,     0.56957,     0.57057,     0.57157,     0.57257,     0.57357,     0.57457,     0.57558,\n",
       "           0.57658,     0.57758,     0.57858,     0.57958,     0.58058,     0.58158,     0.58258,     0.58358,     0.58458,     0.58559,     0.58659,     0.58759,     0.58859,     0.58959,     0.59059,     0.59159,     0.59259,     0.59359,     0.59459,      0.5956,      0.5966,      0.5976,      0.5986,      0.5996,\n",
       "            0.6006,      0.6016,      0.6026,      0.6036,      0.6046,     0.60561,     0.60661,     0.60761,     0.60861,     0.60961,     0.61061,     0.61161,     0.61261,     0.61361,     0.61461,     0.61562,     0.61662,     0.61762,     0.61862,     0.61962,     0.62062,     0.62162,     0.62262,     0.62362,\n",
       "           0.62462,     0.62563,     0.62663,     0.62763,     0.62863,     0.62963,     0.63063,     0.63163,     0.63263,     0.63363,     0.63463,     0.63564,     0.63664,     0.63764,     0.63864,     0.63964,     0.64064,     0.64164,     0.64264,     0.64364,     0.64464,     0.64565,     0.64665,     0.64765,\n",
       "           0.64865,     0.64965,     0.65065,     0.65165,     0.65265,     0.65365,     0.65465,     0.65566,     0.65666,     0.65766,     0.65866,     0.65966,     0.66066,     0.66166,     0.66266,     0.66366,     0.66466,     0.66567,     0.66667,     0.66767,     0.66867,     0.66967,     0.67067,     0.67167,\n",
       "           0.67267,     0.67367,     0.67467,     0.67568,     0.67668,     0.67768,     0.67868,     0.67968,     0.68068,     0.68168,     0.68268,     0.68368,     0.68468,     0.68569,     0.68669,     0.68769,     0.68869,     0.68969,     0.69069,     0.69169,     0.69269,     0.69369,     0.69469,      0.6957,\n",
       "            0.6967,      0.6977,      0.6987,      0.6997,      0.7007,      0.7017,      0.7027,      0.7037,      0.7047,     0.70571,     0.70671,     0.70771,     0.70871,     0.70971,     0.71071,     0.71171,     0.71271,     0.71371,     0.71471,     0.71572,     0.71672,     0.71772,     0.71872,     0.71972,\n",
       "           0.72072,     0.72172,     0.72272,     0.72372,     0.72472,     0.72573,     0.72673,     0.72773,     0.72873,     0.72973,     0.73073,     0.73173,     0.73273,     0.73373,     0.73473,     0.73574,     0.73674,     0.73774,     0.73874,     0.73974,     0.74074,     0.74174,     0.74274,     0.74374,\n",
       "           0.74474,     0.74575,     0.74675,     0.74775,     0.74875,     0.74975,     0.75075,     0.75175,     0.75275,     0.75375,     0.75475,     0.75576,     0.75676,     0.75776,     0.75876,     0.75976,     0.76076,     0.76176,     0.76276,     0.76376,     0.76476,     0.76577,     0.76677,     0.76777,\n",
       "           0.76877,     0.76977,     0.77077,     0.77177,     0.77277,     0.77377,     0.77477,     0.77578,     0.77678,     0.77778,     0.77878,     0.77978,     0.78078,     0.78178,     0.78278,     0.78378,     0.78478,     0.78579,     0.78679,     0.78779,     0.78879,     0.78979,     0.79079,     0.79179,\n",
       "           0.79279,     0.79379,     0.79479,      0.7958,      0.7968,      0.7978,      0.7988,      0.7998,      0.8008,      0.8018,      0.8028,      0.8038,      0.8048,     0.80581,     0.80681,     0.80781,     0.80881,     0.80981,     0.81081,     0.81181,     0.81281,     0.81381,     0.81481,     0.81582,\n",
       "           0.81682,     0.81782,     0.81882,     0.81982,     0.82082,     0.82182,     0.82282,     0.82382,     0.82482,     0.82583,     0.82683,     0.82783,     0.82883,     0.82983,     0.83083,     0.83183,     0.83283,     0.83383,     0.83483,     0.83584,     0.83684,     0.83784,     0.83884,     0.83984,\n",
       "           0.84084,     0.84184,     0.84284,     0.84384,     0.84484,     0.84585,     0.84685,     0.84785,     0.84885,     0.84985,     0.85085,     0.85185,     0.85285,     0.85385,     0.85485,     0.85586,     0.85686,     0.85786,     0.85886,     0.85986,     0.86086,     0.86186,     0.86286,     0.86386,\n",
       "           0.86486,     0.86587,     0.86687,     0.86787,     0.86887,     0.86987,     0.87087,     0.87187,     0.87287,     0.87387,     0.87487,     0.87588,     0.87688,     0.87788,     0.87888,     0.87988,     0.88088,     0.88188,     0.88288,     0.88388,     0.88488,     0.88589,     0.88689,     0.88789,\n",
       "           0.88889,     0.88989,     0.89089,     0.89189,     0.89289,     0.89389,     0.89489,      0.8959,      0.8969,      0.8979,      0.8989,      0.8999,      0.9009,      0.9019,      0.9029,      0.9039,      0.9049,     0.90591,     0.90691,     0.90791,     0.90891,     0.90991,     0.91091,     0.91191,\n",
       "           0.91291,     0.91391,     0.91491,     0.91592,     0.91692,     0.91792,     0.91892,     0.91992,     0.92092,     0.92192,     0.92292,     0.92392,     0.92492,     0.92593,     0.92693,     0.92793,     0.92893,     0.92993,     0.93093,     0.93193,     0.93293,     0.93393,     0.93493,     0.93594,\n",
       "           0.93694,     0.93794,     0.93894,     0.93994,     0.94094,     0.94194,     0.94294,     0.94394,     0.94494,     0.94595,     0.94695,     0.94795,     0.94895,     0.94995,     0.95095,     0.95195,     0.95295,     0.95395,     0.95495,     0.95596,     0.95696,     0.95796,     0.95896,     0.95996,\n",
       "           0.96096,     0.96196,     0.96296,     0.96396,     0.96496,     0.96597,     0.96697,     0.96797,     0.96897,     0.96997,     0.97097,     0.97197,     0.97297,     0.97397,     0.97497,     0.97598,     0.97698,     0.97798,     0.97898,     0.97998,     0.98098,     0.98198,     0.98298,     0.98398,\n",
       "           0.98498,     0.98599,     0.98699,     0.98799,     0.98899,     0.98999,     0.99099,     0.99199,     0.99299,     0.99399,     0.99499,       0.996,       0.997,       0.998,       0.999,           1]), array([[          1,           1,           1,           1,           1,           1,           1,           1,           1,           1,           1,           1,           1,           1,           1,           1,           1,           1,           1,           1,           1,           1,           1,\n",
       "                  1,           1,           1,           1,           1,           1,           1,           1,           1,           1,           1,           1,           1,           1,           1,           1,           1,           1,           1,           1,           1,           1,           1,\n",
       "                  1,           1,           1,           1,           1,           1,           1,           1,           1,           1,           1,           1,           1,           1,           1,           1,           1,           1,           1,           1,           1,           1,           1,\n",
       "                  1,           1,           1,           1,           1,           1,           1,           1,           1,           1,           1,           1,           1,           1,           1,           1,           1,           1,           1,           1,           1,           1,           1,\n",
       "                  1,           1,           1,           1,           1,           1,           1,           1,           1,           1,           1,           1,           1,           1,           1,           1,           1,           1,           1,           1,           1,           1,           1,\n",
       "                  1,           1,           1,           1,           1,           1,           1,           1,           1,           1,           1,           1,           1,           1,           1,           1,           1,           1,           1,           1,           1,           1,           1,\n",
       "                  1,           1,           1,           1,           1,           1,           1,           1,           1,           1,           1,           1,           1,           1,           1,           1,           1,           1,           1,           1,           1,           1,           1,\n",
       "                  1,           1,           1,           1,           1,           1,           1,           1,           1,           1,           1,           1,           1,           1,           1,           1,           1,           1,           1,           1,           1,           1,           1,\n",
       "                  1,           1,           1,           1,           1,           1,           1,           1,           1,           1,           1,           1,           1,           1,           1,           1,           1,           1,           1,           1,           1,           1,           1,\n",
       "                  1,           1,           1,           1,           1,           1,           1,           1,           1,           1,           1,           1,           1,           1,           1,           1,           1,           1,           1,           1,           1,           1,           1,\n",
       "                  1,           1,           1,           1,           1,           1,           1,           1,           1,           1,           1,           1,           1,           1,           1,           1,           1,           1,           1,           1,           1,           1,           1,\n",
       "                  1,           1,           1,           1,           1,           1,           1,           1,           1,           1,           1,           1,           1,           1,           1,           1,           1,           1,           1,           1,           1,           1,           1,\n",
       "                  1,           1,           1,           1,           1,           1,           1,           1,           1,           1,           1,           1,           1,           1,           1,           1,           1,           1,           1,           1,           1,           1,           1,\n",
       "                  1,           1,           1,           1,           1,           1,           1,           1,           1,           1,           1,           1,           1,           1,           1,           1,           1,           1,           1,           1,           1,           1,           1,\n",
       "                  1,           1,           1,           1,           1,           1,           1,           1,           1,           1,           1,           1,           1,           1,           1,           1,           1,           1,           1,           1,           1,           1,           1,\n",
       "                  1,           1,           1,           1,           1,           1,           1,           1,           1,           1,           1,           1,           1,           1,           1,           1,           1,           1,           1,           1,           1,           1,           1,\n",
       "                  1,     0.99585,     0.99585,     0.99585,     0.99585,     0.99585,     0.99585,     0.99585,     0.99585,     0.99585,     0.99585,     0.99585,     0.99585,     0.99585,     0.99585,     0.99585,     0.99585,     0.99585,     0.99585,     0.99585,     0.99585,     0.99585,     0.99585,\n",
       "            0.99585,     0.99585,     0.99585,     0.99585,     0.99585,     0.99585,     0.99585,     0.99585,     0.99585,     0.99585,     0.99585,     0.99585,     0.99585,     0.99585,     0.99585,     0.99585,     0.99585,     0.99585,     0.99585,     0.99585,     0.99585,     0.99585,     0.99585,\n",
       "            0.99585,     0.99585,     0.99585,     0.99585,     0.99585,     0.99585,     0.99585,     0.99585,     0.99585,     0.99585,     0.99585,     0.99585,     0.99585,     0.99585,     0.99585,     0.99585,     0.99585,     0.99585,     0.99585,     0.99585,     0.99585,     0.99585,     0.99585,\n",
       "            0.99585,     0.99585,     0.99585,     0.99585,     0.99585,     0.99585,     0.99585,     0.99585,     0.99585,     0.99585,     0.99585,     0.99585,     0.99585,     0.99585,     0.99585,     0.99585,     0.99585,     0.99585,     0.99585,     0.99585,     0.99585,     0.99585,     0.99585,\n",
       "            0.99585,     0.99585,     0.99585,     0.99585,     0.99585,     0.99585,     0.99585,     0.99585,     0.99585,     0.99585,     0.99585,     0.99585,     0.99585,     0.99585,     0.99585,     0.99585,     0.99585,     0.99585,     0.99585,     0.99585,     0.99585,     0.99585,     0.99585,\n",
       "            0.99585,     0.99585,     0.99585,     0.99585,     0.99585,     0.99585,     0.99585,     0.99585,     0.99585,     0.99585,     0.99585,     0.99585,     0.99585,     0.99585,     0.99585,     0.99585,     0.99585,     0.99585,     0.99585,     0.99585,     0.99585,     0.99585,     0.99585,\n",
       "            0.99585,     0.99585,     0.99308,     0.99308,     0.99308,     0.99308,     0.99308,     0.99308,     0.99308,     0.99308,     0.99308,     0.99308,     0.99308,     0.99308,     0.99308,     0.99308,     0.99308,     0.99308,     0.99308,     0.99308,     0.99308,     0.99308,     0.99308,\n",
       "            0.99308,     0.99308,     0.99308,     0.99308,     0.99308,     0.99308,     0.99308,     0.99308,     0.99308,     0.99308,     0.99308,     0.99308,     0.99308,     0.99308,     0.99308,     0.99308,     0.99308,     0.99308,     0.99308,     0.99308,     0.99308,     0.99308,     0.99308,\n",
       "            0.99308,     0.99308,     0.99308,     0.99308,     0.99308,     0.99308,     0.99308,     0.99308,     0.99308,     0.99308,     0.99308,     0.99308,     0.99308,     0.99308,     0.99308,     0.99308,     0.99308,     0.99308,     0.99308,     0.99308,     0.99308,     0.99308,     0.99308,\n",
       "            0.99308,     0.99308,     0.99308,     0.99308,     0.99308,     0.99308,     0.99308,     0.99308,     0.99308,     0.99308,     0.99308,     0.99308,     0.99308,     0.99308,     0.99308,     0.99308,     0.99308,     0.99308,     0.99308,     0.99308,     0.99308,     0.99308,     0.99308,\n",
       "            0.99308,     0.99308,     0.99308,     0.99308,     0.99308,     0.99308,     0.99308,     0.99308,     0.99308,     0.99308,     0.99217,     0.99217,     0.99217,     0.99217,     0.99217,     0.99217,     0.99217,     0.99217,     0.99217,     0.99217,     0.99217,     0.99217,     0.99217,\n",
       "            0.99217,     0.99217,     0.99217,     0.99217,     0.99217,     0.99217,     0.99217,     0.99217,     0.99217,     0.99217,     0.99217,     0.99217,     0.99217,     0.99217,     0.99217,     0.99217,     0.99217,     0.99217,     0.99217,     0.99217,     0.99217,     0.99217,     0.99217,\n",
       "            0.99217,     0.99217,     0.99217,     0.99217,     0.99217,     0.99217,     0.99217,     0.99217,     0.99217,     0.99217,     0.99217,     0.99217,     0.99217,     0.99217,     0.99217,     0.99217,     0.99217,     0.99217,     0.99217,     0.99217,     0.99217,     0.99217,     0.99217,\n",
       "            0.99217,     0.99217,     0.99217,     0.99217,     0.99217,     0.99217,     0.99217,     0.99217,     0.99217,     0.99217,     0.99217,     0.99217,     0.99217,     0.99217,     0.99217,     0.99217,     0.99217,     0.99217,     0.99217,     0.99217,     0.99217,     0.99217,     0.99217,\n",
       "            0.99217,     0.99217,     0.99217,     0.99217,     0.99217,     0.99217,     0.99217,     0.99217,     0.99217,     0.99217,     0.99217,     0.99217,     0.99217,     0.99217,     0.99217,     0.99217,     0.99217,     0.99217,     0.99217,     0.99217,     0.99217,     0.99217,     0.99217,\n",
       "            0.99217,     0.99217,     0.99217,     0.99217,     0.99217,     0.99217,     0.99217,     0.99217,     0.99217,     0.99217,     0.99217,     0.99217,     0.99217,     0.99217,     0.99217,     0.99217,     0.99217,     0.99217,     0.99217,     0.99217,     0.99217,     0.99217,     0.99217,\n",
       "            0.99217,     0.99217,     0.99217,     0.99217,     0.99217,     0.99217,     0.99217,     0.99217,     0.99217,     0.99217,     0.99217,     0.99217,     0.99217,     0.99217,     0.99217,     0.99217,     0.99217,     0.99217,     0.99217,     0.99217,     0.99217,     0.99217,     0.99217,\n",
       "            0.99217,     0.99217,     0.99217,     0.99217,     0.99217,     0.99217,     0.99217,     0.99217,     0.99217,     0.99217,     0.99217,     0.99217,     0.99217,     0.99217,     0.99217,     0.99217,     0.99217,     0.99217,     0.99217,     0.99217,     0.99217,     0.99217,     0.99217,\n",
       "            0.99217,     0.99217,     0.99217,     0.99217,     0.99217,     0.99217,     0.99217,     0.99217,     0.99217,     0.99217,     0.99217,     0.99217,     0.99217,     0.99217,     0.99217,     0.99217,     0.99217,     0.99217,     0.99217,     0.99217,     0.99217,     0.99217,     0.99217,\n",
       "            0.98974,     0.98974,     0.98974,     0.98974,     0.98974,     0.98974,     0.98974,     0.98974,     0.98974,     0.98974,     0.98974,     0.98974,      0.9884,      0.9884,      0.9884,      0.9884,      0.9884,      0.9884,      0.9884,      0.9884,      0.9884,      0.9884,      0.9884,\n",
       "             0.9884,      0.9884,      0.9884,      0.9884,      0.9884,      0.9884,      0.9884,      0.9884,      0.9884,      0.9884,      0.9884,      0.9884,      0.9884,      0.9884,      0.9884,      0.9884,      0.9884,      0.9884,      0.9884,      0.9884,      0.9884,      0.9884,      0.9884,\n",
       "             0.9884,      0.9884,      0.9884,      0.9884,      0.9884,      0.9884,      0.9884,      0.9884,      0.9884,      0.9884,      0.9884,      0.9884,      0.9884,      0.9884,      0.9884,      0.9884,      0.9884,      0.9884,      0.9884,      0.9884,      0.9884,      0.9884,      0.9884,\n",
       "             0.9884,      0.9884,      0.9884,      0.9884,      0.9884,      0.9884,      0.9884,      0.9884,      0.9884,      0.9884,      0.9884,      0.9884,      0.9884,      0.9884,      0.9884,      0.9884,      0.9884,      0.9884,      0.9884,      0.9884,      0.9884,      0.9884,      0.9884,\n",
       "             0.9884,      0.9884,      0.9884,      0.9884,      0.9884,     0.98678,     0.98678,     0.98678,     0.98678,     0.98678,     0.98678,     0.98678,     0.98678,     0.98678,     0.98678,     0.98678,     0.98678,     0.98678,     0.98678,     0.98678,     0.98678,     0.98678,     0.98678,\n",
       "            0.98678,     0.98678,     0.98678,     0.98678,     0.98678,     0.98678,     0.98678,     0.98678,     0.98678,     0.98678,     0.98678,     0.98678,     0.98678,     0.98678,     0.98678,     0.98678,     0.98678,     0.98678,     0.98678,     0.98678,     0.98678,     0.98678,     0.98678,\n",
       "            0.98678,     0.98678,     0.98678,     0.98678,     0.98678,     0.98678,     0.98478,     0.98478,     0.98478,     0.98478,     0.98478,     0.98478,     0.98478,     0.98478,     0.98478,     0.98478,     0.98283,     0.98283,     0.98283,     0.98283,     0.98283,     0.98283,     0.98283,\n",
       "            0.98283,     0.98283,     0.98283,     0.98283,     0.98077,     0.98077,     0.97665,     0.97665,     0.97463,     0.97463,     0.97059,     0.97059,     0.95661,     0.95661,     0.95277,     0.95277,     0.95277,     0.95092,     0.95092,     0.93952,     0.93952,     0.90329,     0.90329,\n",
       "            0.86989,     0.86989,     0.72939,     0.72939,     0.52262,     0.43551,     0.34841,     0.26131,     0.17421,    0.087103,           0]]), 'Recall', 'Precision'], [array([          0,    0.001001,    0.002002,    0.003003,    0.004004,    0.005005,    0.006006,    0.007007,    0.008008,    0.009009,     0.01001,    0.011011,    0.012012,    0.013013,    0.014014,    0.015015,    0.016016,    0.017017,    0.018018,    0.019019,     0.02002,    0.021021,    0.022022,    0.023023,\n",
       "          0.024024,    0.025025,    0.026026,    0.027027,    0.028028,    0.029029,     0.03003,    0.031031,    0.032032,    0.033033,    0.034034,    0.035035,    0.036036,    0.037037,    0.038038,    0.039039,     0.04004,    0.041041,    0.042042,    0.043043,    0.044044,    0.045045,    0.046046,    0.047047,\n",
       "          0.048048,    0.049049,     0.05005,    0.051051,    0.052052,    0.053053,    0.054054,    0.055055,    0.056056,    0.057057,    0.058058,    0.059059,     0.06006,    0.061061,    0.062062,    0.063063,    0.064064,    0.065065,    0.066066,    0.067067,    0.068068,    0.069069,     0.07007,    0.071071,\n",
       "          0.072072,    0.073073,    0.074074,    0.075075,    0.076076,    0.077077,    0.078078,    0.079079,     0.08008,    0.081081,    0.082082,    0.083083,    0.084084,    0.085085,    0.086086,    0.087087,    0.088088,    0.089089,     0.09009,    0.091091,    0.092092,    0.093093,    0.094094,    0.095095,\n",
       "          0.096096,    0.097097,    0.098098,    0.099099,      0.1001,      0.1011,      0.1021,      0.1031,      0.1041,     0.10511,     0.10611,     0.10711,     0.10811,     0.10911,     0.11011,     0.11111,     0.11211,     0.11311,     0.11411,     0.11512,     0.11612,     0.11712,     0.11812,     0.11912,\n",
       "           0.12012,     0.12112,     0.12212,     0.12312,     0.12412,     0.12513,     0.12613,     0.12713,     0.12813,     0.12913,     0.13013,     0.13113,     0.13213,     0.13313,     0.13413,     0.13514,     0.13614,     0.13714,     0.13814,     0.13914,     0.14014,     0.14114,     0.14214,     0.14314,\n",
       "           0.14414,     0.14515,     0.14615,     0.14715,     0.14815,     0.14915,     0.15015,     0.15115,     0.15215,     0.15315,     0.15415,     0.15516,     0.15616,     0.15716,     0.15816,     0.15916,     0.16016,     0.16116,     0.16216,     0.16316,     0.16416,     0.16517,     0.16617,     0.16717,\n",
       "           0.16817,     0.16917,     0.17017,     0.17117,     0.17217,     0.17317,     0.17417,     0.17518,     0.17618,     0.17718,     0.17818,     0.17918,     0.18018,     0.18118,     0.18218,     0.18318,     0.18418,     0.18519,     0.18619,     0.18719,     0.18819,     0.18919,     0.19019,     0.19119,\n",
       "           0.19219,     0.19319,     0.19419,      0.1952,      0.1962,      0.1972,      0.1982,      0.1992,      0.2002,      0.2012,      0.2022,      0.2032,      0.2042,     0.20521,     0.20621,     0.20721,     0.20821,     0.20921,     0.21021,     0.21121,     0.21221,     0.21321,     0.21421,     0.21522,\n",
       "           0.21622,     0.21722,     0.21822,     0.21922,     0.22022,     0.22122,     0.22222,     0.22322,     0.22422,     0.22523,     0.22623,     0.22723,     0.22823,     0.22923,     0.23023,     0.23123,     0.23223,     0.23323,     0.23423,     0.23524,     0.23624,     0.23724,     0.23824,     0.23924,\n",
       "           0.24024,     0.24124,     0.24224,     0.24324,     0.24424,     0.24525,     0.24625,     0.24725,     0.24825,     0.24925,     0.25025,     0.25125,     0.25225,     0.25325,     0.25425,     0.25526,     0.25626,     0.25726,     0.25826,     0.25926,     0.26026,     0.26126,     0.26226,     0.26326,\n",
       "           0.26426,     0.26527,     0.26627,     0.26727,     0.26827,     0.26927,     0.27027,     0.27127,     0.27227,     0.27327,     0.27427,     0.27528,     0.27628,     0.27728,     0.27828,     0.27928,     0.28028,     0.28128,     0.28228,     0.28328,     0.28428,     0.28529,     0.28629,     0.28729,\n",
       "           0.28829,     0.28929,     0.29029,     0.29129,     0.29229,     0.29329,     0.29429,      0.2953,      0.2963,      0.2973,      0.2983,      0.2993,      0.3003,      0.3013,      0.3023,      0.3033,      0.3043,     0.30531,     0.30631,     0.30731,     0.30831,     0.30931,     0.31031,     0.31131,\n",
       "           0.31231,     0.31331,     0.31431,     0.31532,     0.31632,     0.31732,     0.31832,     0.31932,     0.32032,     0.32132,     0.32232,     0.32332,     0.32432,     0.32533,     0.32633,     0.32733,     0.32833,     0.32933,     0.33033,     0.33133,     0.33233,     0.33333,     0.33433,     0.33534,\n",
       "           0.33634,     0.33734,     0.33834,     0.33934,     0.34034,     0.34134,     0.34234,     0.34334,     0.34434,     0.34535,     0.34635,     0.34735,     0.34835,     0.34935,     0.35035,     0.35135,     0.35235,     0.35335,     0.35435,     0.35536,     0.35636,     0.35736,     0.35836,     0.35936,\n",
       "           0.36036,     0.36136,     0.36236,     0.36336,     0.36436,     0.36537,     0.36637,     0.36737,     0.36837,     0.36937,     0.37037,     0.37137,     0.37237,     0.37337,     0.37437,     0.37538,     0.37638,     0.37738,     0.37838,     0.37938,     0.38038,     0.38138,     0.38238,     0.38338,\n",
       "           0.38438,     0.38539,     0.38639,     0.38739,     0.38839,     0.38939,     0.39039,     0.39139,     0.39239,     0.39339,     0.39439,      0.3954,      0.3964,      0.3974,      0.3984,      0.3994,      0.4004,      0.4014,      0.4024,      0.4034,      0.4044,     0.40541,     0.40641,     0.40741,\n",
       "           0.40841,     0.40941,     0.41041,     0.41141,     0.41241,     0.41341,     0.41441,     0.41542,     0.41642,     0.41742,     0.41842,     0.41942,     0.42042,     0.42142,     0.42242,     0.42342,     0.42442,     0.42543,     0.42643,     0.42743,     0.42843,     0.42943,     0.43043,     0.43143,\n",
       "           0.43243,     0.43343,     0.43443,     0.43544,     0.43644,     0.43744,     0.43844,     0.43944,     0.44044,     0.44144,     0.44244,     0.44344,     0.44444,     0.44545,     0.44645,     0.44745,     0.44845,     0.44945,     0.45045,     0.45145,     0.45245,     0.45345,     0.45445,     0.45546,\n",
       "           0.45646,     0.45746,     0.45846,     0.45946,     0.46046,     0.46146,     0.46246,     0.46346,     0.46446,     0.46547,     0.46647,     0.46747,     0.46847,     0.46947,     0.47047,     0.47147,     0.47247,     0.47347,     0.47447,     0.47548,     0.47648,     0.47748,     0.47848,     0.47948,\n",
       "           0.48048,     0.48148,     0.48248,     0.48348,     0.48448,     0.48549,     0.48649,     0.48749,     0.48849,     0.48949,     0.49049,     0.49149,     0.49249,     0.49349,     0.49449,      0.4955,      0.4965,      0.4975,      0.4985,      0.4995,      0.5005,      0.5015,      0.5025,      0.5035,\n",
       "            0.5045,     0.50551,     0.50651,     0.50751,     0.50851,     0.50951,     0.51051,     0.51151,     0.51251,     0.51351,     0.51451,     0.51552,     0.51652,     0.51752,     0.51852,     0.51952,     0.52052,     0.52152,     0.52252,     0.52352,     0.52452,     0.52553,     0.52653,     0.52753,\n",
       "           0.52853,     0.52953,     0.53053,     0.53153,     0.53253,     0.53353,     0.53453,     0.53554,     0.53654,     0.53754,     0.53854,     0.53954,     0.54054,     0.54154,     0.54254,     0.54354,     0.54454,     0.54555,     0.54655,     0.54755,     0.54855,     0.54955,     0.55055,     0.55155,\n",
       "           0.55255,     0.55355,     0.55455,     0.55556,     0.55656,     0.55756,     0.55856,     0.55956,     0.56056,     0.56156,     0.56256,     0.56356,     0.56456,     0.56557,     0.56657,     0.56757,     0.56857,     0.56957,     0.57057,     0.57157,     0.57257,     0.57357,     0.57457,     0.57558,\n",
       "           0.57658,     0.57758,     0.57858,     0.57958,     0.58058,     0.58158,     0.58258,     0.58358,     0.58458,     0.58559,     0.58659,     0.58759,     0.58859,     0.58959,     0.59059,     0.59159,     0.59259,     0.59359,     0.59459,      0.5956,      0.5966,      0.5976,      0.5986,      0.5996,\n",
       "            0.6006,      0.6016,      0.6026,      0.6036,      0.6046,     0.60561,     0.60661,     0.60761,     0.60861,     0.60961,     0.61061,     0.61161,     0.61261,     0.61361,     0.61461,     0.61562,     0.61662,     0.61762,     0.61862,     0.61962,     0.62062,     0.62162,     0.62262,     0.62362,\n",
       "           0.62462,     0.62563,     0.62663,     0.62763,     0.62863,     0.62963,     0.63063,     0.63163,     0.63263,     0.63363,     0.63463,     0.63564,     0.63664,     0.63764,     0.63864,     0.63964,     0.64064,     0.64164,     0.64264,     0.64364,     0.64464,     0.64565,     0.64665,     0.64765,\n",
       "           0.64865,     0.64965,     0.65065,     0.65165,     0.65265,     0.65365,     0.65465,     0.65566,     0.65666,     0.65766,     0.65866,     0.65966,     0.66066,     0.66166,     0.66266,     0.66366,     0.66466,     0.66567,     0.66667,     0.66767,     0.66867,     0.66967,     0.67067,     0.67167,\n",
       "           0.67267,     0.67367,     0.67467,     0.67568,     0.67668,     0.67768,     0.67868,     0.67968,     0.68068,     0.68168,     0.68268,     0.68368,     0.68468,     0.68569,     0.68669,     0.68769,     0.68869,     0.68969,     0.69069,     0.69169,     0.69269,     0.69369,     0.69469,      0.6957,\n",
       "            0.6967,      0.6977,      0.6987,      0.6997,      0.7007,      0.7017,      0.7027,      0.7037,      0.7047,     0.70571,     0.70671,     0.70771,     0.70871,     0.70971,     0.71071,     0.71171,     0.71271,     0.71371,     0.71471,     0.71572,     0.71672,     0.71772,     0.71872,     0.71972,\n",
       "           0.72072,     0.72172,     0.72272,     0.72372,     0.72472,     0.72573,     0.72673,     0.72773,     0.72873,     0.72973,     0.73073,     0.73173,     0.73273,     0.73373,     0.73473,     0.73574,     0.73674,     0.73774,     0.73874,     0.73974,     0.74074,     0.74174,     0.74274,     0.74374,\n",
       "           0.74474,     0.74575,     0.74675,     0.74775,     0.74875,     0.74975,     0.75075,     0.75175,     0.75275,     0.75375,     0.75475,     0.75576,     0.75676,     0.75776,     0.75876,     0.75976,     0.76076,     0.76176,     0.76276,     0.76376,     0.76476,     0.76577,     0.76677,     0.76777,\n",
       "           0.76877,     0.76977,     0.77077,     0.77177,     0.77277,     0.77377,     0.77477,     0.77578,     0.77678,     0.77778,     0.77878,     0.77978,     0.78078,     0.78178,     0.78278,     0.78378,     0.78478,     0.78579,     0.78679,     0.78779,     0.78879,     0.78979,     0.79079,     0.79179,\n",
       "           0.79279,     0.79379,     0.79479,      0.7958,      0.7968,      0.7978,      0.7988,      0.7998,      0.8008,      0.8018,      0.8028,      0.8038,      0.8048,     0.80581,     0.80681,     0.80781,     0.80881,     0.80981,     0.81081,     0.81181,     0.81281,     0.81381,     0.81481,     0.81582,\n",
       "           0.81682,     0.81782,     0.81882,     0.81982,     0.82082,     0.82182,     0.82282,     0.82382,     0.82482,     0.82583,     0.82683,     0.82783,     0.82883,     0.82983,     0.83083,     0.83183,     0.83283,     0.83383,     0.83483,     0.83584,     0.83684,     0.83784,     0.83884,     0.83984,\n",
       "           0.84084,     0.84184,     0.84284,     0.84384,     0.84484,     0.84585,     0.84685,     0.84785,     0.84885,     0.84985,     0.85085,     0.85185,     0.85285,     0.85385,     0.85485,     0.85586,     0.85686,     0.85786,     0.85886,     0.85986,     0.86086,     0.86186,     0.86286,     0.86386,\n",
       "           0.86486,     0.86587,     0.86687,     0.86787,     0.86887,     0.86987,     0.87087,     0.87187,     0.87287,     0.87387,     0.87487,     0.87588,     0.87688,     0.87788,     0.87888,     0.87988,     0.88088,     0.88188,     0.88288,     0.88388,     0.88488,     0.88589,     0.88689,     0.88789,\n",
       "           0.88889,     0.88989,     0.89089,     0.89189,     0.89289,     0.89389,     0.89489,      0.8959,      0.8969,      0.8979,      0.8989,      0.8999,      0.9009,      0.9019,      0.9029,      0.9039,      0.9049,     0.90591,     0.90691,     0.90791,     0.90891,     0.90991,     0.91091,     0.91191,\n",
       "           0.91291,     0.91391,     0.91491,     0.91592,     0.91692,     0.91792,     0.91892,     0.91992,     0.92092,     0.92192,     0.92292,     0.92392,     0.92492,     0.92593,     0.92693,     0.92793,     0.92893,     0.92993,     0.93093,     0.93193,     0.93293,     0.93393,     0.93493,     0.93594,\n",
       "           0.93694,     0.93794,     0.93894,     0.93994,     0.94094,     0.94194,     0.94294,     0.94394,     0.94494,     0.94595,     0.94695,     0.94795,     0.94895,     0.94995,     0.95095,     0.95195,     0.95295,     0.95395,     0.95495,     0.95596,     0.95696,     0.95796,     0.95896,     0.95996,\n",
       "           0.96096,     0.96196,     0.96296,     0.96396,     0.96496,     0.96597,     0.96697,     0.96797,     0.96897,     0.96997,     0.97097,     0.97197,     0.97297,     0.97397,     0.97497,     0.97598,     0.97698,     0.97798,     0.97898,     0.97998,     0.98098,     0.98198,     0.98298,     0.98398,\n",
       "           0.98498,     0.98599,     0.98699,     0.98799,     0.98899,     0.98999,     0.99099,     0.99199,     0.99299,     0.99399,     0.99499,       0.996,       0.997,       0.998,       0.999,           1]), array([[    0.71061,     0.71061,     0.78721,     0.82678,     0.84796,     0.86197,     0.87184,     0.87901,     0.88639,     0.89302,     0.89753,     0.89947,     0.90348,     0.90835,     0.91143,     0.91376,     0.91581,     0.91611,     0.91637,     0.91662,     0.91705,     0.91763,     0.91979,\n",
       "             0.9233,     0.92373,     0.92508,     0.92667,      0.9258,     0.92716,     0.92872,     0.93083,     0.93136,     0.93169,     0.93202,     0.93238,     0.93276,     0.93312,     0.93338,     0.93364,      0.9339,      0.9346,     0.93575,     0.93704,     0.93736,     0.93768,     0.93799,\n",
       "            0.93831,     0.93863,     0.93975,     0.94066,     0.94105,     0.94145,     0.94267,     0.94291,     0.94316,      0.9434,     0.94354,     0.94366,     0.94379,     0.94391,     0.94403,     0.94416,     0.94428,     0.94332,      0.9435,     0.94369,     0.94387,     0.94405,     0.94423,\n",
       "            0.94446,     0.94469,     0.94493,     0.94516,     0.94533,     0.94547,     0.94561,     0.94575,     0.94589,     0.94603,     0.94617,     0.94648,     0.94682,     0.94715,     0.94742,     0.94769,     0.94796,     0.94815,     0.94824,     0.94833,     0.94842,      0.9485,     0.94859,\n",
       "            0.94868,     0.94877,     0.94886,     0.94894,     0.94903,     0.94915,      0.9493,     0.94945,     0.94961,     0.94976,     0.94991,     0.95007,     0.95034,      0.9506,     0.95087,      0.9511,      0.9513,      0.9515,     0.95169,     0.95189,     0.95207,     0.95224,      0.9524,\n",
       "            0.95256,     0.95273,     0.95289,       0.953,     0.95307,     0.95314,     0.95321,     0.95328,     0.95335,     0.95342,     0.95349,     0.95356,     0.95363,      0.9537,     0.95377,     0.95384,     0.95391,     0.95423,     0.95476,     0.95497,     0.95505,     0.95513,      0.9552,\n",
       "            0.95528,     0.95536,     0.95544,     0.95551,     0.95559,     0.95567,     0.95575,     0.95582,      0.9559,     0.95594,     0.95599,     0.95604,     0.95608,     0.95613,     0.95617,     0.95622,     0.95626,     0.95631,     0.95635,      0.9564,     0.95644,     0.95649,     0.95654,\n",
       "            0.95658,     0.95663,     0.95667,     0.95672,     0.95676,     0.95681,     0.95685,     0.95692,     0.95701,     0.95711,      0.9572,     0.95729,     0.95738,     0.95748,     0.95757,     0.95766,     0.95775,     0.95785,     0.95792,       0.958,     0.95807,     0.95814,     0.95821,\n",
       "            0.95829,     0.95836,     0.95843,     0.95851,     0.95858,     0.95865,     0.95872,      0.9588,     0.95888,     0.95901,     0.95913,     0.95925,     0.95938,      0.9595,     0.95962,     0.95974,     0.95997,     0.96051,     0.96084,     0.96088,     0.96092,     0.96095,     0.96099,\n",
       "            0.96103,     0.96107,      0.9611,     0.96114,     0.96118,     0.96122,     0.96125,     0.96129,     0.96133,     0.96137,     0.96141,     0.96144,     0.96148,     0.96152,     0.96156,     0.96159,     0.96163,     0.96167,     0.96171,     0.96174,     0.96178,     0.96182,     0.96194,\n",
       "            0.96205,     0.96216,     0.96227,     0.96238,     0.96249,      0.9626,     0.96271,     0.96281,     0.96273,     0.96265,     0.96257,     0.96249,     0.96242,     0.96234,     0.96226,     0.96218,     0.96211,     0.96203,     0.96195,     0.96187,     0.96179,     0.96176,     0.96185,\n",
       "            0.96194,     0.96203,     0.96212,     0.96221,     0.96229,     0.96238,     0.96247,     0.96256,     0.96265,     0.96274,     0.96278,     0.96282,     0.96286,      0.9629,     0.96294,     0.96299,     0.96303,     0.96307,     0.96311,     0.96315,     0.96319,     0.96324,     0.96328,\n",
       "            0.96332,     0.96336,      0.9634,     0.96344,     0.96349,     0.96353,     0.96357,     0.96361,     0.96365,      0.9637,     0.96374,     0.96383,     0.96392,     0.96401,      0.9641,     0.96419,     0.96428,     0.96437,     0.96446,     0.96455,     0.96464,     0.96472,     0.96478,\n",
       "            0.96484,      0.9649,     0.96495,     0.96501,     0.96507,     0.96513,     0.96518,     0.96524,      0.9653,     0.96535,     0.96541,     0.96547,     0.96553,     0.96558,     0.96564,      0.9657,     0.96574,     0.96575,     0.96576,     0.96577,     0.96578,     0.96579,      0.9658,\n",
       "            0.96581,     0.96582,     0.96584,     0.96585,     0.96586,     0.96587,     0.96588,     0.96589,      0.9659,     0.96591,     0.96592,     0.96593,     0.96594,     0.96596,     0.96597,     0.96598,     0.96599,       0.966,     0.96601,     0.96602,     0.96603,     0.96604,     0.96605,\n",
       "            0.96607,     0.96608,     0.96609,      0.9661,     0.96611,     0.96612,     0.96613,     0.96614,     0.96615,     0.96616,     0.96618,     0.96619,      0.9662,     0.96621,     0.96622,     0.96623,     0.96624,     0.96625,     0.96626,     0.96627,     0.96629,      0.9663,     0.96631,\n",
       "            0.96632,     0.96633,     0.96634,     0.96635,     0.96636,     0.96637,     0.96638,     0.96639,     0.96641,     0.96642,     0.96643,     0.96644,     0.96645,     0.96646,     0.96647,     0.96648,     0.96649,      0.9665,     0.96652,     0.96653,     0.96654,     0.96655,     0.96656,\n",
       "            0.96657,     0.96658,     0.96659,      0.9666,     0.96661,     0.96663,     0.96664,     0.96665,     0.96666,     0.96667,     0.96668,     0.96669,      0.9667,     0.96671,     0.96672,     0.96674,     0.96677,     0.96681,     0.96686,      0.9669,     0.96694,     0.96698,     0.96702,\n",
       "            0.96706,      0.9671,     0.96714,     0.96718,     0.96722,     0.96726,      0.9673,     0.96735,     0.96739,     0.96743,     0.96747,     0.96751,     0.96755,     0.96759,     0.96763,     0.96767,     0.96771,     0.96764,     0.96727,      0.9669,     0.96668,     0.96673,     0.96677,\n",
       "            0.96682,     0.96687,     0.96691,     0.96696,       0.967,     0.96705,      0.9671,     0.96714,     0.96719,     0.96723,     0.96728,     0.96733,     0.96737,     0.96742,     0.96746,     0.96751,     0.96756,      0.9676,     0.96765,     0.96764,     0.96755,     0.96745,     0.96736,\n",
       "            0.96727,     0.96718,     0.96709,     0.96699,      0.9669,     0.96681,     0.96672,     0.96663,     0.96696,     0.96747,     0.96765,     0.96771,     0.96777,     0.96784,      0.9679,     0.96796,     0.96802,     0.96808,     0.96814,      0.9682,     0.96826,     0.96832,     0.96838,\n",
       "            0.96845,     0.96851,     0.96857,      0.9686,     0.96846,     0.96832,     0.96818,     0.96804,     0.96791,     0.96777,     0.96763,     0.96763,     0.96789,     0.96815,     0.96841,     0.96858,     0.96863,     0.96868,     0.96872,     0.96877,     0.96882,     0.96887,     0.96892,\n",
       "            0.96897,     0.96902,     0.96907,     0.96912,     0.96917,     0.96922,     0.96927,     0.96932,     0.96937,     0.96942,     0.96947,     0.96952,     0.96957,     0.96963,      0.9697,     0.96976,     0.96983,     0.96989,     0.96996,     0.97002,     0.97009,     0.97015,     0.97022,\n",
       "            0.97029,     0.97035,     0.97042,     0.97048,     0.97055,     0.97062,      0.9707,     0.97078,     0.97086,     0.97094,     0.97102,      0.9711,     0.97118,     0.97126,     0.97134,     0.97142,      0.9715,     0.97158,     0.97164,     0.97168,     0.97172,     0.97176,      0.9718,\n",
       "            0.97184,     0.97188,     0.97192,     0.97197,     0.97201,     0.97205,     0.97209,     0.97213,     0.97217,     0.97221,     0.97225,     0.97229,     0.97234,     0.97238,     0.97242,     0.97246,      0.9725,     0.97254,     0.97258,     0.97262,     0.97266,      0.9727,     0.97274,\n",
       "            0.97279,     0.97283,     0.97287,     0.97291,     0.97295,     0.97299,     0.97303,     0.97307,     0.97311,     0.97315,     0.97319,     0.97323,     0.97327,     0.97331,     0.97335,     0.97339,     0.97343,     0.97347,     0.97351,     0.97355,     0.97359,     0.97363,     0.97465,\n",
       "            0.97459,     0.97452,     0.97445,     0.97439,     0.97432,     0.97425,     0.97418,     0.97412,     0.97405,     0.97398,     0.97392,     0.97385,     0.97378,     0.97371,     0.97365,     0.97395,      0.9747,     0.97489,     0.97508,     0.97528,     0.97547,     0.97566,     0.97539,\n",
       "            0.97511,     0.97483,     0.97461,     0.97504,     0.97546,     0.97543,     0.97515,     0.97487,     0.97459,     0.97461,     0.97473,     0.97485,     0.97496,     0.97508,      0.9752,     0.97532,     0.97544,     0.97555,     0.97564,     0.97572,      0.9758,     0.97588,     0.97596,\n",
       "            0.97605,     0.97613,     0.97621,     0.97629,     0.97637,     0.97646,     0.97654,     0.97659,     0.97656,     0.97652,     0.97649,     0.97646,     0.97643,      0.9764,     0.97637,     0.97634,      0.9763,     0.97627,     0.97624,     0.97621,     0.97618,     0.97615,     0.97612,\n",
       "            0.97608,     0.97605,     0.97602,     0.97599,     0.97596,     0.97593,     0.97589,     0.97586,     0.97583,      0.9758,     0.97577,     0.97574,     0.97571,     0.97567,     0.97564,     0.97561,     0.97558,     0.97555,     0.97552,     0.97562,      0.9758,     0.97598,     0.97615,\n",
       "            0.97633,     0.97651,     0.97619,     0.97574,     0.97534,     0.97502,      0.9747,     0.97438,     0.97417,     0.97396,     0.97376,     0.97355,     0.97335,     0.97294,     0.97237,     0.97202,      0.9718,     0.97157,     0.97134,     0.97112,     0.97203,     0.97193,     0.97183,\n",
       "            0.97173,     0.97164,     0.97154,     0.97144,     0.97134,     0.97124,     0.97114,     0.97105,     0.97089,     0.97068,     0.97048,     0.97027,     0.97007,     0.96987,      0.9697,     0.96954,     0.96938,     0.96922,     0.96905,     0.96889,     0.96759,     0.96733,     0.96708,\n",
       "            0.96683,     0.96657,     0.96757,       0.965,     0.96423,     0.96347,     0.96055,     0.95997,     0.95927,     0.95852,     0.95794,     0.95725,     0.95507,     0.95448,     0.95374,     0.95268,     0.95189,     0.94913,     0.94873,     0.94834,     0.94332,     0.94252,     0.94297,\n",
       "            0.94119,     0.93802,     0.93602,     0.93161,     0.92907,     0.92674,     0.92533,     0.92271,     0.91943,      0.9186,     0.91561,     0.91401,      0.9103,     0.90945,      0.9086,     0.90298,      0.8961,     0.89466,     0.89059,     0.88886,     0.88237,     0.87702,      0.8699,\n",
       "            0.86751,     0.86419,     0.86058,     0.85453,     0.85173,      0.8503,     0.84225,     0.84041,     0.83215,      0.8289,     0.82187,     0.81717,     0.80241,     0.80066,     0.79159,     0.77349,     0.76151,     0.75182,     0.74264,     0.72401,      0.7082,     0.70103,     0.69129,\n",
       "            0.67729,     0.66352,     0.65741,     0.63602,     0.61747,      0.5974,     0.58108,     0.57393,     0.54977,     0.53332,     0.51153,     0.48757,     0.45929,     0.45757,     0.43711,     0.41871,     0.40246,     0.37202,     0.36377,     0.36183,     0.34301,     0.33409,     0.32566,\n",
       "            0.30386,     0.29988,     0.28194,     0.27044,     0.26827,     0.24961,     0.24251,      0.2362,     0.22609,     0.22073,     0.20893,     0.20193,     0.19488,     0.18445,     0.17711,     0.16665,     0.16256,     0.15868,     0.15684,     0.15012,     0.13725,     0.12887,     0.12259,\n",
       "            0.12003,     0.11829,     0.11675,     0.11521,     0.11367,     0.11212,     0.10961,     0.10702,     0.10443,     0.10364,     0.10286,     0.10208,     0.10129,    0.099674,    0.095533,    0.093562,    0.090241,    0.086273,    0.082288,    0.076328,     0.07329,     0.07267,    0.072049,\n",
       "           0.071428,    0.070806,    0.070184,    0.069562,    0.061825,    0.057172,     0.05626,    0.055348,    0.054435,     0.05353,    0.052707,    0.051883,    0.051059,    0.050234,    0.049509,     0.04915,     0.04879,    0.048431,    0.048071,    0.047711,    0.047351,    0.046991,    0.046631,\n",
       "           0.046271,     0.04591,     0.04555,    0.042786,    0.040937,    0.039895,    0.038852,    0.037807,    0.037015,    0.036371,    0.035727,    0.035082,    0.034437,    0.033792,    0.023873,    0.020696,    0.019845,    0.018993,    0.018141,    0.017287,    0.016558,    0.015988,    0.015418,\n",
       "           0.014848,    0.014277,    0.013706,    0.013135,     0.01246,    0.011029,   0.0095961,   0.0082874,   0.0075039,   0.0067198,   0.0059351,   0.0051498,   0.0043639,           0,           0,           0,           0,           0,           0,           0,           0,           0,           0,\n",
       "                  0,           0,           0,           0,           0,           0,           0,           0,           0,           0,           0,           0,           0,           0,           0,           0,           0,           0,           0,           0,           0,           0,           0,\n",
       "                  0,           0,           0,           0,           0,           0,           0,           0,           0,           0,           0,           0,           0,           0,           0,           0,           0,           0,           0,           0,           0,           0,           0,\n",
       "                  0,           0,           0,           0,           0,           0,           0,           0,           0,           0,           0]]), 'Confidence', 'F1'], [array([          0,    0.001001,    0.002002,    0.003003,    0.004004,    0.005005,    0.006006,    0.007007,    0.008008,    0.009009,     0.01001,    0.011011,    0.012012,    0.013013,    0.014014,    0.015015,    0.016016,    0.017017,    0.018018,    0.019019,     0.02002,    0.021021,    0.022022,    0.023023,\n",
       "          0.024024,    0.025025,    0.026026,    0.027027,    0.028028,    0.029029,     0.03003,    0.031031,    0.032032,    0.033033,    0.034034,    0.035035,    0.036036,    0.037037,    0.038038,    0.039039,     0.04004,    0.041041,    0.042042,    0.043043,    0.044044,    0.045045,    0.046046,    0.047047,\n",
       "          0.048048,    0.049049,     0.05005,    0.051051,    0.052052,    0.053053,    0.054054,    0.055055,    0.056056,    0.057057,    0.058058,    0.059059,     0.06006,    0.061061,    0.062062,    0.063063,    0.064064,    0.065065,    0.066066,    0.067067,    0.068068,    0.069069,     0.07007,    0.071071,\n",
       "          0.072072,    0.073073,    0.074074,    0.075075,    0.076076,    0.077077,    0.078078,    0.079079,     0.08008,    0.081081,    0.082082,    0.083083,    0.084084,    0.085085,    0.086086,    0.087087,    0.088088,    0.089089,     0.09009,    0.091091,    0.092092,    0.093093,    0.094094,    0.095095,\n",
       "          0.096096,    0.097097,    0.098098,    0.099099,      0.1001,      0.1011,      0.1021,      0.1031,      0.1041,     0.10511,     0.10611,     0.10711,     0.10811,     0.10911,     0.11011,     0.11111,     0.11211,     0.11311,     0.11411,     0.11512,     0.11612,     0.11712,     0.11812,     0.11912,\n",
       "           0.12012,     0.12112,     0.12212,     0.12312,     0.12412,     0.12513,     0.12613,     0.12713,     0.12813,     0.12913,     0.13013,     0.13113,     0.13213,     0.13313,     0.13413,     0.13514,     0.13614,     0.13714,     0.13814,     0.13914,     0.14014,     0.14114,     0.14214,     0.14314,\n",
       "           0.14414,     0.14515,     0.14615,     0.14715,     0.14815,     0.14915,     0.15015,     0.15115,     0.15215,     0.15315,     0.15415,     0.15516,     0.15616,     0.15716,     0.15816,     0.15916,     0.16016,     0.16116,     0.16216,     0.16316,     0.16416,     0.16517,     0.16617,     0.16717,\n",
       "           0.16817,     0.16917,     0.17017,     0.17117,     0.17217,     0.17317,     0.17417,     0.17518,     0.17618,     0.17718,     0.17818,     0.17918,     0.18018,     0.18118,     0.18218,     0.18318,     0.18418,     0.18519,     0.18619,     0.18719,     0.18819,     0.18919,     0.19019,     0.19119,\n",
       "           0.19219,     0.19319,     0.19419,      0.1952,      0.1962,      0.1972,      0.1982,      0.1992,      0.2002,      0.2012,      0.2022,      0.2032,      0.2042,     0.20521,     0.20621,     0.20721,     0.20821,     0.20921,     0.21021,     0.21121,     0.21221,     0.21321,     0.21421,     0.21522,\n",
       "           0.21622,     0.21722,     0.21822,     0.21922,     0.22022,     0.22122,     0.22222,     0.22322,     0.22422,     0.22523,     0.22623,     0.22723,     0.22823,     0.22923,     0.23023,     0.23123,     0.23223,     0.23323,     0.23423,     0.23524,     0.23624,     0.23724,     0.23824,     0.23924,\n",
       "           0.24024,     0.24124,     0.24224,     0.24324,     0.24424,     0.24525,     0.24625,     0.24725,     0.24825,     0.24925,     0.25025,     0.25125,     0.25225,     0.25325,     0.25425,     0.25526,     0.25626,     0.25726,     0.25826,     0.25926,     0.26026,     0.26126,     0.26226,     0.26326,\n",
       "           0.26426,     0.26527,     0.26627,     0.26727,     0.26827,     0.26927,     0.27027,     0.27127,     0.27227,     0.27327,     0.27427,     0.27528,     0.27628,     0.27728,     0.27828,     0.27928,     0.28028,     0.28128,     0.28228,     0.28328,     0.28428,     0.28529,     0.28629,     0.28729,\n",
       "           0.28829,     0.28929,     0.29029,     0.29129,     0.29229,     0.29329,     0.29429,      0.2953,      0.2963,      0.2973,      0.2983,      0.2993,      0.3003,      0.3013,      0.3023,      0.3033,      0.3043,     0.30531,     0.30631,     0.30731,     0.30831,     0.30931,     0.31031,     0.31131,\n",
       "           0.31231,     0.31331,     0.31431,     0.31532,     0.31632,     0.31732,     0.31832,     0.31932,     0.32032,     0.32132,     0.32232,     0.32332,     0.32432,     0.32533,     0.32633,     0.32733,     0.32833,     0.32933,     0.33033,     0.33133,     0.33233,     0.33333,     0.33433,     0.33534,\n",
       "           0.33634,     0.33734,     0.33834,     0.33934,     0.34034,     0.34134,     0.34234,     0.34334,     0.34434,     0.34535,     0.34635,     0.34735,     0.34835,     0.34935,     0.35035,     0.35135,     0.35235,     0.35335,     0.35435,     0.35536,     0.35636,     0.35736,     0.35836,     0.35936,\n",
       "           0.36036,     0.36136,     0.36236,     0.36336,     0.36436,     0.36537,     0.36637,     0.36737,     0.36837,     0.36937,     0.37037,     0.37137,     0.37237,     0.37337,     0.37437,     0.37538,     0.37638,     0.37738,     0.37838,     0.37938,     0.38038,     0.38138,     0.38238,     0.38338,\n",
       "           0.38438,     0.38539,     0.38639,     0.38739,     0.38839,     0.38939,     0.39039,     0.39139,     0.39239,     0.39339,     0.39439,      0.3954,      0.3964,      0.3974,      0.3984,      0.3994,      0.4004,      0.4014,      0.4024,      0.4034,      0.4044,     0.40541,     0.40641,     0.40741,\n",
       "           0.40841,     0.40941,     0.41041,     0.41141,     0.41241,     0.41341,     0.41441,     0.41542,     0.41642,     0.41742,     0.41842,     0.41942,     0.42042,     0.42142,     0.42242,     0.42342,     0.42442,     0.42543,     0.42643,     0.42743,     0.42843,     0.42943,     0.43043,     0.43143,\n",
       "           0.43243,     0.43343,     0.43443,     0.43544,     0.43644,     0.43744,     0.43844,     0.43944,     0.44044,     0.44144,     0.44244,     0.44344,     0.44444,     0.44545,     0.44645,     0.44745,     0.44845,     0.44945,     0.45045,     0.45145,     0.45245,     0.45345,     0.45445,     0.45546,\n",
       "           0.45646,     0.45746,     0.45846,     0.45946,     0.46046,     0.46146,     0.46246,     0.46346,     0.46446,     0.46547,     0.46647,     0.46747,     0.46847,     0.46947,     0.47047,     0.47147,     0.47247,     0.47347,     0.47447,     0.47548,     0.47648,     0.47748,     0.47848,     0.47948,\n",
       "           0.48048,     0.48148,     0.48248,     0.48348,     0.48448,     0.48549,     0.48649,     0.48749,     0.48849,     0.48949,     0.49049,     0.49149,     0.49249,     0.49349,     0.49449,      0.4955,      0.4965,      0.4975,      0.4985,      0.4995,      0.5005,      0.5015,      0.5025,      0.5035,\n",
       "            0.5045,     0.50551,     0.50651,     0.50751,     0.50851,     0.50951,     0.51051,     0.51151,     0.51251,     0.51351,     0.51451,     0.51552,     0.51652,     0.51752,     0.51852,     0.51952,     0.52052,     0.52152,     0.52252,     0.52352,     0.52452,     0.52553,     0.52653,     0.52753,\n",
       "           0.52853,     0.52953,     0.53053,     0.53153,     0.53253,     0.53353,     0.53453,     0.53554,     0.53654,     0.53754,     0.53854,     0.53954,     0.54054,     0.54154,     0.54254,     0.54354,     0.54454,     0.54555,     0.54655,     0.54755,     0.54855,     0.54955,     0.55055,     0.55155,\n",
       "           0.55255,     0.55355,     0.55455,     0.55556,     0.55656,     0.55756,     0.55856,     0.55956,     0.56056,     0.56156,     0.56256,     0.56356,     0.56456,     0.56557,     0.56657,     0.56757,     0.56857,     0.56957,     0.57057,     0.57157,     0.57257,     0.57357,     0.57457,     0.57558,\n",
       "           0.57658,     0.57758,     0.57858,     0.57958,     0.58058,     0.58158,     0.58258,     0.58358,     0.58458,     0.58559,     0.58659,     0.58759,     0.58859,     0.58959,     0.59059,     0.59159,     0.59259,     0.59359,     0.59459,      0.5956,      0.5966,      0.5976,      0.5986,      0.5996,\n",
       "            0.6006,      0.6016,      0.6026,      0.6036,      0.6046,     0.60561,     0.60661,     0.60761,     0.60861,     0.60961,     0.61061,     0.61161,     0.61261,     0.61361,     0.61461,     0.61562,     0.61662,     0.61762,     0.61862,     0.61962,     0.62062,     0.62162,     0.62262,     0.62362,\n",
       "           0.62462,     0.62563,     0.62663,     0.62763,     0.62863,     0.62963,     0.63063,     0.63163,     0.63263,     0.63363,     0.63463,     0.63564,     0.63664,     0.63764,     0.63864,     0.63964,     0.64064,     0.64164,     0.64264,     0.64364,     0.64464,     0.64565,     0.64665,     0.64765,\n",
       "           0.64865,     0.64965,     0.65065,     0.65165,     0.65265,     0.65365,     0.65465,     0.65566,     0.65666,     0.65766,     0.65866,     0.65966,     0.66066,     0.66166,     0.66266,     0.66366,     0.66466,     0.66567,     0.66667,     0.66767,     0.66867,     0.66967,     0.67067,     0.67167,\n",
       "           0.67267,     0.67367,     0.67467,     0.67568,     0.67668,     0.67768,     0.67868,     0.67968,     0.68068,     0.68168,     0.68268,     0.68368,     0.68468,     0.68569,     0.68669,     0.68769,     0.68869,     0.68969,     0.69069,     0.69169,     0.69269,     0.69369,     0.69469,      0.6957,\n",
       "            0.6967,      0.6977,      0.6987,      0.6997,      0.7007,      0.7017,      0.7027,      0.7037,      0.7047,     0.70571,     0.70671,     0.70771,     0.70871,     0.70971,     0.71071,     0.71171,     0.71271,     0.71371,     0.71471,     0.71572,     0.71672,     0.71772,     0.71872,     0.71972,\n",
       "           0.72072,     0.72172,     0.72272,     0.72372,     0.72472,     0.72573,     0.72673,     0.72773,     0.72873,     0.72973,     0.73073,     0.73173,     0.73273,     0.73373,     0.73473,     0.73574,     0.73674,     0.73774,     0.73874,     0.73974,     0.74074,     0.74174,     0.74274,     0.74374,\n",
       "           0.74474,     0.74575,     0.74675,     0.74775,     0.74875,     0.74975,     0.75075,     0.75175,     0.75275,     0.75375,     0.75475,     0.75576,     0.75676,     0.75776,     0.75876,     0.75976,     0.76076,     0.76176,     0.76276,     0.76376,     0.76476,     0.76577,     0.76677,     0.76777,\n",
       "           0.76877,     0.76977,     0.77077,     0.77177,     0.77277,     0.77377,     0.77477,     0.77578,     0.77678,     0.77778,     0.77878,     0.77978,     0.78078,     0.78178,     0.78278,     0.78378,     0.78478,     0.78579,     0.78679,     0.78779,     0.78879,     0.78979,     0.79079,     0.79179,\n",
       "           0.79279,     0.79379,     0.79479,      0.7958,      0.7968,      0.7978,      0.7988,      0.7998,      0.8008,      0.8018,      0.8028,      0.8038,      0.8048,     0.80581,     0.80681,     0.80781,     0.80881,     0.80981,     0.81081,     0.81181,     0.81281,     0.81381,     0.81481,     0.81582,\n",
       "           0.81682,     0.81782,     0.81882,     0.81982,     0.82082,     0.82182,     0.82282,     0.82382,     0.82482,     0.82583,     0.82683,     0.82783,     0.82883,     0.82983,     0.83083,     0.83183,     0.83283,     0.83383,     0.83483,     0.83584,     0.83684,     0.83784,     0.83884,     0.83984,\n",
       "           0.84084,     0.84184,     0.84284,     0.84384,     0.84484,     0.84585,     0.84685,     0.84785,     0.84885,     0.84985,     0.85085,     0.85185,     0.85285,     0.85385,     0.85485,     0.85586,     0.85686,     0.85786,     0.85886,     0.85986,     0.86086,     0.86186,     0.86286,     0.86386,\n",
       "           0.86486,     0.86587,     0.86687,     0.86787,     0.86887,     0.86987,     0.87087,     0.87187,     0.87287,     0.87387,     0.87487,     0.87588,     0.87688,     0.87788,     0.87888,     0.87988,     0.88088,     0.88188,     0.88288,     0.88388,     0.88488,     0.88589,     0.88689,     0.88789,\n",
       "           0.88889,     0.88989,     0.89089,     0.89189,     0.89289,     0.89389,     0.89489,      0.8959,      0.8969,      0.8979,      0.8989,      0.8999,      0.9009,      0.9019,      0.9029,      0.9039,      0.9049,     0.90591,     0.90691,     0.90791,     0.90891,     0.90991,     0.91091,     0.91191,\n",
       "           0.91291,     0.91391,     0.91491,     0.91592,     0.91692,     0.91792,     0.91892,     0.91992,     0.92092,     0.92192,     0.92292,     0.92392,     0.92492,     0.92593,     0.92693,     0.92793,     0.92893,     0.92993,     0.93093,     0.93193,     0.93293,     0.93393,     0.93493,     0.93594,\n",
       "           0.93694,     0.93794,     0.93894,     0.93994,     0.94094,     0.94194,     0.94294,     0.94394,     0.94494,     0.94595,     0.94695,     0.94795,     0.94895,     0.94995,     0.95095,     0.95195,     0.95295,     0.95395,     0.95495,     0.95596,     0.95696,     0.95796,     0.95896,     0.95996,\n",
       "           0.96096,     0.96196,     0.96296,     0.96396,     0.96496,     0.96597,     0.96697,     0.96797,     0.96897,     0.96997,     0.97097,     0.97197,     0.97297,     0.97397,     0.97497,     0.97598,     0.97698,     0.97798,     0.97898,     0.97998,     0.98098,     0.98198,     0.98298,     0.98398,\n",
       "           0.98498,     0.98599,     0.98699,     0.98799,     0.98899,     0.98999,     0.99099,     0.99199,     0.99299,     0.99399,     0.99499,       0.996,       0.997,       0.998,       0.999,           1]), array([[    0.55307,     0.55307,      0.6518,      0.7079,     0.74071,     0.76236,     0.77794,     0.78942,     0.80141,     0.81232,     0.81981,     0.82306,      0.8298,     0.83806,      0.8433,      0.8473,     0.85084,     0.85135,      0.8518,     0.85224,     0.85298,     0.85399,     0.85773,\n",
       "            0.86386,     0.86462,     0.86697,     0.86987,     0.86968,     0.87228,     0.87505,      0.8788,     0.87975,     0.88034,     0.88092,     0.88157,     0.88226,     0.88289,     0.88336,     0.88382,     0.88429,     0.88555,     0.88762,     0.88994,     0.89051,     0.89109,     0.89166,\n",
       "            0.89224,     0.89281,     0.89483,     0.89649,     0.89721,     0.89792,     0.90015,     0.90059,     0.90104,     0.90148,     0.90174,     0.90196,     0.90219,     0.90241,     0.90264,     0.90287,     0.90309,     0.90311,     0.90344,     0.90377,     0.90411,     0.90444,     0.90478,\n",
       "            0.90519,     0.90562,     0.90605,     0.90648,     0.90679,     0.90705,     0.90731,     0.90757,     0.90783,     0.90809,     0.90834,     0.90891,     0.90953,     0.91015,     0.91065,     0.91114,     0.91164,       0.912,     0.91216,     0.91233,     0.91249,     0.91265,     0.91282,\n",
       "            0.91298,     0.91314,      0.9133,     0.91347,     0.91363,     0.91384,     0.91413,     0.91441,     0.91469,     0.91498,     0.91526,     0.91556,     0.91605,     0.91654,     0.91704,     0.91748,     0.91784,     0.91821,     0.91857,     0.91894,     0.91928,     0.91959,     0.91989,\n",
       "             0.9202,     0.92051,     0.92081,     0.92102,     0.92115,     0.92128,     0.92141,     0.92154,     0.92167,      0.9218,     0.92193,     0.92206,     0.92219,     0.92232,     0.92245,     0.92258,     0.92271,     0.92331,     0.92431,     0.92471,     0.92485,       0.925,     0.92514,\n",
       "            0.92529,     0.92543,     0.92558,     0.92572,     0.92587,     0.92601,     0.92616,      0.9263,     0.92644,     0.92653,     0.92661,      0.9267,     0.92679,     0.92687,     0.92696,     0.92704,     0.92713,     0.92721,      0.9273,     0.92738,     0.92747,     0.92756,     0.92764,\n",
       "            0.92773,     0.92781,      0.9279,     0.92798,     0.92807,     0.92815,     0.92824,     0.92836,     0.92854,     0.92871,     0.92889,     0.92906,     0.92924,     0.92941,     0.92959,     0.92976,     0.92994,     0.93011,     0.93025,     0.93039,     0.93053,     0.93067,      0.9308,\n",
       "            0.93094,     0.93108,     0.93122,     0.93135,     0.93149,     0.93163,     0.93177,      0.9319,     0.93207,      0.9323,     0.93253,     0.93277,       0.933,     0.93323,     0.93346,     0.93369,     0.93412,     0.93515,     0.93577,     0.93584,     0.93592,     0.93599,     0.93606,\n",
       "            0.93613,      0.9362,     0.93627,     0.93634,     0.93642,     0.93649,     0.93656,     0.93663,      0.9367,     0.93677,     0.93685,     0.93692,     0.93699,     0.93706,     0.93713,      0.9372,     0.93727,     0.93735,     0.93742,     0.93749,     0.93756,     0.93764,     0.93785,\n",
       "            0.93806,     0.93827,     0.93848,     0.93869,      0.9389,     0.93911,     0.93932,     0.93952,     0.93951,      0.9395,     0.93949,     0.93948,     0.93947,     0.93946,     0.93945,     0.93944,     0.93944,     0.93943,     0.93942,     0.93941,      0.9394,     0.93944,     0.93961,\n",
       "            0.93978,     0.93995,     0.94012,     0.94029,     0.94046,     0.94063,      0.9408,     0.94097,     0.94114,      0.9413,     0.94138,     0.94146,     0.94154,     0.94162,      0.9417,     0.94178,     0.94186,     0.94194,     0.94202,      0.9421,     0.94218,     0.94226,     0.94234,\n",
       "            0.94242,      0.9425,     0.94258,     0.94266,     0.94274,     0.94282,      0.9429,     0.94298,     0.94306,     0.94314,     0.94323,      0.9434,     0.94357,     0.94374,     0.94391,     0.94409,     0.94426,     0.94443,      0.9446,     0.94477,     0.94494,     0.94511,     0.94522,\n",
       "            0.94533,     0.94544,     0.94555,     0.94566,     0.94577,     0.94588,     0.94599,      0.9461,     0.94621,     0.94632,     0.94643,     0.94654,     0.94665,     0.94676,     0.94687,     0.94698,     0.94705,     0.94708,      0.9471,     0.94712,     0.94714,     0.94716,     0.94718,\n",
       "             0.9472,     0.94722,     0.94724,     0.94727,     0.94729,     0.94731,     0.94733,     0.94735,     0.94737,     0.94739,     0.94741,     0.94744,     0.94746,     0.94748,      0.9475,     0.94752,     0.94754,     0.94756,     0.94758,      0.9476,     0.94763,     0.94765,     0.94767,\n",
       "            0.94769,     0.94771,     0.94773,     0.94775,     0.94777,     0.94779,     0.94782,     0.94784,     0.94786,     0.94788,      0.9479,     0.94792,     0.94794,     0.94796,     0.94798,     0.94801,     0.94803,     0.94805,     0.94807,     0.94809,     0.94811,     0.94813,     0.94815,\n",
       "            0.94817,      0.9482,     0.94822,     0.94824,     0.94826,     0.94828,      0.9483,     0.94832,     0.94834,     0.94836,     0.94839,     0.94841,     0.94843,     0.94845,     0.94847,     0.94849,     0.94851,     0.94853,     0.94856,     0.94858,      0.9486,     0.94862,     0.94864,\n",
       "            0.94866,     0.94868,      0.9487,     0.94872,     0.94875,     0.94877,     0.94879,     0.94881,     0.94883,     0.94885,     0.94887,     0.94889,     0.94891,     0.94894,     0.94896,     0.94898,     0.94905,     0.94913,     0.94921,     0.94929,     0.94937,     0.94945,     0.94952,\n",
       "             0.9496,     0.94968,     0.94976,     0.94984,     0.94992,        0.95,     0.95008,     0.95015,     0.95023,     0.95031,     0.95039,     0.95047,     0.95055,     0.95063,     0.95071,     0.95078,     0.95086,     0.95091,     0.95088,     0.95084,     0.95085,     0.95094,     0.95103,\n",
       "            0.95112,     0.95121,      0.9513,     0.95138,     0.95147,     0.95156,     0.95165,     0.95174,     0.95183,     0.95192,     0.95201,      0.9521,     0.95219,     0.95227,     0.95236,     0.95245,     0.95254,     0.95263,     0.95272,     0.95277,     0.95276,     0.95275,     0.95274,\n",
       "            0.95274,     0.95273,     0.95272,     0.95271,      0.9527,     0.95269,     0.95269,     0.95268,     0.95337,     0.95438,     0.95473,     0.95485,     0.95497,     0.95508,      0.9552,     0.95532,     0.95544,     0.95556,     0.95568,      0.9558,     0.95592,     0.95604,     0.95615,\n",
       "            0.95627,     0.95639,     0.95651,     0.95661,      0.9566,     0.95659,     0.95658,     0.95656,     0.95655,     0.95654,     0.95653,      0.9567,     0.95721,     0.95772,     0.95823,     0.95855,     0.95865,     0.95874,     0.95884,     0.95894,     0.95904,     0.95913,     0.95923,\n",
       "            0.95933,     0.95943,     0.95952,     0.95962,     0.95972,     0.95981,     0.95991,     0.96001,     0.96011,      0.9602,      0.9603,      0.9604,      0.9605,     0.96062,     0.96075,     0.96088,     0.96101,     0.96114,     0.96126,     0.96139,     0.96152,     0.96165,     0.96178,\n",
       "             0.9619,     0.96203,     0.96216,     0.96229,     0.96242,     0.96256,     0.96271,     0.96287,     0.96303,     0.96319,     0.96335,     0.96351,     0.96367,     0.96382,     0.96398,     0.96414,      0.9643,     0.96446,     0.96456,     0.96464,     0.96473,     0.96481,     0.96489,\n",
       "            0.96497,     0.96505,     0.96513,     0.96521,     0.96529,     0.96537,     0.96546,     0.96554,     0.96562,      0.9657,     0.96578,     0.96586,     0.96594,     0.96602,      0.9661,     0.96619,     0.96627,     0.96635,     0.96643,     0.96651,     0.96659,     0.96667,     0.96675,\n",
       "            0.96683,     0.96691,     0.96699,     0.96707,     0.96715,     0.96723,     0.96731,     0.96739,     0.96747,     0.96755,     0.96763,     0.96771,     0.96779,     0.96787,     0.96795,     0.96803,     0.96811,     0.96819,     0.96827,     0.96835,     0.96843,     0.96851,     0.97059,\n",
       "            0.97058,     0.97058,     0.97058,     0.97057,     0.97057,     0.97056,     0.97056,     0.97056,     0.97055,     0.97055,     0.97054,     0.97054,     0.97054,     0.97053,     0.97053,     0.97122,     0.97271,     0.97309,     0.97348,     0.97386,     0.97424,     0.97463,     0.97462,\n",
       "             0.9746,     0.97459,     0.97465,      0.9755,     0.97635,     0.97664,     0.97662,     0.97661,      0.9766,     0.97677,     0.97701,     0.97725,     0.97748,     0.97772,     0.97796,      0.9782,     0.97843,     0.97867,     0.97884,       0.979,     0.97917,     0.97933,      0.9795,\n",
       "            0.97966,     0.97983,     0.97999,     0.98016,     0.98032,     0.98049,     0.98065,     0.98077,     0.98077,     0.98077,     0.98077,     0.98076,     0.98076,     0.98076,     0.98076,     0.98076,     0.98076,     0.98076,     0.98076,     0.98075,     0.98075,     0.98075,     0.98075,\n",
       "            0.98075,     0.98075,     0.98075,     0.98075,     0.98075,     0.98074,     0.98074,     0.98074,     0.98074,     0.98074,     0.98074,     0.98074,     0.98074,     0.98073,     0.98073,     0.98073,     0.98073,     0.98073,     0.98073,     0.98096,     0.98132,     0.98168,     0.98204,\n",
       "             0.9824,     0.98276,     0.98282,     0.98281,     0.98279,     0.98278,     0.98277,     0.98276,     0.98275,     0.98275,     0.98274,     0.98273,     0.98272,     0.98271,     0.98269,     0.98268,     0.98267,     0.98266,     0.98266,     0.98265,     0.98478,     0.98478,     0.98477,\n",
       "            0.98477,     0.98477,     0.98477,     0.98476,     0.98476,     0.98476,     0.98475,     0.98475,     0.98475,     0.98474,     0.98473,     0.98473,     0.98472,     0.98472,     0.98471,     0.98471,      0.9847,      0.9847,     0.98469,     0.98469,     0.98465,     0.98464,     0.98463,\n",
       "            0.98462,     0.98462,     0.98672,     0.98672,      0.9867,     0.98668,      0.9866,     0.98658,     0.98656,     0.98654,     0.98653,     0.98651,     0.98645,     0.98644,     0.98642,     0.98639,     0.98637,     0.98629,     0.98628,     0.98627,     0.98613,     0.98611,     0.98839,\n",
       "            0.98835,     0.98827,     0.98823,     0.98812,     0.98806,     0.98801,     0.98797,     0.98791,     0.98783,     0.98781,     0.98774,      0.9877,     0.98761,     0.98759,     0.98757,     0.98743,     0.98725,     0.98721,     0.98964,     0.99209,     0.99206,     0.99198,     0.99186,\n",
       "            0.99182,     0.99177,     0.99171,      0.9916,     0.99156,     0.99153,     0.99139,     0.99136,     0.99121,     0.99116,     0.99103,     0.99094,     0.99066,     0.99063,     0.99045,     0.99008,     0.98983,     0.99304,     0.99291,     0.99262,     0.99236,     0.99224,     0.99208,\n",
       "            0.99183,     0.99576,      0.9957,     0.99549,     0.99529,     0.99506,     0.99486,     0.99477,     0.99445,           1,           1,           1,           1,           1,           1,           1,           1,           1,           1,           1,           1,           1,           1,\n",
       "                  1,           1,           1,           1,           1,           1,           1,           1,           1,           1,           1,           1,           1,           1,           1,           1,           1,           1,           1,           1,           1,           1,           1,\n",
       "                  1,           1,           1,           1,           1,           1,           1,           1,           1,           1,           1,           1,           1,           1,           1,           1,           1,           1,           1,           1,           1,           1,           1,\n",
       "                  1,           1,           1,           1,           1,           1,           1,           1,           1,           1,           1,           1,           1,           1,           1,           1,           1,           1,           1,           1,           1,           1,           1,\n",
       "                  1,           1,           1,           1,           1,           1,           1,           1,           1,           1,           1,           1,           1,           1,           1,           1,           1,           1,           1,           1,           1,           1,           1,\n",
       "                  1,           1,           1,           1,           1,           1,           1,           1,           1,           1,           1,           1,           1,           1,           1,           1,           1,           1,           1,           1,           1,           1,           1,\n",
       "                  1,           1,           1,           1,           1,           1,           1,           1,           1,           1,           1,           1,           1,           1,           1,           1,           1,           1,           1,           1,           1,           1,           1,\n",
       "                  1,           1,           1,           1,           1,           1,           1,           1,           1,           1,           1,           1,           1,           1,           1,           1,           1,           1,           1,           1,           1,           1,           1,\n",
       "                  1,           1,           1,           1,           1,           1,           1,           1,           1,           1,           1]]), 'Confidence', 'Precision'], [array([          0,    0.001001,    0.002002,    0.003003,    0.004004,    0.005005,    0.006006,    0.007007,    0.008008,    0.009009,     0.01001,    0.011011,    0.012012,    0.013013,    0.014014,    0.015015,    0.016016,    0.017017,    0.018018,    0.019019,     0.02002,    0.021021,    0.022022,    0.023023,\n",
       "          0.024024,    0.025025,    0.026026,    0.027027,    0.028028,    0.029029,     0.03003,    0.031031,    0.032032,    0.033033,    0.034034,    0.035035,    0.036036,    0.037037,    0.038038,    0.039039,     0.04004,    0.041041,    0.042042,    0.043043,    0.044044,    0.045045,    0.046046,    0.047047,\n",
       "          0.048048,    0.049049,     0.05005,    0.051051,    0.052052,    0.053053,    0.054054,    0.055055,    0.056056,    0.057057,    0.058058,    0.059059,     0.06006,    0.061061,    0.062062,    0.063063,    0.064064,    0.065065,    0.066066,    0.067067,    0.068068,    0.069069,     0.07007,    0.071071,\n",
       "          0.072072,    0.073073,    0.074074,    0.075075,    0.076076,    0.077077,    0.078078,    0.079079,     0.08008,    0.081081,    0.082082,    0.083083,    0.084084,    0.085085,    0.086086,    0.087087,    0.088088,    0.089089,     0.09009,    0.091091,    0.092092,    0.093093,    0.094094,    0.095095,\n",
       "          0.096096,    0.097097,    0.098098,    0.099099,      0.1001,      0.1011,      0.1021,      0.1031,      0.1041,     0.10511,     0.10611,     0.10711,     0.10811,     0.10911,     0.11011,     0.11111,     0.11211,     0.11311,     0.11411,     0.11512,     0.11612,     0.11712,     0.11812,     0.11912,\n",
       "           0.12012,     0.12112,     0.12212,     0.12312,     0.12412,     0.12513,     0.12613,     0.12713,     0.12813,     0.12913,     0.13013,     0.13113,     0.13213,     0.13313,     0.13413,     0.13514,     0.13614,     0.13714,     0.13814,     0.13914,     0.14014,     0.14114,     0.14214,     0.14314,\n",
       "           0.14414,     0.14515,     0.14615,     0.14715,     0.14815,     0.14915,     0.15015,     0.15115,     0.15215,     0.15315,     0.15415,     0.15516,     0.15616,     0.15716,     0.15816,     0.15916,     0.16016,     0.16116,     0.16216,     0.16316,     0.16416,     0.16517,     0.16617,     0.16717,\n",
       "           0.16817,     0.16917,     0.17017,     0.17117,     0.17217,     0.17317,     0.17417,     0.17518,     0.17618,     0.17718,     0.17818,     0.17918,     0.18018,     0.18118,     0.18218,     0.18318,     0.18418,     0.18519,     0.18619,     0.18719,     0.18819,     0.18919,     0.19019,     0.19119,\n",
       "           0.19219,     0.19319,     0.19419,      0.1952,      0.1962,      0.1972,      0.1982,      0.1992,      0.2002,      0.2012,      0.2022,      0.2032,      0.2042,     0.20521,     0.20621,     0.20721,     0.20821,     0.20921,     0.21021,     0.21121,     0.21221,     0.21321,     0.21421,     0.21522,\n",
       "           0.21622,     0.21722,     0.21822,     0.21922,     0.22022,     0.22122,     0.22222,     0.22322,     0.22422,     0.22523,     0.22623,     0.22723,     0.22823,     0.22923,     0.23023,     0.23123,     0.23223,     0.23323,     0.23423,     0.23524,     0.23624,     0.23724,     0.23824,     0.23924,\n",
       "           0.24024,     0.24124,     0.24224,     0.24324,     0.24424,     0.24525,     0.24625,     0.24725,     0.24825,     0.24925,     0.25025,     0.25125,     0.25225,     0.25325,     0.25425,     0.25526,     0.25626,     0.25726,     0.25826,     0.25926,     0.26026,     0.26126,     0.26226,     0.26326,\n",
       "           0.26426,     0.26527,     0.26627,     0.26727,     0.26827,     0.26927,     0.27027,     0.27127,     0.27227,     0.27327,     0.27427,     0.27528,     0.27628,     0.27728,     0.27828,     0.27928,     0.28028,     0.28128,     0.28228,     0.28328,     0.28428,     0.28529,     0.28629,     0.28729,\n",
       "           0.28829,     0.28929,     0.29029,     0.29129,     0.29229,     0.29329,     0.29429,      0.2953,      0.2963,      0.2973,      0.2983,      0.2993,      0.3003,      0.3013,      0.3023,      0.3033,      0.3043,     0.30531,     0.30631,     0.30731,     0.30831,     0.30931,     0.31031,     0.31131,\n",
       "           0.31231,     0.31331,     0.31431,     0.31532,     0.31632,     0.31732,     0.31832,     0.31932,     0.32032,     0.32132,     0.32232,     0.32332,     0.32432,     0.32533,     0.32633,     0.32733,     0.32833,     0.32933,     0.33033,     0.33133,     0.33233,     0.33333,     0.33433,     0.33534,\n",
       "           0.33634,     0.33734,     0.33834,     0.33934,     0.34034,     0.34134,     0.34234,     0.34334,     0.34434,     0.34535,     0.34635,     0.34735,     0.34835,     0.34935,     0.35035,     0.35135,     0.35235,     0.35335,     0.35435,     0.35536,     0.35636,     0.35736,     0.35836,     0.35936,\n",
       "           0.36036,     0.36136,     0.36236,     0.36336,     0.36436,     0.36537,     0.36637,     0.36737,     0.36837,     0.36937,     0.37037,     0.37137,     0.37237,     0.37337,     0.37437,     0.37538,     0.37638,     0.37738,     0.37838,     0.37938,     0.38038,     0.38138,     0.38238,     0.38338,\n",
       "           0.38438,     0.38539,     0.38639,     0.38739,     0.38839,     0.38939,     0.39039,     0.39139,     0.39239,     0.39339,     0.39439,      0.3954,      0.3964,      0.3974,      0.3984,      0.3994,      0.4004,      0.4014,      0.4024,      0.4034,      0.4044,     0.40541,     0.40641,     0.40741,\n",
       "           0.40841,     0.40941,     0.41041,     0.41141,     0.41241,     0.41341,     0.41441,     0.41542,     0.41642,     0.41742,     0.41842,     0.41942,     0.42042,     0.42142,     0.42242,     0.42342,     0.42442,     0.42543,     0.42643,     0.42743,     0.42843,     0.42943,     0.43043,     0.43143,\n",
       "           0.43243,     0.43343,     0.43443,     0.43544,     0.43644,     0.43744,     0.43844,     0.43944,     0.44044,     0.44144,     0.44244,     0.44344,     0.44444,     0.44545,     0.44645,     0.44745,     0.44845,     0.44945,     0.45045,     0.45145,     0.45245,     0.45345,     0.45445,     0.45546,\n",
       "           0.45646,     0.45746,     0.45846,     0.45946,     0.46046,     0.46146,     0.46246,     0.46346,     0.46446,     0.46547,     0.46647,     0.46747,     0.46847,     0.46947,     0.47047,     0.47147,     0.47247,     0.47347,     0.47447,     0.47548,     0.47648,     0.47748,     0.47848,     0.47948,\n",
       "           0.48048,     0.48148,     0.48248,     0.48348,     0.48448,     0.48549,     0.48649,     0.48749,     0.48849,     0.48949,     0.49049,     0.49149,     0.49249,     0.49349,     0.49449,      0.4955,      0.4965,      0.4975,      0.4985,      0.4995,      0.5005,      0.5015,      0.5025,      0.5035,\n",
       "            0.5045,     0.50551,     0.50651,     0.50751,     0.50851,     0.50951,     0.51051,     0.51151,     0.51251,     0.51351,     0.51451,     0.51552,     0.51652,     0.51752,     0.51852,     0.51952,     0.52052,     0.52152,     0.52252,     0.52352,     0.52452,     0.52553,     0.52653,     0.52753,\n",
       "           0.52853,     0.52953,     0.53053,     0.53153,     0.53253,     0.53353,     0.53453,     0.53554,     0.53654,     0.53754,     0.53854,     0.53954,     0.54054,     0.54154,     0.54254,     0.54354,     0.54454,     0.54555,     0.54655,     0.54755,     0.54855,     0.54955,     0.55055,     0.55155,\n",
       "           0.55255,     0.55355,     0.55455,     0.55556,     0.55656,     0.55756,     0.55856,     0.55956,     0.56056,     0.56156,     0.56256,     0.56356,     0.56456,     0.56557,     0.56657,     0.56757,     0.56857,     0.56957,     0.57057,     0.57157,     0.57257,     0.57357,     0.57457,     0.57558,\n",
       "           0.57658,     0.57758,     0.57858,     0.57958,     0.58058,     0.58158,     0.58258,     0.58358,     0.58458,     0.58559,     0.58659,     0.58759,     0.58859,     0.58959,     0.59059,     0.59159,     0.59259,     0.59359,     0.59459,      0.5956,      0.5966,      0.5976,      0.5986,      0.5996,\n",
       "            0.6006,      0.6016,      0.6026,      0.6036,      0.6046,     0.60561,     0.60661,     0.60761,     0.60861,     0.60961,     0.61061,     0.61161,     0.61261,     0.61361,     0.61461,     0.61562,     0.61662,     0.61762,     0.61862,     0.61962,     0.62062,     0.62162,     0.62262,     0.62362,\n",
       "           0.62462,     0.62563,     0.62663,     0.62763,     0.62863,     0.62963,     0.63063,     0.63163,     0.63263,     0.63363,     0.63463,     0.63564,     0.63664,     0.63764,     0.63864,     0.63964,     0.64064,     0.64164,     0.64264,     0.64364,     0.64464,     0.64565,     0.64665,     0.64765,\n",
       "           0.64865,     0.64965,     0.65065,     0.65165,     0.65265,     0.65365,     0.65465,     0.65566,     0.65666,     0.65766,     0.65866,     0.65966,     0.66066,     0.66166,     0.66266,     0.66366,     0.66466,     0.66567,     0.66667,     0.66767,     0.66867,     0.66967,     0.67067,     0.67167,\n",
       "           0.67267,     0.67367,     0.67467,     0.67568,     0.67668,     0.67768,     0.67868,     0.67968,     0.68068,     0.68168,     0.68268,     0.68368,     0.68468,     0.68569,     0.68669,     0.68769,     0.68869,     0.68969,     0.69069,     0.69169,     0.69269,     0.69369,     0.69469,      0.6957,\n",
       "            0.6967,      0.6977,      0.6987,      0.6997,      0.7007,      0.7017,      0.7027,      0.7037,      0.7047,     0.70571,     0.70671,     0.70771,     0.70871,     0.70971,     0.71071,     0.71171,     0.71271,     0.71371,     0.71471,     0.71572,     0.71672,     0.71772,     0.71872,     0.71972,\n",
       "           0.72072,     0.72172,     0.72272,     0.72372,     0.72472,     0.72573,     0.72673,     0.72773,     0.72873,     0.72973,     0.73073,     0.73173,     0.73273,     0.73373,     0.73473,     0.73574,     0.73674,     0.73774,     0.73874,     0.73974,     0.74074,     0.74174,     0.74274,     0.74374,\n",
       "           0.74474,     0.74575,     0.74675,     0.74775,     0.74875,     0.74975,     0.75075,     0.75175,     0.75275,     0.75375,     0.75475,     0.75576,     0.75676,     0.75776,     0.75876,     0.75976,     0.76076,     0.76176,     0.76276,     0.76376,     0.76476,     0.76577,     0.76677,     0.76777,\n",
       "           0.76877,     0.76977,     0.77077,     0.77177,     0.77277,     0.77377,     0.77477,     0.77578,     0.77678,     0.77778,     0.77878,     0.77978,     0.78078,     0.78178,     0.78278,     0.78378,     0.78478,     0.78579,     0.78679,     0.78779,     0.78879,     0.78979,     0.79079,     0.79179,\n",
       "           0.79279,     0.79379,     0.79479,      0.7958,      0.7968,      0.7978,      0.7988,      0.7998,      0.8008,      0.8018,      0.8028,      0.8038,      0.8048,     0.80581,     0.80681,     0.80781,     0.80881,     0.80981,     0.81081,     0.81181,     0.81281,     0.81381,     0.81481,     0.81582,\n",
       "           0.81682,     0.81782,     0.81882,     0.81982,     0.82082,     0.82182,     0.82282,     0.82382,     0.82482,     0.82583,     0.82683,     0.82783,     0.82883,     0.82983,     0.83083,     0.83183,     0.83283,     0.83383,     0.83483,     0.83584,     0.83684,     0.83784,     0.83884,     0.83984,\n",
       "           0.84084,     0.84184,     0.84284,     0.84384,     0.84484,     0.84585,     0.84685,     0.84785,     0.84885,     0.84985,     0.85085,     0.85185,     0.85285,     0.85385,     0.85485,     0.85586,     0.85686,     0.85786,     0.85886,     0.85986,     0.86086,     0.86186,     0.86286,     0.86386,\n",
       "           0.86486,     0.86587,     0.86687,     0.86787,     0.86887,     0.86987,     0.87087,     0.87187,     0.87287,     0.87387,     0.87487,     0.87588,     0.87688,     0.87788,     0.87888,     0.87988,     0.88088,     0.88188,     0.88288,     0.88388,     0.88488,     0.88589,     0.88689,     0.88789,\n",
       "           0.88889,     0.88989,     0.89089,     0.89189,     0.89289,     0.89389,     0.89489,      0.8959,      0.8969,      0.8979,      0.8989,      0.8999,      0.9009,      0.9019,      0.9029,      0.9039,      0.9049,     0.90591,     0.90691,     0.90791,     0.90891,     0.90991,     0.91091,     0.91191,\n",
       "           0.91291,     0.91391,     0.91491,     0.91592,     0.91692,     0.91792,     0.91892,     0.91992,     0.92092,     0.92192,     0.92292,     0.92392,     0.92492,     0.92593,     0.92693,     0.92793,     0.92893,     0.92993,     0.93093,     0.93193,     0.93293,     0.93393,     0.93493,     0.93594,\n",
       "           0.93694,     0.93794,     0.93894,     0.93994,     0.94094,     0.94194,     0.94294,     0.94394,     0.94494,     0.94595,     0.94695,     0.94795,     0.94895,     0.94995,     0.95095,     0.95195,     0.95295,     0.95395,     0.95495,     0.95596,     0.95696,     0.95796,     0.95896,     0.95996,\n",
       "           0.96096,     0.96196,     0.96296,     0.96396,     0.96496,     0.96597,     0.96697,     0.96797,     0.96897,     0.96997,     0.97097,     0.97197,     0.97297,     0.97397,     0.97497,     0.97598,     0.97698,     0.97798,     0.97898,     0.97998,     0.98098,     0.98198,     0.98298,     0.98398,\n",
       "           0.98498,     0.98599,     0.98699,     0.98799,     0.98899,     0.98999,     0.99099,     0.99199,     0.99299,     0.99399,     0.99499,       0.996,       0.997,       0.998,       0.999,           1]), array([[    0.99364,     0.99364,     0.99364,     0.99364,     0.99153,     0.99153,     0.99153,     0.99153,     0.99153,     0.99153,     0.99153,     0.99153,     0.99153,     0.99153,     0.99153,     0.99153,     0.99153,     0.99153,     0.99153,     0.99153,     0.99153,     0.99153,     0.99153,\n",
       "            0.99153,     0.99153,     0.99153,      0.9914,     0.98967,     0.98941,     0.98941,     0.98941,     0.98941,     0.98941,     0.98941,     0.98941,     0.98941,     0.98941,     0.98941,     0.98941,     0.98941,     0.98941,     0.98941,     0.98941,     0.98941,     0.98941,     0.98941,\n",
       "            0.98941,     0.98941,     0.98941,     0.98941,     0.98941,     0.98941,     0.98941,     0.98941,     0.98941,     0.98941,     0.98941,     0.98941,     0.98941,     0.98941,     0.98941,     0.98941,     0.98941,     0.98729,     0.98729,     0.98729,     0.98729,     0.98729,     0.98729,\n",
       "            0.98729,     0.98729,     0.98729,     0.98729,     0.98729,     0.98729,     0.98729,     0.98729,     0.98729,     0.98729,     0.98729,     0.98729,     0.98729,     0.98729,     0.98729,     0.98729,     0.98729,     0.98729,     0.98729,     0.98729,     0.98729,     0.98729,     0.98729,\n",
       "            0.98729,     0.98729,     0.98729,     0.98729,     0.98729,     0.98729,     0.98729,     0.98729,     0.98729,     0.98729,     0.98729,     0.98729,     0.98729,     0.98729,     0.98729,     0.98729,     0.98729,     0.98729,     0.98729,     0.98729,     0.98729,     0.98729,     0.98729,\n",
       "            0.98729,     0.98729,     0.98729,     0.98729,     0.98729,     0.98729,     0.98729,     0.98729,     0.98729,     0.98729,     0.98729,     0.98729,     0.98729,     0.98729,     0.98729,     0.98729,     0.98729,     0.98729,     0.98729,     0.98729,     0.98729,     0.98729,     0.98729,\n",
       "            0.98729,     0.98729,     0.98729,     0.98729,     0.98729,     0.98729,     0.98729,     0.98729,     0.98729,     0.98729,     0.98729,     0.98729,     0.98729,     0.98729,     0.98729,     0.98729,     0.98729,     0.98729,     0.98729,     0.98729,     0.98729,     0.98729,     0.98729,\n",
       "            0.98729,     0.98729,     0.98729,     0.98729,     0.98729,     0.98729,     0.98729,     0.98729,     0.98729,     0.98729,     0.98729,     0.98729,     0.98729,     0.98729,     0.98729,     0.98729,     0.98729,     0.98729,     0.98729,     0.98729,     0.98729,     0.98729,     0.98729,\n",
       "            0.98729,     0.98729,     0.98729,     0.98729,     0.98729,     0.98729,     0.98729,     0.98729,     0.98729,     0.98729,     0.98729,     0.98729,     0.98729,     0.98729,     0.98729,     0.98729,     0.98729,     0.98729,     0.98729,     0.98729,     0.98729,     0.98729,     0.98729,\n",
       "            0.98729,     0.98729,     0.98729,     0.98729,     0.98729,     0.98729,     0.98729,     0.98729,     0.98729,     0.98729,     0.98729,     0.98729,     0.98729,     0.98729,     0.98729,     0.98729,     0.98729,     0.98729,     0.98729,     0.98729,     0.98729,     0.98729,     0.98729,\n",
       "            0.98729,     0.98729,     0.98729,     0.98729,     0.98729,     0.98729,     0.98729,     0.98728,     0.98713,     0.98697,     0.98682,     0.98666,     0.98651,     0.98636,      0.9862,     0.98605,      0.9859,     0.98574,     0.98559,     0.98543,     0.98528,     0.98517,     0.98517,\n",
       "            0.98517,     0.98517,     0.98517,     0.98517,     0.98517,     0.98517,     0.98517,     0.98517,     0.98517,     0.98517,     0.98517,     0.98517,     0.98517,     0.98517,     0.98517,     0.98517,     0.98517,     0.98517,     0.98517,     0.98517,     0.98517,     0.98517,     0.98517,\n",
       "            0.98517,     0.98517,     0.98517,     0.98517,     0.98517,     0.98517,     0.98517,     0.98517,     0.98517,     0.98517,     0.98517,     0.98517,     0.98517,     0.98517,     0.98517,     0.98517,     0.98517,     0.98517,     0.98517,     0.98517,     0.98517,     0.98517,     0.98517,\n",
       "            0.98517,     0.98517,     0.98517,     0.98517,     0.98517,     0.98517,     0.98517,     0.98517,     0.98517,     0.98517,     0.98517,     0.98517,     0.98517,     0.98517,     0.98517,     0.98517,     0.98517,     0.98517,     0.98517,     0.98517,     0.98517,     0.98517,     0.98517,\n",
       "            0.98517,     0.98517,     0.98517,     0.98517,     0.98517,     0.98517,     0.98517,     0.98517,     0.98517,     0.98517,     0.98517,     0.98517,     0.98517,     0.98517,     0.98517,     0.98517,     0.98517,     0.98517,     0.98517,     0.98517,     0.98517,     0.98517,     0.98517,\n",
       "            0.98517,     0.98517,     0.98517,     0.98517,     0.98517,     0.98517,     0.98517,     0.98517,     0.98517,     0.98517,     0.98517,     0.98517,     0.98517,     0.98517,     0.98517,     0.98517,     0.98517,     0.98517,     0.98517,     0.98517,     0.98517,     0.98517,     0.98517,\n",
       "            0.98517,     0.98517,     0.98517,     0.98517,     0.98517,     0.98517,     0.98517,     0.98517,     0.98517,     0.98517,     0.98517,     0.98517,     0.98517,     0.98517,     0.98517,     0.98517,     0.98517,     0.98517,     0.98517,     0.98517,     0.98517,     0.98517,     0.98517,\n",
       "            0.98517,     0.98517,     0.98517,     0.98517,     0.98517,     0.98517,     0.98517,     0.98517,     0.98517,     0.98517,     0.98517,     0.98517,     0.98517,     0.98517,     0.98517,     0.98517,     0.98517,     0.98517,     0.98517,     0.98517,     0.98517,     0.98517,     0.98517,\n",
       "            0.98517,     0.98517,     0.98517,     0.98517,     0.98517,     0.98517,     0.98517,     0.98517,     0.98517,     0.98517,     0.98517,     0.98517,     0.98517,     0.98517,     0.98517,     0.98517,     0.98517,     0.98497,     0.98424,     0.98352,     0.98305,     0.98305,     0.98305,\n",
       "            0.98305,     0.98305,     0.98305,     0.98305,     0.98305,     0.98305,     0.98305,     0.98305,     0.98305,     0.98305,     0.98305,     0.98305,     0.98305,     0.98305,     0.98305,     0.98305,     0.98305,     0.98305,     0.98305,     0.98298,      0.9828,     0.98262,     0.98244,\n",
       "            0.98225,     0.98207,     0.98189,     0.98171,     0.98153,     0.98135,     0.98117,     0.98099,     0.98093,     0.98093,     0.98093,     0.98093,     0.98093,     0.98093,     0.98093,     0.98093,     0.98093,     0.98093,     0.98093,     0.98093,     0.98093,     0.98093,     0.98093,\n",
       "            0.98093,     0.98093,     0.98093,     0.98089,     0.98062,     0.98035,     0.98007,      0.9798,     0.97953,     0.97926,     0.97899,     0.97881,     0.97881,     0.97881,     0.97881,     0.97881,     0.97881,     0.97881,     0.97881,     0.97881,     0.97881,     0.97881,     0.97881,\n",
       "            0.97881,     0.97881,     0.97881,     0.97881,     0.97881,     0.97881,     0.97881,     0.97881,     0.97881,     0.97881,     0.97881,     0.97881,     0.97881,     0.97881,     0.97881,     0.97881,     0.97881,     0.97881,     0.97881,     0.97881,     0.97881,     0.97881,     0.97881,\n",
       "            0.97881,     0.97881,     0.97881,     0.97881,     0.97881,     0.97881,     0.97881,     0.97881,     0.97881,     0.97881,     0.97881,     0.97881,     0.97881,     0.97881,     0.97881,     0.97881,     0.97881,     0.97881,     0.97881,     0.97881,     0.97881,     0.97881,     0.97881,\n",
       "            0.97881,     0.97881,     0.97881,     0.97881,     0.97881,     0.97881,     0.97881,     0.97881,     0.97881,     0.97881,     0.97881,     0.97881,     0.97881,     0.97881,     0.97881,     0.97881,     0.97881,     0.97881,     0.97881,     0.97881,     0.97881,     0.97881,     0.97881,\n",
       "            0.97881,     0.97881,     0.97881,     0.97881,     0.97881,     0.97881,     0.97881,     0.97881,     0.97881,     0.97881,     0.97881,     0.97881,     0.97881,     0.97881,     0.97881,     0.97881,     0.97881,     0.97881,     0.97881,     0.97881,     0.97881,     0.97881,     0.97876,\n",
       "            0.97863,     0.97849,     0.97836,     0.97823,      0.9781,     0.97797,     0.97784,      0.9777,     0.97757,     0.97744,     0.97731,     0.97718,     0.97705,     0.97691,     0.97678,     0.97669,     0.97669,     0.97669,     0.97669,     0.97669,     0.97669,     0.97669,     0.97616,\n",
       "            0.97561,     0.97507,     0.97458,     0.97458,     0.97458,     0.97422,     0.97368,     0.97314,     0.97259,     0.97246,     0.97246,     0.97246,     0.97246,     0.97246,     0.97246,     0.97246,     0.97246,     0.97246,     0.97246,     0.97246,     0.97246,     0.97246,     0.97246,\n",
       "            0.97246,     0.97246,     0.97246,     0.97246,     0.97246,     0.97246,     0.97246,     0.97244,     0.97238,     0.97232,     0.97226,      0.9722,     0.97213,     0.97207,     0.97201,     0.97195,     0.97189,     0.97183,     0.97177,     0.97171,     0.97164,     0.97158,     0.97152,\n",
       "            0.97146,      0.9714,     0.97134,     0.97128,     0.97122,     0.97116,     0.97109,     0.97103,     0.97097,     0.97091,     0.97085,     0.97079,     0.97073,     0.97067,     0.97061,     0.97054,     0.97048,     0.97042,     0.97036,     0.97034,     0.97034,     0.97034,     0.97034,\n",
       "            0.97034,     0.97034,     0.96965,     0.96878,       0.968,     0.96738,     0.96676,     0.96614,     0.96573,     0.96533,     0.96494,     0.96454,     0.96415,     0.96336,     0.96227,     0.96159,     0.96116,     0.96072,     0.96029,     0.95985,      0.9596,     0.95942,     0.95923,\n",
       "            0.95904,     0.95885,     0.95866,     0.95847,     0.95828,     0.95809,      0.9579,     0.95772,     0.95742,     0.95702,     0.95663,     0.95623,     0.95584,     0.95546,     0.95515,     0.95484,     0.95453,     0.95422,     0.95391,      0.9536,     0.95111,     0.95063,     0.95014,\n",
       "            0.94966,     0.94918,     0.94915,     0.94422,     0.94277,     0.94132,     0.93584,     0.93475,     0.93345,     0.93205,     0.93097,     0.92967,     0.92562,     0.92453,     0.92316,      0.9212,     0.91975,     0.91466,     0.91393,     0.91321,     0.90407,     0.90262,     0.90155,\n",
       "            0.89833,     0.89263,     0.88906,     0.88121,     0.87672,     0.87263,     0.87015,     0.86558,      0.8599,     0.85845,      0.8533,     0.85055,     0.84422,     0.84277,     0.84132,     0.83184,     0.82036,     0.81797,     0.80956,     0.80508,     0.79451,     0.78593,     0.77465,\n",
       "            0.77089,     0.76569,     0.76009,     0.75075,     0.74646,     0.74429,     0.73212,     0.72935,     0.71708,      0.7123,     0.70203,     0.69524,     0.67428,     0.67183,     0.65924,     0.63465,     0.61877,     0.60488,     0.59314,     0.56982,     0.55055,     0.54197,     0.53047,\n",
       "            0.51422,     0.49752,      0.4907,     0.46729,     0.44757,     0.42682,     0.41039,      0.4033,     0.37989,     0.36362,     0.34366,     0.32237,      0.2981,     0.29665,     0.27968,     0.26479,     0.25193,     0.22851,     0.22232,     0.22087,     0.20701,     0.20055,      0.1945,\n",
       "            0.17915,     0.17639,     0.16411,     0.15636,     0.15491,      0.1426,     0.13799,     0.13392,     0.12745,     0.12406,     0.11665,     0.11231,     0.10796,      0.1016,    0.097156,    0.090898,     0.08847,     0.08618,    0.085094,    0.081152,    0.073684,    0.068872,    0.065295,\n",
       "           0.063847,    0.062863,    0.061995,    0.061126,    0.060257,    0.059389,    0.057985,    0.056537,     0.05509,    0.054652,    0.054218,    0.053783,    0.053349,    0.052451,    0.050162,    0.049077,    0.047253,    0.045081,    0.042909,    0.039678,    0.038039,    0.037705,    0.037371,\n",
       "           0.037037,    0.036702,    0.036368,    0.036034,    0.031898,    0.029427,    0.028944,    0.028462,    0.027979,    0.027501,    0.027067,    0.026633,    0.026198,    0.025764,    0.025383,    0.025194,    0.025005,    0.024816,    0.024627,    0.024439,     0.02425,    0.024061,    0.023872,\n",
       "           0.023683,    0.023494,    0.023306,    0.021861,    0.020896,    0.020354,    0.019811,    0.019268,    0.018857,    0.018523,    0.018188,    0.017854,     0.01752,    0.017186,    0.012081,    0.010456,    0.010022,   0.0095878,   0.0091534,   0.0087191,    0.008348,   0.0080585,   0.0077689,\n",
       "          0.0074794,   0.0071898,   0.0069003,   0.0066107,    0.006269,   0.0055451,   0.0048212,   0.0041609,   0.0037661,   0.0033712,   0.0029764,   0.0025815,   0.0021867,           0,           0,           0,           0,           0,           0,           0,           0,           0,           0,\n",
       "                  0,           0,           0,           0,           0,           0,           0,           0,           0,           0,           0,           0,           0,           0,           0,           0,           0,           0,           0,           0,           0,           0,           0,\n",
       "                  0,           0,           0,           0,           0,           0,           0,           0,           0,           0,           0,           0,           0,           0,           0,           0,           0,           0,           0,           0,           0,           0,           0,\n",
       "                  0,           0,           0,           0,           0,           0,           0,           0,           0,           0,           0]]), 'Confidence', 'Recall']]\n",
       "fitness: 0.6629994618291069\n",
       "keys: ['metrics/precision(B)', 'metrics/recall(B)', 'metrics/mAP50(B)', 'metrics/mAP50-95(B)']\n",
       "maps: array([    0.62686])\n",
       "names: {0: 'license_plate'}\n",
       "plot: True\n",
       "results_dict: {'metrics/precision(B)': 0.9801565421542459, 'metrics/recall(B)': 0.972457627118644, 'metrics/mAP50(B)': 0.9882546628978087, 'metrics/mAP50-95(B)': 0.6268599950436955, 'fitness': 0.6629994618291069}\n",
       "save_dir: PosixPath('/kaggle/working/yolo_license_plate/yolov11_license_plate')\n",
       "speed: {'preprocess': 0.2238023520521598, 'inference': 3.6735804103687024, 'loss': 0.00044406047531767056, 'postprocess': 1.5518775118783963}\n",
       "task: 'detect'"
      ]
     },
     "execution_count": 5,
     "metadata": {},
     "output_type": "execute_result"
    }
   ],
   "source": [
    "from ultralytics import YOLO\n",
    "\n",
    "# Load YOLOv8 model\n",
    "model = YOLO('yolov8s.pt')  # You can also use yolov11m.pt or yolov11x.pt\n",
    "\n",
    "# Train\n",
    "model.train(\n",
    "    data='/kaggle/working/yolo_license_plate/data.yaml',\n",
    "    epochs=50,\n",
    "    imgsz=640,\n",
    "    batch=16,\n",
    "    project='/kaggle/working/yolo_license_plate',\n",
    "    name='yolov11_license_plate',\n",
    "    device=0  # or 'cpu'\n",
    ")\n"
   ]
  },
  {
   "cell_type": "markdown",
   "id": "207e56c1",
   "metadata": {
    "papermill": {
     "duration": 0.35681,
     "end_time": "2025-05-26T08:44:17.964693",
     "exception": false,
     "start_time": "2025-05-26T08:44:17.607883",
     "status": "completed"
    },
    "tags": []
   },
   "source": [
    "> ***Validate on Test set***"
   ]
  },
  {
   "cell_type": "code",
   "execution_count": 6,
   "id": "444c5a69",
   "metadata": {
    "execution": {
     "iopub.execute_input": "2025-05-26T08:44:18.758868Z",
     "iopub.status.busy": "2025-05-26T08:44:18.758541Z",
     "iopub.status.idle": "2025-05-26T08:44:27.533859Z",
     "shell.execute_reply": "2025-05-26T08:44:27.533016Z"
    },
    "papermill": {
     "duration": 9.141218,
     "end_time": "2025-05-26T08:44:27.538260",
     "exception": false,
     "start_time": "2025-05-26T08:44:18.397042",
     "status": "completed"
    },
    "tags": []
   },
   "outputs": [
    {
     "name": "stdout",
     "output_type": "stream",
     "text": [
      "Ultralytics 8.3.145 🚀 Python-3.11.11 torch-2.6.0+cu124 CUDA:0 (Tesla P100-PCIE-16GB, 16269MiB)\n",
      "Model summary (fused): 72 layers, 11,125,971 parameters, 0 gradients, 28.4 GFLOPs\n",
      "\u001b[34m\u001b[1mval: \u001b[0mFast image access ✅ (ping: 0.0±0.0 ms, read: 1608.0±542.1 MB/s, size: 108.1 KB)\n"
     ]
    },
    {
     "name": "stderr",
     "output_type": "stream",
     "text": [
      "\u001b[34m\u001b[1mval: \u001b[0mScanning /kaggle/working/yolo_license_plate/datasets/license_plate/labels/test... 386 images, 0 backgrounds, 0 corrupt: 100%|██████████| 386/386 [00:00<00:00, 1431.97it/s]"
     ]
    },
    {
     "name": "stdout",
     "output_type": "stream",
     "text": [
      "\u001b[34m\u001b[1mval: \u001b[0mNew cache created: /kaggle/working/yolo_license_plate/datasets/license_plate/labels/test.cache\n"
     ]
    },
    {
     "name": "stderr",
     "output_type": "stream",
     "text": [
      "\n",
      "                 Class     Images  Instances      Box(P          R      mAP50  mAP50-95): 100%|██████████| 25/25 [00:05<00:00,  4.68it/s]\n"
     ]
    },
    {
     "name": "stdout",
     "output_type": "stream",
     "text": [
      "                   all        386        394      0.983      0.985      0.993       0.63\n"
     ]
    },
    {
     "name": "stderr",
     "output_type": "stream",
     "text": [
      "/usr/local/lib/python3.11/dist-packages/matplotlib/colors.py:721: RuntimeWarning: invalid value encountered in less\n",
      "  xa[xa < 0] = -1\n",
      "/usr/local/lib/python3.11/dist-packages/matplotlib/colors.py:721: RuntimeWarning: invalid value encountered in less\n",
      "  xa[xa < 0] = -1\n"
     ]
    },
    {
     "name": "stdout",
     "output_type": "stream",
     "text": [
      "Speed: 1.0ms preprocess, 5.4ms inference, 0.0ms loss, 1.4ms postprocess per image\n",
      "Results saved to \u001b[1m/kaggle/working/yolo_license_plate/yolov11_license_plate2\u001b[0m\n",
      "ultralytics.utils.metrics.DetMetrics object with attributes:\n",
      "\n",
      "ap_class_index: array([0])\n",
      "box: ultralytics.utils.metrics.Metric object\n",
      "confusion_matrix: <ultralytics.utils.metrics.ConfusionMatrix object at 0x799c0152a150>\n",
      "curves: ['Precision-Recall(B)', 'F1-Confidence(B)', 'Precision-Confidence(B)', 'Recall-Confidence(B)']\n",
      "curves_results: [[array([          0,    0.001001,    0.002002,    0.003003,    0.004004,    0.005005,    0.006006,    0.007007,    0.008008,    0.009009,     0.01001,    0.011011,    0.012012,    0.013013,    0.014014,    0.015015,    0.016016,    0.017017,    0.018018,    0.019019,     0.02002,    0.021021,    0.022022,    0.023023,\n",
      "          0.024024,    0.025025,    0.026026,    0.027027,    0.028028,    0.029029,     0.03003,    0.031031,    0.032032,    0.033033,    0.034034,    0.035035,    0.036036,    0.037037,    0.038038,    0.039039,     0.04004,    0.041041,    0.042042,    0.043043,    0.044044,    0.045045,    0.046046,    0.047047,\n",
      "          0.048048,    0.049049,     0.05005,    0.051051,    0.052052,    0.053053,    0.054054,    0.055055,    0.056056,    0.057057,    0.058058,    0.059059,     0.06006,    0.061061,    0.062062,    0.063063,    0.064064,    0.065065,    0.066066,    0.067067,    0.068068,    0.069069,     0.07007,    0.071071,\n",
      "          0.072072,    0.073073,    0.074074,    0.075075,    0.076076,    0.077077,    0.078078,    0.079079,     0.08008,    0.081081,    0.082082,    0.083083,    0.084084,    0.085085,    0.086086,    0.087087,    0.088088,    0.089089,     0.09009,    0.091091,    0.092092,    0.093093,    0.094094,    0.095095,\n",
      "          0.096096,    0.097097,    0.098098,    0.099099,      0.1001,      0.1011,      0.1021,      0.1031,      0.1041,     0.10511,     0.10611,     0.10711,     0.10811,     0.10911,     0.11011,     0.11111,     0.11211,     0.11311,     0.11411,     0.11512,     0.11612,     0.11712,     0.11812,     0.11912,\n",
      "           0.12012,     0.12112,     0.12212,     0.12312,     0.12412,     0.12513,     0.12613,     0.12713,     0.12813,     0.12913,     0.13013,     0.13113,     0.13213,     0.13313,     0.13413,     0.13514,     0.13614,     0.13714,     0.13814,     0.13914,     0.14014,     0.14114,     0.14214,     0.14314,\n",
      "           0.14414,     0.14515,     0.14615,     0.14715,     0.14815,     0.14915,     0.15015,     0.15115,     0.15215,     0.15315,     0.15415,     0.15516,     0.15616,     0.15716,     0.15816,     0.15916,     0.16016,     0.16116,     0.16216,     0.16316,     0.16416,     0.16517,     0.16617,     0.16717,\n",
      "           0.16817,     0.16917,     0.17017,     0.17117,     0.17217,     0.17317,     0.17417,     0.17518,     0.17618,     0.17718,     0.17818,     0.17918,     0.18018,     0.18118,     0.18218,     0.18318,     0.18418,     0.18519,     0.18619,     0.18719,     0.18819,     0.18919,     0.19019,     0.19119,\n",
      "           0.19219,     0.19319,     0.19419,      0.1952,      0.1962,      0.1972,      0.1982,      0.1992,      0.2002,      0.2012,      0.2022,      0.2032,      0.2042,     0.20521,     0.20621,     0.20721,     0.20821,     0.20921,     0.21021,     0.21121,     0.21221,     0.21321,     0.21421,     0.21522,\n",
      "           0.21622,     0.21722,     0.21822,     0.21922,     0.22022,     0.22122,     0.22222,     0.22322,     0.22422,     0.22523,     0.22623,     0.22723,     0.22823,     0.22923,     0.23023,     0.23123,     0.23223,     0.23323,     0.23423,     0.23524,     0.23624,     0.23724,     0.23824,     0.23924,\n",
      "           0.24024,     0.24124,     0.24224,     0.24324,     0.24424,     0.24525,     0.24625,     0.24725,     0.24825,     0.24925,     0.25025,     0.25125,     0.25225,     0.25325,     0.25425,     0.25526,     0.25626,     0.25726,     0.25826,     0.25926,     0.26026,     0.26126,     0.26226,     0.26326,\n",
      "           0.26426,     0.26527,     0.26627,     0.26727,     0.26827,     0.26927,     0.27027,     0.27127,     0.27227,     0.27327,     0.27427,     0.27528,     0.27628,     0.27728,     0.27828,     0.27928,     0.28028,     0.28128,     0.28228,     0.28328,     0.28428,     0.28529,     0.28629,     0.28729,\n",
      "           0.28829,     0.28929,     0.29029,     0.29129,     0.29229,     0.29329,     0.29429,      0.2953,      0.2963,      0.2973,      0.2983,      0.2993,      0.3003,      0.3013,      0.3023,      0.3033,      0.3043,     0.30531,     0.30631,     0.30731,     0.30831,     0.30931,     0.31031,     0.31131,\n",
      "           0.31231,     0.31331,     0.31431,     0.31532,     0.31632,     0.31732,     0.31832,     0.31932,     0.32032,     0.32132,     0.32232,     0.32332,     0.32432,     0.32533,     0.32633,     0.32733,     0.32833,     0.32933,     0.33033,     0.33133,     0.33233,     0.33333,     0.33433,     0.33534,\n",
      "           0.33634,     0.33734,     0.33834,     0.33934,     0.34034,     0.34134,     0.34234,     0.34334,     0.34434,     0.34535,     0.34635,     0.34735,     0.34835,     0.34935,     0.35035,     0.35135,     0.35235,     0.35335,     0.35435,     0.35536,     0.35636,     0.35736,     0.35836,     0.35936,\n",
      "           0.36036,     0.36136,     0.36236,     0.36336,     0.36436,     0.36537,     0.36637,     0.36737,     0.36837,     0.36937,     0.37037,     0.37137,     0.37237,     0.37337,     0.37437,     0.37538,     0.37638,     0.37738,     0.37838,     0.37938,     0.38038,     0.38138,     0.38238,     0.38338,\n",
      "           0.38438,     0.38539,     0.38639,     0.38739,     0.38839,     0.38939,     0.39039,     0.39139,     0.39239,     0.39339,     0.39439,      0.3954,      0.3964,      0.3974,      0.3984,      0.3994,      0.4004,      0.4014,      0.4024,      0.4034,      0.4044,     0.40541,     0.40641,     0.40741,\n",
      "           0.40841,     0.40941,     0.41041,     0.41141,     0.41241,     0.41341,     0.41441,     0.41542,     0.41642,     0.41742,     0.41842,     0.41942,     0.42042,     0.42142,     0.42242,     0.42342,     0.42442,     0.42543,     0.42643,     0.42743,     0.42843,     0.42943,     0.43043,     0.43143,\n",
      "           0.43243,     0.43343,     0.43443,     0.43544,     0.43644,     0.43744,     0.43844,     0.43944,     0.44044,     0.44144,     0.44244,     0.44344,     0.44444,     0.44545,     0.44645,     0.44745,     0.44845,     0.44945,     0.45045,     0.45145,     0.45245,     0.45345,     0.45445,     0.45546,\n",
      "           0.45646,     0.45746,     0.45846,     0.45946,     0.46046,     0.46146,     0.46246,     0.46346,     0.46446,     0.46547,     0.46647,     0.46747,     0.46847,     0.46947,     0.47047,     0.47147,     0.47247,     0.47347,     0.47447,     0.47548,     0.47648,     0.47748,     0.47848,     0.47948,\n",
      "           0.48048,     0.48148,     0.48248,     0.48348,     0.48448,     0.48549,     0.48649,     0.48749,     0.48849,     0.48949,     0.49049,     0.49149,     0.49249,     0.49349,     0.49449,      0.4955,      0.4965,      0.4975,      0.4985,      0.4995,      0.5005,      0.5015,      0.5025,      0.5035,\n",
      "            0.5045,     0.50551,     0.50651,     0.50751,     0.50851,     0.50951,     0.51051,     0.51151,     0.51251,     0.51351,     0.51451,     0.51552,     0.51652,     0.51752,     0.51852,     0.51952,     0.52052,     0.52152,     0.52252,     0.52352,     0.52452,     0.52553,     0.52653,     0.52753,\n",
      "           0.52853,     0.52953,     0.53053,     0.53153,     0.53253,     0.53353,     0.53453,     0.53554,     0.53654,     0.53754,     0.53854,     0.53954,     0.54054,     0.54154,     0.54254,     0.54354,     0.54454,     0.54555,     0.54655,     0.54755,     0.54855,     0.54955,     0.55055,     0.55155,\n",
      "           0.55255,     0.55355,     0.55455,     0.55556,     0.55656,     0.55756,     0.55856,     0.55956,     0.56056,     0.56156,     0.56256,     0.56356,     0.56456,     0.56557,     0.56657,     0.56757,     0.56857,     0.56957,     0.57057,     0.57157,     0.57257,     0.57357,     0.57457,     0.57558,\n",
      "           0.57658,     0.57758,     0.57858,     0.57958,     0.58058,     0.58158,     0.58258,     0.58358,     0.58458,     0.58559,     0.58659,     0.58759,     0.58859,     0.58959,     0.59059,     0.59159,     0.59259,     0.59359,     0.59459,      0.5956,      0.5966,      0.5976,      0.5986,      0.5996,\n",
      "            0.6006,      0.6016,      0.6026,      0.6036,      0.6046,     0.60561,     0.60661,     0.60761,     0.60861,     0.60961,     0.61061,     0.61161,     0.61261,     0.61361,     0.61461,     0.61562,     0.61662,     0.61762,     0.61862,     0.61962,     0.62062,     0.62162,     0.62262,     0.62362,\n",
      "           0.62462,     0.62563,     0.62663,     0.62763,     0.62863,     0.62963,     0.63063,     0.63163,     0.63263,     0.63363,     0.63463,     0.63564,     0.63664,     0.63764,     0.63864,     0.63964,     0.64064,     0.64164,     0.64264,     0.64364,     0.64464,     0.64565,     0.64665,     0.64765,\n",
      "           0.64865,     0.64965,     0.65065,     0.65165,     0.65265,     0.65365,     0.65465,     0.65566,     0.65666,     0.65766,     0.65866,     0.65966,     0.66066,     0.66166,     0.66266,     0.66366,     0.66466,     0.66567,     0.66667,     0.66767,     0.66867,     0.66967,     0.67067,     0.67167,\n",
      "           0.67267,     0.67367,     0.67467,     0.67568,     0.67668,     0.67768,     0.67868,     0.67968,     0.68068,     0.68168,     0.68268,     0.68368,     0.68468,     0.68569,     0.68669,     0.68769,     0.68869,     0.68969,     0.69069,     0.69169,     0.69269,     0.69369,     0.69469,      0.6957,\n",
      "            0.6967,      0.6977,      0.6987,      0.6997,      0.7007,      0.7017,      0.7027,      0.7037,      0.7047,     0.70571,     0.70671,     0.70771,     0.70871,     0.70971,     0.71071,     0.71171,     0.71271,     0.71371,     0.71471,     0.71572,     0.71672,     0.71772,     0.71872,     0.71972,\n",
      "           0.72072,     0.72172,     0.72272,     0.72372,     0.72472,     0.72573,     0.72673,     0.72773,     0.72873,     0.72973,     0.73073,     0.73173,     0.73273,     0.73373,     0.73473,     0.73574,     0.73674,     0.73774,     0.73874,     0.73974,     0.74074,     0.74174,     0.74274,     0.74374,\n",
      "           0.74474,     0.74575,     0.74675,     0.74775,     0.74875,     0.74975,     0.75075,     0.75175,     0.75275,     0.75375,     0.75475,     0.75576,     0.75676,     0.75776,     0.75876,     0.75976,     0.76076,     0.76176,     0.76276,     0.76376,     0.76476,     0.76577,     0.76677,     0.76777,\n",
      "           0.76877,     0.76977,     0.77077,     0.77177,     0.77277,     0.77377,     0.77477,     0.77578,     0.77678,     0.77778,     0.77878,     0.77978,     0.78078,     0.78178,     0.78278,     0.78378,     0.78478,     0.78579,     0.78679,     0.78779,     0.78879,     0.78979,     0.79079,     0.79179,\n",
      "           0.79279,     0.79379,     0.79479,      0.7958,      0.7968,      0.7978,      0.7988,      0.7998,      0.8008,      0.8018,      0.8028,      0.8038,      0.8048,     0.80581,     0.80681,     0.80781,     0.80881,     0.80981,     0.81081,     0.81181,     0.81281,     0.81381,     0.81481,     0.81582,\n",
      "           0.81682,     0.81782,     0.81882,     0.81982,     0.82082,     0.82182,     0.82282,     0.82382,     0.82482,     0.82583,     0.82683,     0.82783,     0.82883,     0.82983,     0.83083,     0.83183,     0.83283,     0.83383,     0.83483,     0.83584,     0.83684,     0.83784,     0.83884,     0.83984,\n",
      "           0.84084,     0.84184,     0.84284,     0.84384,     0.84484,     0.84585,     0.84685,     0.84785,     0.84885,     0.84985,     0.85085,     0.85185,     0.85285,     0.85385,     0.85485,     0.85586,     0.85686,     0.85786,     0.85886,     0.85986,     0.86086,     0.86186,     0.86286,     0.86386,\n",
      "           0.86486,     0.86587,     0.86687,     0.86787,     0.86887,     0.86987,     0.87087,     0.87187,     0.87287,     0.87387,     0.87487,     0.87588,     0.87688,     0.87788,     0.87888,     0.87988,     0.88088,     0.88188,     0.88288,     0.88388,     0.88488,     0.88589,     0.88689,     0.88789,\n",
      "           0.88889,     0.88989,     0.89089,     0.89189,     0.89289,     0.89389,     0.89489,      0.8959,      0.8969,      0.8979,      0.8989,      0.8999,      0.9009,      0.9019,      0.9029,      0.9039,      0.9049,     0.90591,     0.90691,     0.90791,     0.90891,     0.90991,     0.91091,     0.91191,\n",
      "           0.91291,     0.91391,     0.91491,     0.91592,     0.91692,     0.91792,     0.91892,     0.91992,     0.92092,     0.92192,     0.92292,     0.92392,     0.92492,     0.92593,     0.92693,     0.92793,     0.92893,     0.92993,     0.93093,     0.93193,     0.93293,     0.93393,     0.93493,     0.93594,\n",
      "           0.93694,     0.93794,     0.93894,     0.93994,     0.94094,     0.94194,     0.94294,     0.94394,     0.94494,     0.94595,     0.94695,     0.94795,     0.94895,     0.94995,     0.95095,     0.95195,     0.95295,     0.95395,     0.95495,     0.95596,     0.95696,     0.95796,     0.95896,     0.95996,\n",
      "           0.96096,     0.96196,     0.96296,     0.96396,     0.96496,     0.96597,     0.96697,     0.96797,     0.96897,     0.96997,     0.97097,     0.97197,     0.97297,     0.97397,     0.97497,     0.97598,     0.97698,     0.97798,     0.97898,     0.97998,     0.98098,     0.98198,     0.98298,     0.98398,\n",
      "           0.98498,     0.98599,     0.98699,     0.98799,     0.98899,     0.98999,     0.99099,     0.99199,     0.99299,     0.99399,     0.99499,       0.996,       0.997,       0.998,       0.999,           1]), array([[          1,           1,           1,           1,           1,           1,           1,           1,           1,           1,           1,           1,           1,           1,           1,           1,           1,           1,           1,           1,           1,           1,           1,\n",
      "                  1,           1,           1,           1,           1,           1,           1,           1,           1,           1,           1,           1,           1,           1,           1,           1,           1,           1,           1,           1,           1,           1,           1,\n",
      "                  1,           1,           1,           1,           1,           1,           1,           1,           1,           1,           1,           1,           1,           1,           1,           1,           1,           1,           1,           1,           1,           1,           1,\n",
      "                  1,           1,           1,           1,           1,           1,           1,           1,           1,           1,           1,           1,           1,           1,           1,           1,           1,           1,           1,           1,           1,           1,           1,\n",
      "                  1,           1,           1,           1,           1,           1,           1,           1,           1,           1,           1,           1,           1,           1,           1,           1,           1,           1,           1,           1,           1,           1,           1,\n",
      "                  1,           1,           1,           1,           1,           1,           1,           1,           1,           1,           1,           1,           1,           1,           1,           1,           1,           1,           1,           1,           1,           1,           1,\n",
      "                  1,           1,           1,           1,           1,           1,           1,           1,           1,           1,           1,           1,           1,           1,           1,           1,           1,           1,           1,           1,           1,           1,           1,\n",
      "                  1,           1,           1,           1,           1,           1,           1,           1,           1,           1,           1,           1,           1,           1,           1,           1,           1,           1,           1,           1,           1,           1,           1,\n",
      "                  1,           1,           1,           1,           1,           1,           1,           1,           1,           1,           1,           1,           1,           1,           1,           1,           1,           1,           1,           1,           1,           1,           1,\n",
      "                  1,           1,           1,           1,           1,           1,           1,           1,           1,           1,           1,           1,           1,           1,           1,           1,           1,           1,           1,           1,           1,           1,           1,\n",
      "                  1,           1,           1,           1,           1,           1,           1,           1,           1,           1,           1,           1,           1,           1,           1,           1,           1,           1,           1,           1,           1,           1,           1,\n",
      "                  1,           1,           1,           1,           1,           1,           1,           1,           1,           1,           1,           1,           1,           1,           1,           1,           1,           1,           1,           1,           1,           1,           1,\n",
      "                  1,           1,           1,           1,           1,           1,           1,           1,           1,           1,           1,           1,           1,           1,           1,           1,           1,           1,           1,           1,           1,           1,           1,\n",
      "                  1,           1,           1,           1,           1,           1,           1,           1,           1,           1,           1,           1,           1,           1,           1,           1,           1,           1,           1,           1,           1,           1,           1,\n",
      "                  1,           1,           1,           1,           1,           1,           1,           1,           1,           1,           1,           1,           1,           1,           1,           1,           1,           1,           1,           1,           1,           1,           1,\n",
      "                  1,           1,           1,           1,           1,           1,           1,           1,           1,           1,           1,           1,           1,           1,           1,           1,           1,           1,           1,           1,           1,           1,           1,\n",
      "                  1,           1,           1,           1,           1,           1,           1,           1,           1,           1,           1,           1,           1,           1,           1,           1,           1,           1,           1,           1,           1,           1,           1,\n",
      "                  1,           1,           1,           1,           1,           1,           1,           1,           1,           1,           1,           1,           1,           1,           1,           1,           1,           1,           1,           1,           1,           1,           1,\n",
      "                  1,           1,           1,           1,           1,           1,           1,           1,           1,           1,           1,           1,           1,           1,           1,           1,           1,           1,           1,           1,           1,           1,           1,\n",
      "                  1,           1,           1,           1,           1,           1,           1,           1,           1,           1,           1,           1,           1,           1,           1,           1,           1,           1,           1,           1,           1,           1,           1,\n",
      "                  1,           1,           1,           1,           1,           1,           1,           1,           1,           1,           1,           1,           1,           1,           1,           1,           1,           1,           1,           1,           1,           1,           1,\n",
      "                  1,           1,           1,           1,           1,           1,           1,           1,           1,           1,           1,           1,           1,           1,           1,           1,           1,           1,           1,           1,           1,           1,           1,\n",
      "                  1,           1,           1,           1,           1,           1,           1,           1,           1,           1,           1,           1,           1,           1,           1,           1,           1,           1,           1,           1,           1,           1,           1,\n",
      "                  1,           1,           1,           1,           1,           1,           1,           1,           1,           1,           1,           1,           1,           1,           1,           1,           1,           1,           1,           1,           1,           1,           1,\n",
      "                  1,           1,           1,           1,           1,           1,           1,           1,           1,           1,           1,           1,           1,           1,           1,           1,           1,           1,           1,           1,           1,           1,           1,\n",
      "                  1,           1,           1,           1,           1,           1,           1,           1,           1,           1,           1,           1,           1,           1,           1,           1,           1,           1,           1,           1,           1,           1,           1,\n",
      "                  1,           1,           1,           1,           1,           1,           1,           1,           1,           1,           1,           1,           1,           1,           1,           1,           1,           1,           1,           1,           1,           1,           1,\n",
      "                  1,           1,           1,           1,           1,           1,           1,           1,           1,           1,           1,           1,           1,           1,           1,           1,           1,           1,           1,           1,           1,           1,           1,\n",
      "                  1,           1,           1,           1,           1,           1,           1,           1,           1,           1,           1,           1,           1,           1,           1,           1,           1,           1,           1,           1,           1,           1,           1,\n",
      "                  1,           1,           1,           1,           1,           1,           1,           1,           1,           1,           1,           1,           1,           1,           1,           1,           1,           1,           1,           1,           1,           1,           1,\n",
      "                  1,           1,           1,           1,           1,           1,           1,           1,           1,           1,           1,           1,           1,           1,           1,           1,           1,           1,           1,           1,           1,           1,           1,\n",
      "                  1,           1,           1,           1,           1,           1,           1,           1,           1,           1,           1,           1,           1,           1,           1,     0.99708,     0.99708,     0.99708,     0.99708,     0.99708,     0.99708,     0.99708,     0.99708,\n",
      "            0.99708,     0.99708,     0.99708,     0.99708,     0.99708,     0.99708,     0.99708,     0.99708,     0.99708,     0.99708,     0.99708,     0.99708,     0.99708,     0.99708,     0.99708,     0.99708,     0.99708,     0.99708,     0.99708,     0.99708,     0.99708,     0.99708,     0.99708,\n",
      "            0.99708,     0.99708,     0.99708,     0.99708,     0.99708,     0.99708,     0.99708,     0.99708,     0.99708,     0.99708,     0.99708,     0.99708,     0.99708,     0.99708,     0.99708,     0.99708,     0.99708,     0.99708,     0.99708,     0.99708,     0.99708,     0.99708,     0.99708,\n",
      "            0.99708,     0.99708,     0.99708,     0.99708,     0.99708,     0.99708,     0.99708,     0.99708,     0.99708,     0.99708,     0.99708,     0.99708,     0.99708,     0.99708,     0.99708,     0.99708,     0.99708,     0.99708,     0.99708,     0.99708,     0.99708,     0.99708,     0.99708,\n",
      "            0.99708,     0.99708,     0.99708,     0.99708,     0.99708,     0.99708,     0.99708,     0.99708,     0.99708,     0.99708,     0.99708,     0.99708,     0.99708,     0.99708,     0.99708,     0.99708,     0.99708,     0.99708,     0.99708,     0.99708,     0.99708,     0.99708,     0.99708,\n",
      "            0.99708,     0.99708,     0.99708,     0.99708,     0.99708,     0.99708,     0.99708,     0.99708,     0.99708,     0.99708,     0.99708,     0.99708,     0.99708,     0.99708,     0.99708,     0.99708,     0.99708,     0.99708,     0.99708,     0.99708,     0.99708,     0.99708,     0.99708,\n",
      "            0.99708,     0.99708,     0.99708,     0.99708,     0.99708,     0.99708,     0.99708,     0.99708,     0.99708,     0.99708,     0.99708,     0.99708,     0.99708,     0.99708,     0.99708,     0.99708,     0.99708,     0.99444,     0.99444,     0.99444,     0.99444,     0.99444,     0.99444,\n",
      "            0.99444,     0.99444,     0.99444,     0.99444,     0.99444,     0.99444,     0.99444,     0.99444,     0.99444,     0.99444,     0.99444,     0.99444,     0.99444,     0.99444,     0.99444,     0.99444,     0.99444,     0.99444,     0.99444,     0.99444,     0.99444,     0.99444,     0.99444,\n",
      "            0.99444,     0.99444,     0.99444,     0.99444,     0.99444,     0.99444,     0.99444,     0.99444,     0.99444,     0.99444,     0.99444,     0.99221,     0.99221,     0.99221,     0.99221,     0.99221,     0.99221,     0.99221,     0.99221,     0.99221,     0.99221,     0.99221,     0.99221,\n",
      "            0.99221,     0.99221,     0.99221,     0.99221,     0.99221,     0.99221,     0.99221,     0.99221,     0.99221,     0.99221,     0.99221,     0.99221,     0.99221,     0.99221,     0.99221,     0.99221,     0.99221,     0.99221,     0.99221,     0.99221,     0.99221,     0.99221,     0.99221,\n",
      "            0.99221,     0.99221,     0.99221,     0.99221,     0.99221,     0.99221,     0.99221,     0.99221,     0.99221,     0.99221,     0.99221,     0.99221,     0.99221,     0.99221,     0.99221,     0.99221,     0.99221,     0.99221,     0.99221,     0.99221,     0.99221,     0.99221,     0.99221,\n",
      "            0.99221,     0.99221,     0.99221,      0.9898,      0.9898,      0.9898,      0.9898,      0.9898,      0.9898,      0.9898,      0.9898,      0.9898,      0.9898,      0.9898,      0.9898,      0.9898,      0.9898,      0.9898,     0.97985,     0.97985,     0.97985,     0.97257,     0.97257,\n",
      "            0.97022,     0.97022,     0.97022,     0.48624,     0.41678,     0.34732,     0.27785,     0.20839,     0.13893,    0.069463,           0]]), 'Recall', 'Precision'], [array([          0,    0.001001,    0.002002,    0.003003,    0.004004,    0.005005,    0.006006,    0.007007,    0.008008,    0.009009,     0.01001,    0.011011,    0.012012,    0.013013,    0.014014,    0.015015,    0.016016,    0.017017,    0.018018,    0.019019,     0.02002,    0.021021,    0.022022,    0.023023,\n",
      "          0.024024,    0.025025,    0.026026,    0.027027,    0.028028,    0.029029,     0.03003,    0.031031,    0.032032,    0.033033,    0.034034,    0.035035,    0.036036,    0.037037,    0.038038,    0.039039,     0.04004,    0.041041,    0.042042,    0.043043,    0.044044,    0.045045,    0.046046,    0.047047,\n",
      "          0.048048,    0.049049,     0.05005,    0.051051,    0.052052,    0.053053,    0.054054,    0.055055,    0.056056,    0.057057,    0.058058,    0.059059,     0.06006,    0.061061,    0.062062,    0.063063,    0.064064,    0.065065,    0.066066,    0.067067,    0.068068,    0.069069,     0.07007,    0.071071,\n",
      "          0.072072,    0.073073,    0.074074,    0.075075,    0.076076,    0.077077,    0.078078,    0.079079,     0.08008,    0.081081,    0.082082,    0.083083,    0.084084,    0.085085,    0.086086,    0.087087,    0.088088,    0.089089,     0.09009,    0.091091,    0.092092,    0.093093,    0.094094,    0.095095,\n",
      "          0.096096,    0.097097,    0.098098,    0.099099,      0.1001,      0.1011,      0.1021,      0.1031,      0.1041,     0.10511,     0.10611,     0.10711,     0.10811,     0.10911,     0.11011,     0.11111,     0.11211,     0.11311,     0.11411,     0.11512,     0.11612,     0.11712,     0.11812,     0.11912,\n",
      "           0.12012,     0.12112,     0.12212,     0.12312,     0.12412,     0.12513,     0.12613,     0.12713,     0.12813,     0.12913,     0.13013,     0.13113,     0.13213,     0.13313,     0.13413,     0.13514,     0.13614,     0.13714,     0.13814,     0.13914,     0.14014,     0.14114,     0.14214,     0.14314,\n",
      "           0.14414,     0.14515,     0.14615,     0.14715,     0.14815,     0.14915,     0.15015,     0.15115,     0.15215,     0.15315,     0.15415,     0.15516,     0.15616,     0.15716,     0.15816,     0.15916,     0.16016,     0.16116,     0.16216,     0.16316,     0.16416,     0.16517,     0.16617,     0.16717,\n",
      "           0.16817,     0.16917,     0.17017,     0.17117,     0.17217,     0.17317,     0.17417,     0.17518,     0.17618,     0.17718,     0.17818,     0.17918,     0.18018,     0.18118,     0.18218,     0.18318,     0.18418,     0.18519,     0.18619,     0.18719,     0.18819,     0.18919,     0.19019,     0.19119,\n",
      "           0.19219,     0.19319,     0.19419,      0.1952,      0.1962,      0.1972,      0.1982,      0.1992,      0.2002,      0.2012,      0.2022,      0.2032,      0.2042,     0.20521,     0.20621,     0.20721,     0.20821,     0.20921,     0.21021,     0.21121,     0.21221,     0.21321,     0.21421,     0.21522,\n",
      "           0.21622,     0.21722,     0.21822,     0.21922,     0.22022,     0.22122,     0.22222,     0.22322,     0.22422,     0.22523,     0.22623,     0.22723,     0.22823,     0.22923,     0.23023,     0.23123,     0.23223,     0.23323,     0.23423,     0.23524,     0.23624,     0.23724,     0.23824,     0.23924,\n",
      "           0.24024,     0.24124,     0.24224,     0.24324,     0.24424,     0.24525,     0.24625,     0.24725,     0.24825,     0.24925,     0.25025,     0.25125,     0.25225,     0.25325,     0.25425,     0.25526,     0.25626,     0.25726,     0.25826,     0.25926,     0.26026,     0.26126,     0.26226,     0.26326,\n",
      "           0.26426,     0.26527,     0.26627,     0.26727,     0.26827,     0.26927,     0.27027,     0.27127,     0.27227,     0.27327,     0.27427,     0.27528,     0.27628,     0.27728,     0.27828,     0.27928,     0.28028,     0.28128,     0.28228,     0.28328,     0.28428,     0.28529,     0.28629,     0.28729,\n",
      "           0.28829,     0.28929,     0.29029,     0.29129,     0.29229,     0.29329,     0.29429,      0.2953,      0.2963,      0.2973,      0.2983,      0.2993,      0.3003,      0.3013,      0.3023,      0.3033,      0.3043,     0.30531,     0.30631,     0.30731,     0.30831,     0.30931,     0.31031,     0.31131,\n",
      "           0.31231,     0.31331,     0.31431,     0.31532,     0.31632,     0.31732,     0.31832,     0.31932,     0.32032,     0.32132,     0.32232,     0.32332,     0.32432,     0.32533,     0.32633,     0.32733,     0.32833,     0.32933,     0.33033,     0.33133,     0.33233,     0.33333,     0.33433,     0.33534,\n",
      "           0.33634,     0.33734,     0.33834,     0.33934,     0.34034,     0.34134,     0.34234,     0.34334,     0.34434,     0.34535,     0.34635,     0.34735,     0.34835,     0.34935,     0.35035,     0.35135,     0.35235,     0.35335,     0.35435,     0.35536,     0.35636,     0.35736,     0.35836,     0.35936,\n",
      "           0.36036,     0.36136,     0.36236,     0.36336,     0.36436,     0.36537,     0.36637,     0.36737,     0.36837,     0.36937,     0.37037,     0.37137,     0.37237,     0.37337,     0.37437,     0.37538,     0.37638,     0.37738,     0.37838,     0.37938,     0.38038,     0.38138,     0.38238,     0.38338,\n",
      "           0.38438,     0.38539,     0.38639,     0.38739,     0.38839,     0.38939,     0.39039,     0.39139,     0.39239,     0.39339,     0.39439,      0.3954,      0.3964,      0.3974,      0.3984,      0.3994,      0.4004,      0.4014,      0.4024,      0.4034,      0.4044,     0.40541,     0.40641,     0.40741,\n",
      "           0.40841,     0.40941,     0.41041,     0.41141,     0.41241,     0.41341,     0.41441,     0.41542,     0.41642,     0.41742,     0.41842,     0.41942,     0.42042,     0.42142,     0.42242,     0.42342,     0.42442,     0.42543,     0.42643,     0.42743,     0.42843,     0.42943,     0.43043,     0.43143,\n",
      "           0.43243,     0.43343,     0.43443,     0.43544,     0.43644,     0.43744,     0.43844,     0.43944,     0.44044,     0.44144,     0.44244,     0.44344,     0.44444,     0.44545,     0.44645,     0.44745,     0.44845,     0.44945,     0.45045,     0.45145,     0.45245,     0.45345,     0.45445,     0.45546,\n",
      "           0.45646,     0.45746,     0.45846,     0.45946,     0.46046,     0.46146,     0.46246,     0.46346,     0.46446,     0.46547,     0.46647,     0.46747,     0.46847,     0.46947,     0.47047,     0.47147,     0.47247,     0.47347,     0.47447,     0.47548,     0.47648,     0.47748,     0.47848,     0.47948,\n",
      "           0.48048,     0.48148,     0.48248,     0.48348,     0.48448,     0.48549,     0.48649,     0.48749,     0.48849,     0.48949,     0.49049,     0.49149,     0.49249,     0.49349,     0.49449,      0.4955,      0.4965,      0.4975,      0.4985,      0.4995,      0.5005,      0.5015,      0.5025,      0.5035,\n",
      "            0.5045,     0.50551,     0.50651,     0.50751,     0.50851,     0.50951,     0.51051,     0.51151,     0.51251,     0.51351,     0.51451,     0.51552,     0.51652,     0.51752,     0.51852,     0.51952,     0.52052,     0.52152,     0.52252,     0.52352,     0.52452,     0.52553,     0.52653,     0.52753,\n",
      "           0.52853,     0.52953,     0.53053,     0.53153,     0.53253,     0.53353,     0.53453,     0.53554,     0.53654,     0.53754,     0.53854,     0.53954,     0.54054,     0.54154,     0.54254,     0.54354,     0.54454,     0.54555,     0.54655,     0.54755,     0.54855,     0.54955,     0.55055,     0.55155,\n",
      "           0.55255,     0.55355,     0.55455,     0.55556,     0.55656,     0.55756,     0.55856,     0.55956,     0.56056,     0.56156,     0.56256,     0.56356,     0.56456,     0.56557,     0.56657,     0.56757,     0.56857,     0.56957,     0.57057,     0.57157,     0.57257,     0.57357,     0.57457,     0.57558,\n",
      "           0.57658,     0.57758,     0.57858,     0.57958,     0.58058,     0.58158,     0.58258,     0.58358,     0.58458,     0.58559,     0.58659,     0.58759,     0.58859,     0.58959,     0.59059,     0.59159,     0.59259,     0.59359,     0.59459,      0.5956,      0.5966,      0.5976,      0.5986,      0.5996,\n",
      "            0.6006,      0.6016,      0.6026,      0.6036,      0.6046,     0.60561,     0.60661,     0.60761,     0.60861,     0.60961,     0.61061,     0.61161,     0.61261,     0.61361,     0.61461,     0.61562,     0.61662,     0.61762,     0.61862,     0.61962,     0.62062,     0.62162,     0.62262,     0.62362,\n",
      "           0.62462,     0.62563,     0.62663,     0.62763,     0.62863,     0.62963,     0.63063,     0.63163,     0.63263,     0.63363,     0.63463,     0.63564,     0.63664,     0.63764,     0.63864,     0.63964,     0.64064,     0.64164,     0.64264,     0.64364,     0.64464,     0.64565,     0.64665,     0.64765,\n",
      "           0.64865,     0.64965,     0.65065,     0.65165,     0.65265,     0.65365,     0.65465,     0.65566,     0.65666,     0.65766,     0.65866,     0.65966,     0.66066,     0.66166,     0.66266,     0.66366,     0.66466,     0.66567,     0.66667,     0.66767,     0.66867,     0.66967,     0.67067,     0.67167,\n",
      "           0.67267,     0.67367,     0.67467,     0.67568,     0.67668,     0.67768,     0.67868,     0.67968,     0.68068,     0.68168,     0.68268,     0.68368,     0.68468,     0.68569,     0.68669,     0.68769,     0.68869,     0.68969,     0.69069,     0.69169,     0.69269,     0.69369,     0.69469,      0.6957,\n",
      "            0.6967,      0.6977,      0.6987,      0.6997,      0.7007,      0.7017,      0.7027,      0.7037,      0.7047,     0.70571,     0.70671,     0.70771,     0.70871,     0.70971,     0.71071,     0.71171,     0.71271,     0.71371,     0.71471,     0.71572,     0.71672,     0.71772,     0.71872,     0.71972,\n",
      "           0.72072,     0.72172,     0.72272,     0.72372,     0.72472,     0.72573,     0.72673,     0.72773,     0.72873,     0.72973,     0.73073,     0.73173,     0.73273,     0.73373,     0.73473,     0.73574,     0.73674,     0.73774,     0.73874,     0.73974,     0.74074,     0.74174,     0.74274,     0.74374,\n",
      "           0.74474,     0.74575,     0.74675,     0.74775,     0.74875,     0.74975,     0.75075,     0.75175,     0.75275,     0.75375,     0.75475,     0.75576,     0.75676,     0.75776,     0.75876,     0.75976,     0.76076,     0.76176,     0.76276,     0.76376,     0.76476,     0.76577,     0.76677,     0.76777,\n",
      "           0.76877,     0.76977,     0.77077,     0.77177,     0.77277,     0.77377,     0.77477,     0.77578,     0.77678,     0.77778,     0.77878,     0.77978,     0.78078,     0.78178,     0.78278,     0.78378,     0.78478,     0.78579,     0.78679,     0.78779,     0.78879,     0.78979,     0.79079,     0.79179,\n",
      "           0.79279,     0.79379,     0.79479,      0.7958,      0.7968,      0.7978,      0.7988,      0.7998,      0.8008,      0.8018,      0.8028,      0.8038,      0.8048,     0.80581,     0.80681,     0.80781,     0.80881,     0.80981,     0.81081,     0.81181,     0.81281,     0.81381,     0.81481,     0.81582,\n",
      "           0.81682,     0.81782,     0.81882,     0.81982,     0.82082,     0.82182,     0.82282,     0.82382,     0.82482,     0.82583,     0.82683,     0.82783,     0.82883,     0.82983,     0.83083,     0.83183,     0.83283,     0.83383,     0.83483,     0.83584,     0.83684,     0.83784,     0.83884,     0.83984,\n",
      "           0.84084,     0.84184,     0.84284,     0.84384,     0.84484,     0.84585,     0.84685,     0.84785,     0.84885,     0.84985,     0.85085,     0.85185,     0.85285,     0.85385,     0.85485,     0.85586,     0.85686,     0.85786,     0.85886,     0.85986,     0.86086,     0.86186,     0.86286,     0.86386,\n",
      "           0.86486,     0.86587,     0.86687,     0.86787,     0.86887,     0.86987,     0.87087,     0.87187,     0.87287,     0.87387,     0.87487,     0.87588,     0.87688,     0.87788,     0.87888,     0.87988,     0.88088,     0.88188,     0.88288,     0.88388,     0.88488,     0.88589,     0.88689,     0.88789,\n",
      "           0.88889,     0.88989,     0.89089,     0.89189,     0.89289,     0.89389,     0.89489,      0.8959,      0.8969,      0.8979,      0.8989,      0.8999,      0.9009,      0.9019,      0.9029,      0.9039,      0.9049,     0.90591,     0.90691,     0.90791,     0.90891,     0.90991,     0.91091,     0.91191,\n",
      "           0.91291,     0.91391,     0.91491,     0.91592,     0.91692,     0.91792,     0.91892,     0.91992,     0.92092,     0.92192,     0.92292,     0.92392,     0.92492,     0.92593,     0.92693,     0.92793,     0.92893,     0.92993,     0.93093,     0.93193,     0.93293,     0.93393,     0.93493,     0.93594,\n",
      "           0.93694,     0.93794,     0.93894,     0.93994,     0.94094,     0.94194,     0.94294,     0.94394,     0.94494,     0.94595,     0.94695,     0.94795,     0.94895,     0.94995,     0.95095,     0.95195,     0.95295,     0.95395,     0.95495,     0.95596,     0.95696,     0.95796,     0.95896,     0.95996,\n",
      "           0.96096,     0.96196,     0.96296,     0.96396,     0.96496,     0.96597,     0.96697,     0.96797,     0.96897,     0.96997,     0.97097,     0.97197,     0.97297,     0.97397,     0.97497,     0.97598,     0.97698,     0.97798,     0.97898,     0.97998,     0.98098,     0.98198,     0.98298,     0.98398,\n",
      "           0.98498,     0.98599,     0.98699,     0.98799,     0.98899,     0.98999,     0.99099,     0.99199,     0.99299,     0.99399,     0.99499,       0.996,       0.997,       0.998,       0.999,           1]), array([[    0.68959,     0.68959,     0.77554,     0.81684,      0.8443,     0.85865,     0.86663,     0.87984,     0.88413,     0.88955,     0.89581,     0.90034,     0.90401,     0.90677,     0.91012,      0.9123,      0.9168,      0.9178,      0.9234,     0.92493,     0.92575,     0.92653,     0.93024,\n",
      "            0.93333,     0.93397,     0.93612,     0.93801,     0.93878,     0.93926,     0.93973,      0.9402,     0.94066,     0.94113,      0.9416,     0.94208,     0.94257,     0.94306,     0.94671,     0.94735,       0.948,     0.94884,     0.94973,     0.95035,     0.95069,     0.95103,     0.95142,\n",
      "            0.95224,     0.95293,     0.95355,     0.95417,     0.95479,     0.95494,     0.95506,     0.95518,      0.9553,     0.95542,     0.95554,     0.95566,     0.95578,      0.9559,     0.95606,     0.95633,      0.9566,     0.95688,     0.95715,     0.95768,     0.95822,     0.95898,     0.95957,\n",
      "            0.95975,     0.95993,     0.96011,     0.96029,     0.96047,     0.96065,     0.96195,      0.9621,     0.96224,     0.96238,     0.96253,     0.96267,     0.96281,     0.96295,     0.96308,     0.96315,     0.96322,     0.96329,     0.96336,     0.96344,     0.96351,     0.96358,     0.96365,\n",
      "            0.96372,     0.96379,     0.96387,     0.96394,     0.96401,     0.96408,     0.96415,     0.96422,     0.96463,     0.96514,     0.96546,     0.96551,     0.96557,     0.96562,     0.96567,     0.96573,     0.96578,     0.96584,     0.96589,     0.96595,       0.966,     0.96606,     0.96611,\n",
      "            0.96617,     0.96622,     0.96628,     0.96633,     0.96639,     0.96644,     0.96649,     0.96655,      0.9666,     0.96673,     0.96691,     0.96709,     0.96727,     0.96744,     0.96762,      0.9678,      0.9679,     0.96799,     0.96809,     0.96818,     0.96827,     0.96836,     0.96845,\n",
      "            0.96855,     0.96864,     0.96873,     0.96882,     0.96891,       0.969,     0.96908,     0.96915,     0.96923,      0.9693,     0.96937,     0.96945,     0.96952,     0.96959,     0.96966,     0.96974,     0.96981,     0.96988,     0.96996,     0.97003,      0.9701,     0.97018,     0.97034,\n",
      "            0.97068,     0.97101,     0.97135,     0.97161,     0.97185,     0.97209,     0.97233,     0.97257,     0.97282,     0.97307,     0.97332,     0.97358,     0.97383,     0.97403,     0.97422,     0.97441,      0.9746,      0.9748,     0.97499,     0.97509,     0.97514,     0.97519,     0.97524,\n",
      "            0.97528,     0.97533,     0.97538,     0.97543,     0.97548,     0.97552,     0.97557,     0.97562,     0.97567,     0.97572,     0.97576,     0.97581,     0.97586,     0.97591,     0.97596,       0.976,     0.97605,      0.9761,     0.97615,      0.9762,     0.97624,     0.97631,     0.97645,\n",
      "            0.97659,     0.97672,     0.97686,       0.977,     0.97713,     0.97727,     0.97741,     0.97751,     0.97754,     0.97757,      0.9776,     0.97763,     0.97766,     0.97769,     0.97771,     0.97774,     0.97777,      0.9778,     0.97783,     0.97786,     0.97789,     0.97792,     0.97795,\n",
      "            0.97798,     0.97801,     0.97804,     0.97806,     0.97809,     0.97812,     0.97815,     0.97818,     0.97821,     0.97824,     0.97827,      0.9783,     0.97833,     0.97836,     0.97839,     0.97841,     0.97844,     0.97847,      0.9785,     0.97853,     0.97856,     0.97859,     0.97862,\n",
      "            0.97865,     0.97868,     0.97871,     0.97873,     0.97875,     0.97877,     0.97879,     0.97881,     0.97883,     0.97885,     0.97887,     0.97889,     0.97891,     0.97894,     0.97896,     0.97898,       0.979,     0.97902,     0.97904,     0.97906,     0.97908,      0.9791,     0.97912,\n",
      "            0.97914,     0.97916,     0.97918,      0.9792,     0.97922,     0.97924,     0.97926,     0.97928,      0.9793,     0.97932,     0.97934,     0.97936,     0.97938,      0.9794,     0.97942,     0.97944,     0.97946,     0.97948,      0.9795,     0.97952,     0.97954,     0.97956,     0.97958,\n",
      "            0.97961,     0.97963,     0.97965,     0.97967,     0.97969,     0.97971,     0.97973,     0.97975,     0.97977,     0.97979,     0.97981,     0.97983,     0.97985,     0.97987,     0.97989,     0.97991,     0.97993,     0.97995,     0.98016,     0.98037,     0.98058,     0.98079,     0.98101,\n",
      "            0.98114,      0.9809,     0.98066,     0.98042,     0.98018,     0.97994,     0.97992,     0.97995,     0.97998,        0.98,     0.98003,     0.98006,     0.98009,     0.98011,     0.98014,     0.98017,      0.9802,     0.98022,     0.98025,     0.98028,     0.98031,     0.98033,     0.98036,\n",
      "            0.98039,     0.98042,     0.98044,     0.98047,      0.9805,     0.98053,     0.98055,     0.98058,     0.98061,     0.98064,     0.98066,     0.98069,     0.98072,     0.98075,     0.98077,      0.9808,     0.98083,     0.98086,     0.98088,     0.98091,     0.98094,     0.98097,     0.98099,\n",
      "            0.98102,     0.98105,     0.98108,      0.9811,     0.98113,     0.98111,      0.9811,     0.98108,     0.98106,     0.98104,     0.98102,       0.981,     0.98099,     0.98097,     0.98095,     0.98093,     0.98091,     0.98089,     0.98087,     0.98086,     0.98084,     0.98082,      0.9808,\n",
      "            0.98078,     0.98076,     0.98074,     0.98073,     0.98071,     0.98069,     0.98067,     0.98065,     0.98063,     0.98061,      0.9806,     0.98058,     0.98056,     0.98054,     0.98052,      0.9805,     0.98048,     0.98047,     0.98045,     0.98043,     0.98041,     0.98039,     0.98037,\n",
      "            0.98035,     0.98034,     0.98032,      0.9803,     0.98028,     0.98026,     0.98024,     0.98022,     0.98021,     0.98019,     0.98017,     0.98015,     0.98013,     0.98011,     0.98009,     0.98008,     0.98006,     0.98004,     0.98002,        0.98,     0.97998,     0.97996,     0.97995,\n",
      "            0.97993,     0.97991,     0.97989,     0.97987,     0.97985,     0.97986,     0.97988,     0.97989,     0.97991,     0.97992,     0.97993,     0.97995,     0.97996,     0.97998,     0.97999,     0.98001,     0.98002,     0.98004,     0.98005,     0.98007,     0.98008,      0.9801,     0.98011,\n",
      "            0.98013,     0.98014,     0.98015,     0.98017,     0.98018,      0.9802,     0.98021,     0.98023,     0.98024,     0.98026,     0.98027,     0.98029,      0.9803,     0.98032,     0.98033,     0.98035,     0.98036,     0.98037,     0.98039,      0.9804,     0.98042,     0.98043,     0.98045,\n",
      "            0.98046,     0.98048,     0.98049,     0.98051,     0.98052,     0.98054,     0.98055,     0.98057,     0.98058,     0.98059,     0.98061,     0.98062,     0.98064,     0.98065,     0.98067,     0.98068,      0.9807,     0.98071,     0.98073,     0.98074,     0.98076,     0.98077,     0.98079,\n",
      "             0.9808,     0.98081,     0.98083,     0.98084,     0.98086,     0.98087,     0.98089,      0.9809,     0.98092,     0.98093,     0.98095,     0.98096,     0.98098,     0.98099,     0.98101,     0.98102,     0.98103,     0.98105,     0.98106,     0.98108,     0.98113,     0.98122,     0.98131,\n",
      "            0.98139,     0.98148,     0.98156,     0.98165,     0.98174,     0.98182,     0.98191,       0.982,     0.98208,     0.98217,     0.98225,     0.98233,     0.98236,     0.98239,     0.98242,     0.98245,     0.98249,     0.98252,     0.98255,     0.98258,     0.98261,     0.98264,     0.98267,\n",
      "             0.9827,     0.98274,     0.98277,      0.9828,     0.98283,     0.98286,     0.98289,     0.98292,     0.98295,     0.98299,     0.98302,     0.98305,     0.98308,     0.98311,     0.98314,     0.98317,      0.9832,     0.98324,     0.98327,      0.9833,     0.98333,     0.98336,     0.98339,\n",
      "            0.98342,     0.98345,     0.98349,     0.98352,     0.98355,     0.98356,     0.98353,     0.98351,     0.98349,     0.98347,     0.98345,     0.98342,      0.9834,     0.98338,     0.98336,     0.98334,     0.98331,     0.98329,     0.98327,     0.98325,     0.98323,      0.9832,     0.98318,\n",
      "            0.98316,     0.98314,     0.98312,     0.98309,     0.98307,     0.98305,     0.98303,       0.983,     0.98298,     0.98296,     0.98294,     0.98292,     0.98289,     0.98287,     0.98285,     0.98283,     0.98281,     0.98278,     0.98276,     0.98274,     0.98272,      0.9827,     0.98267,\n",
      "            0.98265,     0.98263,     0.98261,     0.98259,     0.98256,     0.98254,     0.98252,      0.9825,     0.98248,     0.98245,     0.98243,     0.98241,     0.98239,     0.98237,     0.98234,     0.98232,      0.9823,     0.98228,     0.98241,     0.98254,     0.98266,     0.98279,     0.98292,\n",
      "            0.98304,     0.98317,      0.9833,     0.98342,     0.98355,     0.98366,     0.98378,      0.9839,     0.98401,     0.98413,     0.98425,     0.98436,     0.98448,     0.98459,     0.98471,     0.98504,     0.98559,     0.98604,     0.98609,     0.98615,      0.9862,     0.98626,     0.98632,\n",
      "            0.98637,     0.98643,     0.98648,     0.98654,      0.9866,     0.98665,     0.98671,     0.98676,     0.98682,     0.98688,     0.98693,     0.98699,     0.98704,      0.9871,     0.98715,     0.98721,     0.98727,     0.98693,     0.98651,     0.98608,     0.98581,     0.98559,     0.98537,\n",
      "            0.98515,     0.98493,      0.9847,     0.98458,     0.98447,     0.98435,     0.98423,     0.98412,       0.984,     0.98388,     0.98377,     0.98365,     0.98353,     0.98342,     0.98299,     0.98249,     0.98202,     0.98162,     0.98122,     0.98082,     0.98049,     0.98017,     0.97984,\n",
      "            0.97952,     0.97958,     0.97969,      0.9798,      0.9799,     0.98001,     0.98012,     0.98022,     0.98033,     0.98044,     0.98054,     0.98065,     0.98072,     0.98048,     0.98024,        0.98,     0.97976,     0.97952,     0.97805,     0.97775,     0.97744,     0.97714,     0.97684,\n",
      "            0.97624,     0.97561,     0.97375,     0.97317,     0.97256,     0.97191,     0.97116,     0.97022,     0.96932,     0.96583,     0.96482,     0.96144,     0.96031,     0.95983,      0.9593,     0.95683,      0.9548,     0.95339,     0.95268,     0.94918,     0.94809,     0.94679,     0.94372,\n",
      "            0.94214,     0.94122,     0.93926,     0.93679,     0.93342,     0.92824,     0.92752,       0.927,     0.91914,     0.91673,     0.91173,     0.91079,      0.9088,     0.90427,     0.90245,     0.90179,     0.90056,       0.897,     0.89014,     0.87398,     0.86709,     0.86157,     0.86063,\n",
      "            0.85793,     0.85195,     0.84471,     0.83603,     0.83171,      0.8274,      0.8225,     0.81836,     0.81518,     0.80484,      0.7976,     0.78936,     0.78802,     0.78465,      0.7752,     0.76125,     0.74632,     0.72837,     0.72494,     0.70946,     0.69264,     0.68281,       0.664,\n",
      "            0.64335,     0.63325,     0.62259,     0.60964,     0.59478,     0.58143,     0.55769,     0.53786,     0.52667,     0.51102,     0.48832,     0.46879,     0.45209,     0.44291,     0.43108,     0.42543,     0.40904,     0.39831,     0.38814,     0.37909,     0.35696,     0.34244,     0.32922,\n",
      "            0.30444,     0.30212,     0.28126,     0.27258,      0.2652,     0.25789,     0.24484,     0.23156,     0.21833,     0.20691,     0.20437,     0.20262,     0.20086,     0.19823,     0.19352,     0.18239,     0.17043,     0.15687,      0.1505,     0.14501,     0.14371,     0.14242,     0.13843,\n",
      "            0.13371,     0.12078,     0.10992,      0.1084,     0.10688,     0.10455,    0.096076,    0.087258,    0.085894,     0.08453,    0.083163,    0.080028,     0.07781,    0.077335,    0.076859,    0.076383,    0.075907,     0.07543,    0.074954,    0.074477,       0.074,    0.073522,    0.070077,\n",
      "            0.06382,    0.061724,    0.059624,     0.04913,    0.047232,    0.045331,    0.043794,    0.042452,    0.041109,    0.039787,    0.039293,    0.038798,    0.038303,    0.037808,    0.037312,    0.036816,     0.03632,    0.035824,    0.035327,    0.034701,    0.033425,    0.032147,    0.030868,\n",
      "           0.029285,    0.027063,    0.024975,    0.024109,    0.023243,    0.022376,    0.021508,    0.020639,    0.019921,    0.019447,    0.018973,    0.018499,    0.018025,    0.017551,    0.017076,    0.016601,    0.016126,    0.015651,    0.015175,     0.01469,    0.014204,    0.013717,     0.01323,\n",
      "           0.012743,    0.012256,    0.011768,     0.01128,    0.010792,    0.010304,    0.009706,   0.0090298,   0.0083531,   0.0076759,   0.0069982,   0.0063201,   0.0056416,           0,           0,           0,           0,           0,           0,           0,           0,           0,           0,\n",
      "                  0,           0,           0,           0,           0,           0,           0,           0,           0,           0,           0,           0,           0,           0,           0,           0,           0,           0,           0,           0,           0,           0,           0,\n",
      "                  0,           0,           0,           0,           0,           0,           0,           0,           0,           0,           0,           0,           0,           0,           0,           0,           0,           0,           0,           0,           0,           0,           0,\n",
      "                  0,           0,           0,           0,           0,           0,           0,           0,           0,           0,           0]]), 'Confidence', 'F1'], [array([          0,    0.001001,    0.002002,    0.003003,    0.004004,    0.005005,    0.006006,    0.007007,    0.008008,    0.009009,     0.01001,    0.011011,    0.012012,    0.013013,    0.014014,    0.015015,    0.016016,    0.017017,    0.018018,    0.019019,     0.02002,    0.021021,    0.022022,    0.023023,\n",
      "          0.024024,    0.025025,    0.026026,    0.027027,    0.028028,    0.029029,     0.03003,    0.031031,    0.032032,    0.033033,    0.034034,    0.035035,    0.036036,    0.037037,    0.038038,    0.039039,     0.04004,    0.041041,    0.042042,    0.043043,    0.044044,    0.045045,    0.046046,    0.047047,\n",
      "          0.048048,    0.049049,     0.05005,    0.051051,    0.052052,    0.053053,    0.054054,    0.055055,    0.056056,    0.057057,    0.058058,    0.059059,     0.06006,    0.061061,    0.062062,    0.063063,    0.064064,    0.065065,    0.066066,    0.067067,    0.068068,    0.069069,     0.07007,    0.071071,\n",
      "          0.072072,    0.073073,    0.074074,    0.075075,    0.076076,    0.077077,    0.078078,    0.079079,     0.08008,    0.081081,    0.082082,    0.083083,    0.084084,    0.085085,    0.086086,    0.087087,    0.088088,    0.089089,     0.09009,    0.091091,    0.092092,    0.093093,    0.094094,    0.095095,\n",
      "          0.096096,    0.097097,    0.098098,    0.099099,      0.1001,      0.1011,      0.1021,      0.1031,      0.1041,     0.10511,     0.10611,     0.10711,     0.10811,     0.10911,     0.11011,     0.11111,     0.11211,     0.11311,     0.11411,     0.11512,     0.11612,     0.11712,     0.11812,     0.11912,\n",
      "           0.12012,     0.12112,     0.12212,     0.12312,     0.12412,     0.12513,     0.12613,     0.12713,     0.12813,     0.12913,     0.13013,     0.13113,     0.13213,     0.13313,     0.13413,     0.13514,     0.13614,     0.13714,     0.13814,     0.13914,     0.14014,     0.14114,     0.14214,     0.14314,\n",
      "           0.14414,     0.14515,     0.14615,     0.14715,     0.14815,     0.14915,     0.15015,     0.15115,     0.15215,     0.15315,     0.15415,     0.15516,     0.15616,     0.15716,     0.15816,     0.15916,     0.16016,     0.16116,     0.16216,     0.16316,     0.16416,     0.16517,     0.16617,     0.16717,\n",
      "           0.16817,     0.16917,     0.17017,     0.17117,     0.17217,     0.17317,     0.17417,     0.17518,     0.17618,     0.17718,     0.17818,     0.17918,     0.18018,     0.18118,     0.18218,     0.18318,     0.18418,     0.18519,     0.18619,     0.18719,     0.18819,     0.18919,     0.19019,     0.19119,\n",
      "           0.19219,     0.19319,     0.19419,      0.1952,      0.1962,      0.1972,      0.1982,      0.1992,      0.2002,      0.2012,      0.2022,      0.2032,      0.2042,     0.20521,     0.20621,     0.20721,     0.20821,     0.20921,     0.21021,     0.21121,     0.21221,     0.21321,     0.21421,     0.21522,\n",
      "           0.21622,     0.21722,     0.21822,     0.21922,     0.22022,     0.22122,     0.22222,     0.22322,     0.22422,     0.22523,     0.22623,     0.22723,     0.22823,     0.22923,     0.23023,     0.23123,     0.23223,     0.23323,     0.23423,     0.23524,     0.23624,     0.23724,     0.23824,     0.23924,\n",
      "           0.24024,     0.24124,     0.24224,     0.24324,     0.24424,     0.24525,     0.24625,     0.24725,     0.24825,     0.24925,     0.25025,     0.25125,     0.25225,     0.25325,     0.25425,     0.25526,     0.25626,     0.25726,     0.25826,     0.25926,     0.26026,     0.26126,     0.26226,     0.26326,\n",
      "           0.26426,     0.26527,     0.26627,     0.26727,     0.26827,     0.26927,     0.27027,     0.27127,     0.27227,     0.27327,     0.27427,     0.27528,     0.27628,     0.27728,     0.27828,     0.27928,     0.28028,     0.28128,     0.28228,     0.28328,     0.28428,     0.28529,     0.28629,     0.28729,\n",
      "           0.28829,     0.28929,     0.29029,     0.29129,     0.29229,     0.29329,     0.29429,      0.2953,      0.2963,      0.2973,      0.2983,      0.2993,      0.3003,      0.3013,      0.3023,      0.3033,      0.3043,     0.30531,     0.30631,     0.30731,     0.30831,     0.30931,     0.31031,     0.31131,\n",
      "           0.31231,     0.31331,     0.31431,     0.31532,     0.31632,     0.31732,     0.31832,     0.31932,     0.32032,     0.32132,     0.32232,     0.32332,     0.32432,     0.32533,     0.32633,     0.32733,     0.32833,     0.32933,     0.33033,     0.33133,     0.33233,     0.33333,     0.33433,     0.33534,\n",
      "           0.33634,     0.33734,     0.33834,     0.33934,     0.34034,     0.34134,     0.34234,     0.34334,     0.34434,     0.34535,     0.34635,     0.34735,     0.34835,     0.34935,     0.35035,     0.35135,     0.35235,     0.35335,     0.35435,     0.35536,     0.35636,     0.35736,     0.35836,     0.35936,\n",
      "           0.36036,     0.36136,     0.36236,     0.36336,     0.36436,     0.36537,     0.36637,     0.36737,     0.36837,     0.36937,     0.37037,     0.37137,     0.37237,     0.37337,     0.37437,     0.37538,     0.37638,     0.37738,     0.37838,     0.37938,     0.38038,     0.38138,     0.38238,     0.38338,\n",
      "           0.38438,     0.38539,     0.38639,     0.38739,     0.38839,     0.38939,     0.39039,     0.39139,     0.39239,     0.39339,     0.39439,      0.3954,      0.3964,      0.3974,      0.3984,      0.3994,      0.4004,      0.4014,      0.4024,      0.4034,      0.4044,     0.40541,     0.40641,     0.40741,\n",
      "           0.40841,     0.40941,     0.41041,     0.41141,     0.41241,     0.41341,     0.41441,     0.41542,     0.41642,     0.41742,     0.41842,     0.41942,     0.42042,     0.42142,     0.42242,     0.42342,     0.42442,     0.42543,     0.42643,     0.42743,     0.42843,     0.42943,     0.43043,     0.43143,\n",
      "           0.43243,     0.43343,     0.43443,     0.43544,     0.43644,     0.43744,     0.43844,     0.43944,     0.44044,     0.44144,     0.44244,     0.44344,     0.44444,     0.44545,     0.44645,     0.44745,     0.44845,     0.44945,     0.45045,     0.45145,     0.45245,     0.45345,     0.45445,     0.45546,\n",
      "           0.45646,     0.45746,     0.45846,     0.45946,     0.46046,     0.46146,     0.46246,     0.46346,     0.46446,     0.46547,     0.46647,     0.46747,     0.46847,     0.46947,     0.47047,     0.47147,     0.47247,     0.47347,     0.47447,     0.47548,     0.47648,     0.47748,     0.47848,     0.47948,\n",
      "           0.48048,     0.48148,     0.48248,     0.48348,     0.48448,     0.48549,     0.48649,     0.48749,     0.48849,     0.48949,     0.49049,     0.49149,     0.49249,     0.49349,     0.49449,      0.4955,      0.4965,      0.4975,      0.4985,      0.4995,      0.5005,      0.5015,      0.5025,      0.5035,\n",
      "            0.5045,     0.50551,     0.50651,     0.50751,     0.50851,     0.50951,     0.51051,     0.51151,     0.51251,     0.51351,     0.51451,     0.51552,     0.51652,     0.51752,     0.51852,     0.51952,     0.52052,     0.52152,     0.52252,     0.52352,     0.52452,     0.52553,     0.52653,     0.52753,\n",
      "           0.52853,     0.52953,     0.53053,     0.53153,     0.53253,     0.53353,     0.53453,     0.53554,     0.53654,     0.53754,     0.53854,     0.53954,     0.54054,     0.54154,     0.54254,     0.54354,     0.54454,     0.54555,     0.54655,     0.54755,     0.54855,     0.54955,     0.55055,     0.55155,\n",
      "           0.55255,     0.55355,     0.55455,     0.55556,     0.55656,     0.55756,     0.55856,     0.55956,     0.56056,     0.56156,     0.56256,     0.56356,     0.56456,     0.56557,     0.56657,     0.56757,     0.56857,     0.56957,     0.57057,     0.57157,     0.57257,     0.57357,     0.57457,     0.57558,\n",
      "           0.57658,     0.57758,     0.57858,     0.57958,     0.58058,     0.58158,     0.58258,     0.58358,     0.58458,     0.58559,     0.58659,     0.58759,     0.58859,     0.58959,     0.59059,     0.59159,     0.59259,     0.59359,     0.59459,      0.5956,      0.5966,      0.5976,      0.5986,      0.5996,\n",
      "            0.6006,      0.6016,      0.6026,      0.6036,      0.6046,     0.60561,     0.60661,     0.60761,     0.60861,     0.60961,     0.61061,     0.61161,     0.61261,     0.61361,     0.61461,     0.61562,     0.61662,     0.61762,     0.61862,     0.61962,     0.62062,     0.62162,     0.62262,     0.62362,\n",
      "           0.62462,     0.62563,     0.62663,     0.62763,     0.62863,     0.62963,     0.63063,     0.63163,     0.63263,     0.63363,     0.63463,     0.63564,     0.63664,     0.63764,     0.63864,     0.63964,     0.64064,     0.64164,     0.64264,     0.64364,     0.64464,     0.64565,     0.64665,     0.64765,\n",
      "           0.64865,     0.64965,     0.65065,     0.65165,     0.65265,     0.65365,     0.65465,     0.65566,     0.65666,     0.65766,     0.65866,     0.65966,     0.66066,     0.66166,     0.66266,     0.66366,     0.66466,     0.66567,     0.66667,     0.66767,     0.66867,     0.66967,     0.67067,     0.67167,\n",
      "           0.67267,     0.67367,     0.67467,     0.67568,     0.67668,     0.67768,     0.67868,     0.67968,     0.68068,     0.68168,     0.68268,     0.68368,     0.68468,     0.68569,     0.68669,     0.68769,     0.68869,     0.68969,     0.69069,     0.69169,     0.69269,     0.69369,     0.69469,      0.6957,\n",
      "            0.6967,      0.6977,      0.6987,      0.6997,      0.7007,      0.7017,      0.7027,      0.7037,      0.7047,     0.70571,     0.70671,     0.70771,     0.70871,     0.70971,     0.71071,     0.71171,     0.71271,     0.71371,     0.71471,     0.71572,     0.71672,     0.71772,     0.71872,     0.71972,\n",
      "           0.72072,     0.72172,     0.72272,     0.72372,     0.72472,     0.72573,     0.72673,     0.72773,     0.72873,     0.72973,     0.73073,     0.73173,     0.73273,     0.73373,     0.73473,     0.73574,     0.73674,     0.73774,     0.73874,     0.73974,     0.74074,     0.74174,     0.74274,     0.74374,\n",
      "           0.74474,     0.74575,     0.74675,     0.74775,     0.74875,     0.74975,     0.75075,     0.75175,     0.75275,     0.75375,     0.75475,     0.75576,     0.75676,     0.75776,     0.75876,     0.75976,     0.76076,     0.76176,     0.76276,     0.76376,     0.76476,     0.76577,     0.76677,     0.76777,\n",
      "           0.76877,     0.76977,     0.77077,     0.77177,     0.77277,     0.77377,     0.77477,     0.77578,     0.77678,     0.77778,     0.77878,     0.77978,     0.78078,     0.78178,     0.78278,     0.78378,     0.78478,     0.78579,     0.78679,     0.78779,     0.78879,     0.78979,     0.79079,     0.79179,\n",
      "           0.79279,     0.79379,     0.79479,      0.7958,      0.7968,      0.7978,      0.7988,      0.7998,      0.8008,      0.8018,      0.8028,      0.8038,      0.8048,     0.80581,     0.80681,     0.80781,     0.80881,     0.80981,     0.81081,     0.81181,     0.81281,     0.81381,     0.81481,     0.81582,\n",
      "           0.81682,     0.81782,     0.81882,     0.81982,     0.82082,     0.82182,     0.82282,     0.82382,     0.82482,     0.82583,     0.82683,     0.82783,     0.82883,     0.82983,     0.83083,     0.83183,     0.83283,     0.83383,     0.83483,     0.83584,     0.83684,     0.83784,     0.83884,     0.83984,\n",
      "           0.84084,     0.84184,     0.84284,     0.84384,     0.84484,     0.84585,     0.84685,     0.84785,     0.84885,     0.84985,     0.85085,     0.85185,     0.85285,     0.85385,     0.85485,     0.85586,     0.85686,     0.85786,     0.85886,     0.85986,     0.86086,     0.86186,     0.86286,     0.86386,\n",
      "           0.86486,     0.86587,     0.86687,     0.86787,     0.86887,     0.86987,     0.87087,     0.87187,     0.87287,     0.87387,     0.87487,     0.87588,     0.87688,     0.87788,     0.87888,     0.87988,     0.88088,     0.88188,     0.88288,     0.88388,     0.88488,     0.88589,     0.88689,     0.88789,\n",
      "           0.88889,     0.88989,     0.89089,     0.89189,     0.89289,     0.89389,     0.89489,      0.8959,      0.8969,      0.8979,      0.8989,      0.8999,      0.9009,      0.9019,      0.9029,      0.9039,      0.9049,     0.90591,     0.90691,     0.90791,     0.90891,     0.90991,     0.91091,     0.91191,\n",
      "           0.91291,     0.91391,     0.91491,     0.91592,     0.91692,     0.91792,     0.91892,     0.91992,     0.92092,     0.92192,     0.92292,     0.92392,     0.92492,     0.92593,     0.92693,     0.92793,     0.92893,     0.92993,     0.93093,     0.93193,     0.93293,     0.93393,     0.93493,     0.93594,\n",
      "           0.93694,     0.93794,     0.93894,     0.93994,     0.94094,     0.94194,     0.94294,     0.94394,     0.94494,     0.94595,     0.94695,     0.94795,     0.94895,     0.94995,     0.95095,     0.95195,     0.95295,     0.95395,     0.95495,     0.95596,     0.95696,     0.95796,     0.95896,     0.95996,\n",
      "           0.96096,     0.96196,     0.96296,     0.96396,     0.96496,     0.96597,     0.96697,     0.96797,     0.96897,     0.96997,     0.97097,     0.97197,     0.97297,     0.97397,     0.97497,     0.97598,     0.97698,     0.97798,     0.97898,     0.97998,     0.98098,     0.98198,     0.98298,     0.98398,\n",
      "           0.98498,     0.98599,     0.98699,     0.98799,     0.98899,     0.98999,     0.99099,     0.99199,     0.99299,     0.99399,     0.99499,       0.996,       0.997,       0.998,       0.999,           1]), array([[    0.52838,     0.52838,     0.63647,     0.69407,     0.73468,     0.75668,     0.76916,     0.79023,     0.79718,     0.80602,     0.81636,     0.82391,     0.83009,     0.83475,     0.84045,     0.84417,     0.85192,     0.85364,     0.86338,     0.86605,     0.86749,     0.86887,     0.87542,\n",
      "             0.8809,     0.88205,      0.8859,     0.88929,     0.89068,     0.89153,     0.89239,     0.89323,     0.89406,      0.8949,     0.89576,     0.89662,     0.89751,     0.89841,     0.90505,     0.90623,     0.90742,     0.90896,     0.91059,     0.91174,     0.91236,     0.91299,     0.91371,\n",
      "            0.91522,     0.91649,     0.91764,      0.9188,     0.91995,     0.92021,     0.92044,     0.92066,     0.92089,     0.92111,     0.92133,     0.92156,     0.92178,       0.922,      0.9223,     0.92281,     0.92331,     0.92382,     0.92433,     0.92531,     0.92632,     0.92774,     0.92886,\n",
      "             0.9292,     0.92953,     0.92987,     0.93021,     0.93054,     0.93088,     0.93333,      0.9336,     0.93387,     0.93414,     0.93441,     0.93468,     0.93495,     0.93522,     0.93545,     0.93558,     0.93572,     0.93585,     0.93599,     0.93613,     0.93626,      0.9364,     0.93653,\n",
      "            0.93667,      0.9368,     0.93694,     0.93707,     0.93721,     0.93735,     0.93748,     0.93762,     0.93839,     0.93935,     0.93995,     0.94005,     0.94016,     0.94026,     0.94036,     0.94047,     0.94057,     0.94067,     0.94078,     0.94088,     0.94099,     0.94109,     0.94119,\n",
      "             0.9413,      0.9414,      0.9415,     0.94161,     0.94171,     0.94182,     0.94192,     0.94202,     0.94213,     0.94237,     0.94271,     0.94305,     0.94339,     0.94373,     0.94406,      0.9444,      0.9446,     0.94477,     0.94495,     0.94512,      0.9453,     0.94547,     0.94565,\n",
      "            0.94582,       0.946,     0.94617,     0.94635,     0.94653,      0.9467,     0.94685,     0.94699,     0.94712,     0.94726,      0.9474,     0.94754,     0.94768,     0.94782,     0.94796,      0.9481,     0.94824,     0.94838,     0.94852,     0.94866,      0.9488,     0.94894,     0.94925,\n",
      "             0.9499,     0.95054,     0.95119,     0.95169,     0.95215,     0.95261,     0.95307,     0.95353,     0.95401,     0.95449,     0.95498,     0.95547,     0.95595,     0.95633,      0.9567,     0.95708,     0.95745,     0.95782,     0.95819,     0.95839,     0.95848,     0.95858,     0.95867,\n",
      "            0.95876,     0.95885,     0.95895,     0.95904,     0.95913,     0.95923,     0.95932,     0.95941,      0.9595,      0.9596,     0.95969,     0.95978,     0.95987,     0.95997,     0.96006,     0.96015,     0.96025,     0.96034,     0.96043,     0.96052,     0.96062,     0.96075,     0.96102,\n",
      "            0.96128,     0.96155,     0.96181,     0.96208,     0.96235,     0.96261,     0.96288,     0.96307,     0.96313,     0.96319,     0.96324,      0.9633,     0.96336,     0.96341,     0.96347,     0.96353,     0.96358,     0.96364,      0.9637,     0.96375,     0.96381,     0.96387,     0.96392,\n",
      "            0.96398,     0.96404,     0.96409,     0.96415,     0.96421,     0.96426,     0.96432,     0.96438,     0.96443,     0.96449,     0.96455,      0.9646,     0.96466,     0.96472,     0.96478,     0.96483,     0.96489,     0.96495,       0.965,     0.96506,     0.96512,     0.96517,     0.96523,\n",
      "            0.96529,     0.96534,      0.9654,     0.96545,     0.96549,     0.96553,     0.96557,     0.96561,     0.96565,     0.96569,     0.96573,     0.96577,      0.9658,     0.96584,     0.96588,     0.96592,     0.96596,       0.966,     0.96604,     0.96608,     0.96612,     0.96616,      0.9662,\n",
      "            0.96624,     0.96628,     0.96632,     0.96636,      0.9664,     0.96644,     0.96648,     0.96652,     0.96656,      0.9666,     0.96664,     0.96667,     0.96671,     0.96675,     0.96679,     0.96683,     0.96687,     0.96691,     0.96695,     0.96699,     0.96703,     0.96707,     0.96711,\n",
      "            0.96715,     0.96719,     0.96723,     0.96727,     0.96731,     0.96735,     0.96739,     0.96743,     0.96747,     0.96751,     0.96755,     0.96758,     0.96762,     0.96766,      0.9677,     0.96774,     0.96778,     0.96782,     0.96824,     0.96865,     0.96906,     0.96947,     0.96988,\n",
      "            0.97022,     0.97021,     0.97019,     0.97018,     0.97017,     0.97015,     0.97019,     0.97025,      0.9703,     0.97036,     0.97041,     0.97046,     0.97052,     0.97057,     0.97062,     0.97068,     0.97073,     0.97079,     0.97084,     0.97089,     0.97095,       0.971,     0.97106,\n",
      "            0.97111,     0.97116,     0.97122,     0.97127,     0.97133,     0.97138,     0.97143,     0.97149,     0.97154,     0.97159,     0.97165,      0.9717,     0.97176,     0.97181,     0.97186,     0.97192,     0.97197,     0.97203,     0.97208,     0.97213,     0.97219,     0.97224,      0.9723,\n",
      "            0.97235,      0.9724,     0.97246,     0.97251,     0.97256,     0.97257,     0.97257,     0.97257,     0.97256,     0.97256,     0.97256,     0.97256,     0.97256,     0.97256,     0.97256,     0.97256,     0.97256,     0.97256,     0.97255,     0.97255,     0.97255,     0.97255,     0.97255,\n",
      "            0.97255,     0.97255,     0.97255,     0.97255,     0.97255,     0.97254,     0.97254,     0.97254,     0.97254,     0.97254,     0.97254,     0.97254,     0.97254,     0.97254,     0.97254,     0.97253,     0.97253,     0.97253,     0.97253,     0.97253,     0.97253,     0.97253,     0.97253,\n",
      "            0.97253,     0.97253,     0.97252,     0.97252,     0.97252,     0.97252,     0.97252,     0.97252,     0.97252,     0.97252,     0.97252,     0.97252,     0.97252,     0.97251,     0.97251,     0.97251,     0.97251,     0.97251,     0.97251,     0.97251,     0.97251,     0.97251,     0.97251,\n",
      "             0.9725,      0.9725,      0.9725,      0.9725,      0.9725,     0.97252,     0.97255,     0.97258,     0.97261,     0.97264,     0.97267,      0.9727,     0.97273,     0.97276,     0.97278,     0.97281,     0.97284,     0.97287,      0.9729,     0.97293,     0.97296,     0.97299,     0.97302,\n",
      "            0.97304,     0.97307,      0.9731,     0.97313,     0.97316,     0.97319,     0.97322,     0.97325,     0.97328,      0.9733,     0.97333,     0.97336,     0.97339,     0.97342,     0.97345,     0.97348,     0.97351,     0.97354,     0.97357,     0.97359,     0.97362,     0.97365,     0.97368,\n",
      "            0.97371,     0.97374,     0.97377,      0.9738,     0.97383,     0.97385,     0.97388,     0.97391,     0.97394,     0.97397,       0.974,     0.97403,     0.97406,     0.97409,     0.97412,     0.97414,     0.97417,      0.9742,     0.97423,     0.97426,     0.97429,     0.97432,     0.97435,\n",
      "            0.97438,      0.9744,     0.97443,     0.97446,     0.97449,     0.97452,     0.97455,     0.97458,     0.97461,     0.97464,     0.97466,     0.97469,     0.97472,     0.97475,     0.97478,     0.97481,     0.97484,     0.97487,      0.9749,     0.97493,     0.97504,     0.97521,     0.97538,\n",
      "            0.97555,     0.97572,     0.97589,     0.97606,     0.97623,      0.9764,     0.97657,     0.97674,     0.97691,     0.97708,     0.97725,      0.9774,     0.97746,     0.97752,     0.97758,     0.97765,     0.97771,     0.97777,     0.97783,     0.97789,     0.97796,     0.97802,     0.97808,\n",
      "            0.97814,      0.9782,     0.97827,     0.97833,     0.97839,     0.97845,     0.97851,     0.97858,     0.97864,      0.9787,     0.97876,     0.97882,     0.97889,     0.97895,     0.97901,     0.97907,     0.97913,      0.9792,     0.97926,     0.97932,     0.97938,     0.97944,      0.9795,\n",
      "            0.97957,     0.97963,     0.97969,     0.97975,     0.97981,     0.97985,     0.97985,     0.97985,     0.97985,     0.97984,     0.97984,     0.97984,     0.97984,     0.97984,     0.97984,     0.97984,     0.97984,     0.97984,     0.97984,     0.97984,     0.97984,     0.97983,     0.97983,\n",
      "            0.97983,     0.97983,     0.97983,     0.97983,     0.97983,     0.97983,     0.97983,     0.97983,     0.97983,     0.97982,     0.97982,     0.97982,     0.97982,     0.97982,     0.97982,     0.97982,     0.97982,     0.97982,     0.97982,     0.97982,     0.97982,     0.97981,     0.97981,\n",
      "            0.97981,     0.97981,     0.97981,     0.97981,     0.97981,     0.97981,     0.97981,     0.97981,     0.97981,      0.9798,      0.9798,      0.9798,      0.9798,      0.9798,      0.9798,      0.9798,      0.9798,     0.97981,     0.98006,     0.98031,     0.98057,     0.98082,     0.98107,\n",
      "            0.98132,     0.98157,     0.98182,     0.98208,     0.98232,     0.98256,     0.98279,     0.98302,     0.98326,     0.98349,     0.98372,     0.98395,     0.98419,     0.98442,     0.98465,     0.98531,     0.98642,      0.9873,     0.98742,     0.98753,     0.98764,     0.98775,     0.98786,\n",
      "            0.98798,     0.98809,      0.9882,     0.98831,     0.98843,     0.98854,     0.98865,     0.98876,     0.98888,     0.98899,      0.9891,     0.98921,     0.98933,     0.98944,     0.98955,     0.98966,     0.98977,     0.98979,     0.98978,     0.98977,     0.98977,     0.98976,     0.98976,\n",
      "            0.98975,     0.98975,     0.98974,     0.98974,     0.98974,     0.98974,     0.98973,     0.98973,     0.98973,     0.98973,     0.98972,     0.98972,     0.98972,     0.98972,     0.98971,      0.9897,     0.98969,     0.98968,     0.98967,     0.98966,     0.98966,     0.98965,     0.98964,\n",
      "            0.98964,     0.98983,     0.99005,     0.99027,     0.99049,     0.99071,     0.99092,     0.99114,     0.99136,     0.99158,     0.99179,     0.99201,     0.99221,      0.9922,      0.9922,      0.9922,     0.99219,     0.99219,     0.99217,     0.99216,     0.99216,     0.99215,     0.99215,\n",
      "            0.99214,     0.99213,      0.9921,     0.99209,     0.99208,     0.99207,     0.99206,     0.99204,     0.99203,     0.99197,     0.99196,      0.9919,     0.99189,     0.99188,     0.99187,     0.99183,      0.9918,     0.99177,     0.99176,      0.9917,     0.99443,     0.99441,     0.99438,\n",
      "            0.99436,     0.99435,     0.99433,      0.9943,     0.99426,      0.9942,     0.99419,     0.99458,     0.99703,     0.99702,     0.99699,     0.99698,     0.99697,     0.99694,     0.99693,     0.99693,     0.99692,      0.9969,     0.99685,     0.99675,      0.9967,     0.99667,     0.99666,\n",
      "            0.99664,      0.9966,     0.99655,           1,           1,           1,           1,           1,           1,           1,           1,           1,           1,           1,           1,           1,           1,           1,           1,           1,           1,           1,           1,\n",
      "                  1,           1,           1,           1,           1,           1,           1,           1,           1,           1,           1,           1,           1,           1,           1,           1,           1,           1,           1,           1,           1,           1,           1,\n",
      "                  1,           1,           1,           1,           1,           1,           1,           1,           1,           1,           1,           1,           1,           1,           1,           1,           1,           1,           1,           1,           1,           1,           1,\n",
      "                  1,           1,           1,           1,           1,           1,           1,           1,           1,           1,           1,           1,           1,           1,           1,           1,           1,           1,           1,           1,           1,           1,           1,\n",
      "                  1,           1,           1,           1,           1,           1,           1,           1,           1,           1,           1,           1,           1,           1,           1,           1,           1,           1,           1,           1,           1,           1,           1,\n",
      "                  1,           1,           1,           1,           1,           1,           1,           1,           1,           1,           1,           1,           1,           1,           1,           1,           1,           1,           1,           1,           1,           1,           1,\n",
      "                  1,           1,           1,           1,           1,           1,           1,           1,           1,           1,           1,           1,           1,           1,           1,           1,           1,           1,           1,           1,           1,           1,           1,\n",
      "                  1,           1,           1,           1,           1,           1,           1,           1,           1,           1,           1,           1,           1,           1,           1,           1,           1,           1,           1,           1,           1,           1,           1,\n",
      "                  1,           1,           1,           1,           1,           1,           1,           1,           1,           1,           1,           1,           1,           1,           1,           1,           1,           1,           1,           1,           1,           1,           1,\n",
      "                  1,           1,           1,           1,           1,           1,           1,           1,           1,           1,           1]]), 'Confidence', 'Precision'], [array([          0,    0.001001,    0.002002,    0.003003,    0.004004,    0.005005,    0.006006,    0.007007,    0.008008,    0.009009,     0.01001,    0.011011,    0.012012,    0.013013,    0.014014,    0.015015,    0.016016,    0.017017,    0.018018,    0.019019,     0.02002,    0.021021,    0.022022,    0.023023,\n",
      "          0.024024,    0.025025,    0.026026,    0.027027,    0.028028,    0.029029,     0.03003,    0.031031,    0.032032,    0.033033,    0.034034,    0.035035,    0.036036,    0.037037,    0.038038,    0.039039,     0.04004,    0.041041,    0.042042,    0.043043,    0.044044,    0.045045,    0.046046,    0.047047,\n",
      "          0.048048,    0.049049,     0.05005,    0.051051,    0.052052,    0.053053,    0.054054,    0.055055,    0.056056,    0.057057,    0.058058,    0.059059,     0.06006,    0.061061,    0.062062,    0.063063,    0.064064,    0.065065,    0.066066,    0.067067,    0.068068,    0.069069,     0.07007,    0.071071,\n",
      "          0.072072,    0.073073,    0.074074,    0.075075,    0.076076,    0.077077,    0.078078,    0.079079,     0.08008,    0.081081,    0.082082,    0.083083,    0.084084,    0.085085,    0.086086,    0.087087,    0.088088,    0.089089,     0.09009,    0.091091,    0.092092,    0.093093,    0.094094,    0.095095,\n",
      "          0.096096,    0.097097,    0.098098,    0.099099,      0.1001,      0.1011,      0.1021,      0.1031,      0.1041,     0.10511,     0.10611,     0.10711,     0.10811,     0.10911,     0.11011,     0.11111,     0.11211,     0.11311,     0.11411,     0.11512,     0.11612,     0.11712,     0.11812,     0.11912,\n",
      "           0.12012,     0.12112,     0.12212,     0.12312,     0.12412,     0.12513,     0.12613,     0.12713,     0.12813,     0.12913,     0.13013,     0.13113,     0.13213,     0.13313,     0.13413,     0.13514,     0.13614,     0.13714,     0.13814,     0.13914,     0.14014,     0.14114,     0.14214,     0.14314,\n",
      "           0.14414,     0.14515,     0.14615,     0.14715,     0.14815,     0.14915,     0.15015,     0.15115,     0.15215,     0.15315,     0.15415,     0.15516,     0.15616,     0.15716,     0.15816,     0.15916,     0.16016,     0.16116,     0.16216,     0.16316,     0.16416,     0.16517,     0.16617,     0.16717,\n",
      "           0.16817,     0.16917,     0.17017,     0.17117,     0.17217,     0.17317,     0.17417,     0.17518,     0.17618,     0.17718,     0.17818,     0.17918,     0.18018,     0.18118,     0.18218,     0.18318,     0.18418,     0.18519,     0.18619,     0.18719,     0.18819,     0.18919,     0.19019,     0.19119,\n",
      "           0.19219,     0.19319,     0.19419,      0.1952,      0.1962,      0.1972,      0.1982,      0.1992,      0.2002,      0.2012,      0.2022,      0.2032,      0.2042,     0.20521,     0.20621,     0.20721,     0.20821,     0.20921,     0.21021,     0.21121,     0.21221,     0.21321,     0.21421,     0.21522,\n",
      "           0.21622,     0.21722,     0.21822,     0.21922,     0.22022,     0.22122,     0.22222,     0.22322,     0.22422,     0.22523,     0.22623,     0.22723,     0.22823,     0.22923,     0.23023,     0.23123,     0.23223,     0.23323,     0.23423,     0.23524,     0.23624,     0.23724,     0.23824,     0.23924,\n",
      "           0.24024,     0.24124,     0.24224,     0.24324,     0.24424,     0.24525,     0.24625,     0.24725,     0.24825,     0.24925,     0.25025,     0.25125,     0.25225,     0.25325,     0.25425,     0.25526,     0.25626,     0.25726,     0.25826,     0.25926,     0.26026,     0.26126,     0.26226,     0.26326,\n",
      "           0.26426,     0.26527,     0.26627,     0.26727,     0.26827,     0.26927,     0.27027,     0.27127,     0.27227,     0.27327,     0.27427,     0.27528,     0.27628,     0.27728,     0.27828,     0.27928,     0.28028,     0.28128,     0.28228,     0.28328,     0.28428,     0.28529,     0.28629,     0.28729,\n",
      "           0.28829,     0.28929,     0.29029,     0.29129,     0.29229,     0.29329,     0.29429,      0.2953,      0.2963,      0.2973,      0.2983,      0.2993,      0.3003,      0.3013,      0.3023,      0.3033,      0.3043,     0.30531,     0.30631,     0.30731,     0.30831,     0.30931,     0.31031,     0.31131,\n",
      "           0.31231,     0.31331,     0.31431,     0.31532,     0.31632,     0.31732,     0.31832,     0.31932,     0.32032,     0.32132,     0.32232,     0.32332,     0.32432,     0.32533,     0.32633,     0.32733,     0.32833,     0.32933,     0.33033,     0.33133,     0.33233,     0.33333,     0.33433,     0.33534,\n",
      "           0.33634,     0.33734,     0.33834,     0.33934,     0.34034,     0.34134,     0.34234,     0.34334,     0.34434,     0.34535,     0.34635,     0.34735,     0.34835,     0.34935,     0.35035,     0.35135,     0.35235,     0.35335,     0.35435,     0.35536,     0.35636,     0.35736,     0.35836,     0.35936,\n",
      "           0.36036,     0.36136,     0.36236,     0.36336,     0.36436,     0.36537,     0.36637,     0.36737,     0.36837,     0.36937,     0.37037,     0.37137,     0.37237,     0.37337,     0.37437,     0.37538,     0.37638,     0.37738,     0.37838,     0.37938,     0.38038,     0.38138,     0.38238,     0.38338,\n",
      "           0.38438,     0.38539,     0.38639,     0.38739,     0.38839,     0.38939,     0.39039,     0.39139,     0.39239,     0.39339,     0.39439,      0.3954,      0.3964,      0.3974,      0.3984,      0.3994,      0.4004,      0.4014,      0.4024,      0.4034,      0.4044,     0.40541,     0.40641,     0.40741,\n",
      "           0.40841,     0.40941,     0.41041,     0.41141,     0.41241,     0.41341,     0.41441,     0.41542,     0.41642,     0.41742,     0.41842,     0.41942,     0.42042,     0.42142,     0.42242,     0.42342,     0.42442,     0.42543,     0.42643,     0.42743,     0.42843,     0.42943,     0.43043,     0.43143,\n",
      "           0.43243,     0.43343,     0.43443,     0.43544,     0.43644,     0.43744,     0.43844,     0.43944,     0.44044,     0.44144,     0.44244,     0.44344,     0.44444,     0.44545,     0.44645,     0.44745,     0.44845,     0.44945,     0.45045,     0.45145,     0.45245,     0.45345,     0.45445,     0.45546,\n",
      "           0.45646,     0.45746,     0.45846,     0.45946,     0.46046,     0.46146,     0.46246,     0.46346,     0.46446,     0.46547,     0.46647,     0.46747,     0.46847,     0.46947,     0.47047,     0.47147,     0.47247,     0.47347,     0.47447,     0.47548,     0.47648,     0.47748,     0.47848,     0.47948,\n",
      "           0.48048,     0.48148,     0.48248,     0.48348,     0.48448,     0.48549,     0.48649,     0.48749,     0.48849,     0.48949,     0.49049,     0.49149,     0.49249,     0.49349,     0.49449,      0.4955,      0.4965,      0.4975,      0.4985,      0.4995,      0.5005,      0.5015,      0.5025,      0.5035,\n",
      "            0.5045,     0.50551,     0.50651,     0.50751,     0.50851,     0.50951,     0.51051,     0.51151,     0.51251,     0.51351,     0.51451,     0.51552,     0.51652,     0.51752,     0.51852,     0.51952,     0.52052,     0.52152,     0.52252,     0.52352,     0.52452,     0.52553,     0.52653,     0.52753,\n",
      "           0.52853,     0.52953,     0.53053,     0.53153,     0.53253,     0.53353,     0.53453,     0.53554,     0.53654,     0.53754,     0.53854,     0.53954,     0.54054,     0.54154,     0.54254,     0.54354,     0.54454,     0.54555,     0.54655,     0.54755,     0.54855,     0.54955,     0.55055,     0.55155,\n",
      "           0.55255,     0.55355,     0.55455,     0.55556,     0.55656,     0.55756,     0.55856,     0.55956,     0.56056,     0.56156,     0.56256,     0.56356,     0.56456,     0.56557,     0.56657,     0.56757,     0.56857,     0.56957,     0.57057,     0.57157,     0.57257,     0.57357,     0.57457,     0.57558,\n",
      "           0.57658,     0.57758,     0.57858,     0.57958,     0.58058,     0.58158,     0.58258,     0.58358,     0.58458,     0.58559,     0.58659,     0.58759,     0.58859,     0.58959,     0.59059,     0.59159,     0.59259,     0.59359,     0.59459,      0.5956,      0.5966,      0.5976,      0.5986,      0.5996,\n",
      "            0.6006,      0.6016,      0.6026,      0.6036,      0.6046,     0.60561,     0.60661,     0.60761,     0.60861,     0.60961,     0.61061,     0.61161,     0.61261,     0.61361,     0.61461,     0.61562,     0.61662,     0.61762,     0.61862,     0.61962,     0.62062,     0.62162,     0.62262,     0.62362,\n",
      "           0.62462,     0.62563,     0.62663,     0.62763,     0.62863,     0.62963,     0.63063,     0.63163,     0.63263,     0.63363,     0.63463,     0.63564,     0.63664,     0.63764,     0.63864,     0.63964,     0.64064,     0.64164,     0.64264,     0.64364,     0.64464,     0.64565,     0.64665,     0.64765,\n",
      "           0.64865,     0.64965,     0.65065,     0.65165,     0.65265,     0.65365,     0.65465,     0.65566,     0.65666,     0.65766,     0.65866,     0.65966,     0.66066,     0.66166,     0.66266,     0.66366,     0.66466,     0.66567,     0.66667,     0.66767,     0.66867,     0.66967,     0.67067,     0.67167,\n",
      "           0.67267,     0.67367,     0.67467,     0.67568,     0.67668,     0.67768,     0.67868,     0.67968,     0.68068,     0.68168,     0.68268,     0.68368,     0.68468,     0.68569,     0.68669,     0.68769,     0.68869,     0.68969,     0.69069,     0.69169,     0.69269,     0.69369,     0.69469,      0.6957,\n",
      "            0.6967,      0.6977,      0.6987,      0.6997,      0.7007,      0.7017,      0.7027,      0.7037,      0.7047,     0.70571,     0.70671,     0.70771,     0.70871,     0.70971,     0.71071,     0.71171,     0.71271,     0.71371,     0.71471,     0.71572,     0.71672,     0.71772,     0.71872,     0.71972,\n",
      "           0.72072,     0.72172,     0.72272,     0.72372,     0.72472,     0.72573,     0.72673,     0.72773,     0.72873,     0.72973,     0.73073,     0.73173,     0.73273,     0.73373,     0.73473,     0.73574,     0.73674,     0.73774,     0.73874,     0.73974,     0.74074,     0.74174,     0.74274,     0.74374,\n",
      "           0.74474,     0.74575,     0.74675,     0.74775,     0.74875,     0.74975,     0.75075,     0.75175,     0.75275,     0.75375,     0.75475,     0.75576,     0.75676,     0.75776,     0.75876,     0.75976,     0.76076,     0.76176,     0.76276,     0.76376,     0.76476,     0.76577,     0.76677,     0.76777,\n",
      "           0.76877,     0.76977,     0.77077,     0.77177,     0.77277,     0.77377,     0.77477,     0.77578,     0.77678,     0.77778,     0.77878,     0.77978,     0.78078,     0.78178,     0.78278,     0.78378,     0.78478,     0.78579,     0.78679,     0.78779,     0.78879,     0.78979,     0.79079,     0.79179,\n",
      "           0.79279,     0.79379,     0.79479,      0.7958,      0.7968,      0.7978,      0.7988,      0.7998,      0.8008,      0.8018,      0.8028,      0.8038,      0.8048,     0.80581,     0.80681,     0.80781,     0.80881,     0.80981,     0.81081,     0.81181,     0.81281,     0.81381,     0.81481,     0.81582,\n",
      "           0.81682,     0.81782,     0.81882,     0.81982,     0.82082,     0.82182,     0.82282,     0.82382,     0.82482,     0.82583,     0.82683,     0.82783,     0.82883,     0.82983,     0.83083,     0.83183,     0.83283,     0.83383,     0.83483,     0.83584,     0.83684,     0.83784,     0.83884,     0.83984,\n",
      "           0.84084,     0.84184,     0.84284,     0.84384,     0.84484,     0.84585,     0.84685,     0.84785,     0.84885,     0.84985,     0.85085,     0.85185,     0.85285,     0.85385,     0.85485,     0.85586,     0.85686,     0.85786,     0.85886,     0.85986,     0.86086,     0.86186,     0.86286,     0.86386,\n",
      "           0.86486,     0.86587,     0.86687,     0.86787,     0.86887,     0.86987,     0.87087,     0.87187,     0.87287,     0.87387,     0.87487,     0.87588,     0.87688,     0.87788,     0.87888,     0.87988,     0.88088,     0.88188,     0.88288,     0.88388,     0.88488,     0.88589,     0.88689,     0.88789,\n",
      "           0.88889,     0.88989,     0.89089,     0.89189,     0.89289,     0.89389,     0.89489,      0.8959,      0.8969,      0.8979,      0.8989,      0.8999,      0.9009,      0.9019,      0.9029,      0.9039,      0.9049,     0.90591,     0.90691,     0.90791,     0.90891,     0.90991,     0.91091,     0.91191,\n",
      "           0.91291,     0.91391,     0.91491,     0.91592,     0.91692,     0.91792,     0.91892,     0.91992,     0.92092,     0.92192,     0.92292,     0.92392,     0.92492,     0.92593,     0.92693,     0.92793,     0.92893,     0.92993,     0.93093,     0.93193,     0.93293,     0.93393,     0.93493,     0.93594,\n",
      "           0.93694,     0.93794,     0.93894,     0.93994,     0.94094,     0.94194,     0.94294,     0.94394,     0.94494,     0.94595,     0.94695,     0.94795,     0.94895,     0.94995,     0.95095,     0.95195,     0.95295,     0.95395,     0.95495,     0.95596,     0.95696,     0.95796,     0.95896,     0.95996,\n",
      "           0.96096,     0.96196,     0.96296,     0.96396,     0.96496,     0.96597,     0.96697,     0.96797,     0.96897,     0.96997,     0.97097,     0.97197,     0.97297,     0.97397,     0.97497,     0.97598,     0.97698,     0.97798,     0.97898,     0.97998,     0.98098,     0.98198,     0.98298,     0.98398,\n",
      "           0.98498,     0.98599,     0.98699,     0.98799,     0.98899,     0.98999,     0.99099,     0.99199,     0.99299,     0.99399,     0.99499,       0.996,       0.997,       0.998,       0.999,           1]), array([[    0.99239,     0.99239,     0.99239,     0.99239,     0.99239,     0.99239,     0.99239,     0.99239,     0.99239,     0.99239,     0.99239,     0.99239,     0.99239,     0.99239,     0.99239,     0.99239,     0.99239,     0.99239,     0.99239,     0.99239,     0.99239,     0.99239,     0.99239,\n",
      "            0.99239,     0.99239,     0.99239,     0.99239,     0.99239,     0.99239,     0.99239,     0.99239,     0.99239,     0.99239,     0.99239,     0.99239,     0.99239,     0.99239,     0.99239,     0.99239,     0.99239,     0.99239,     0.99239,     0.99239,     0.99239,     0.99239,     0.99239,\n",
      "            0.99239,     0.99239,     0.99239,     0.99239,     0.99239,     0.99239,     0.99239,     0.99239,     0.99239,     0.99239,     0.99239,     0.99239,     0.99239,     0.99239,     0.99239,     0.99239,     0.99239,     0.99239,     0.99239,     0.99239,     0.99239,     0.99239,     0.99239,\n",
      "            0.99239,     0.99239,     0.99239,     0.99239,     0.99239,     0.99239,     0.99239,     0.99239,     0.99239,     0.99239,     0.99239,     0.99239,     0.99239,     0.99239,     0.99239,     0.99239,     0.99239,     0.99239,     0.99239,     0.99239,     0.99239,     0.99239,     0.99239,\n",
      "            0.99239,     0.99239,     0.99239,     0.99239,     0.99239,     0.99239,     0.99239,     0.99239,     0.99239,     0.99239,     0.99239,     0.99239,     0.99239,     0.99239,     0.99239,     0.99239,     0.99239,     0.99239,     0.99239,     0.99239,     0.99239,     0.99239,     0.99239,\n",
      "            0.99239,     0.99239,     0.99239,     0.99239,     0.99239,     0.99239,     0.99239,     0.99239,     0.99239,     0.99239,     0.99239,     0.99239,     0.99239,     0.99239,     0.99239,     0.99239,     0.99239,     0.99239,     0.99239,     0.99239,     0.99239,     0.99239,     0.99239,\n",
      "            0.99239,     0.99239,     0.99239,     0.99239,     0.99239,     0.99239,     0.99239,     0.99239,     0.99239,     0.99239,     0.99239,     0.99239,     0.99239,     0.99239,     0.99239,     0.99239,     0.99239,     0.99239,     0.99239,     0.99239,     0.99239,     0.99239,     0.99239,\n",
      "            0.99239,     0.99239,     0.99239,     0.99239,     0.99239,     0.99239,     0.99239,     0.99239,     0.99239,     0.99239,     0.99239,     0.99239,     0.99239,     0.99239,     0.99239,     0.99239,     0.99239,     0.99239,     0.99239,     0.99239,     0.99239,     0.99239,     0.99239,\n",
      "            0.99239,     0.99239,     0.99239,     0.99239,     0.99239,     0.99239,     0.99239,     0.99239,     0.99239,     0.99239,     0.99239,     0.99239,     0.99239,     0.99239,     0.99239,     0.99239,     0.99239,     0.99239,     0.99239,     0.99239,     0.99239,     0.99239,     0.99239,\n",
      "            0.99239,     0.99239,     0.99239,     0.99239,     0.99239,     0.99239,     0.99239,     0.99239,     0.99239,     0.99239,     0.99239,     0.99239,     0.99239,     0.99239,     0.99239,     0.99239,     0.99239,     0.99239,     0.99239,     0.99239,     0.99239,     0.99239,     0.99239,\n",
      "            0.99239,     0.99239,     0.99239,     0.99239,     0.99239,     0.99239,     0.99239,     0.99239,     0.99239,     0.99239,     0.99239,     0.99239,     0.99239,     0.99239,     0.99239,     0.99239,     0.99239,     0.99239,     0.99239,     0.99239,     0.99239,     0.99239,     0.99239,\n",
      "            0.99239,     0.99239,     0.99239,     0.99239,     0.99239,     0.99239,     0.99239,     0.99239,     0.99239,     0.99239,     0.99239,     0.99239,     0.99239,     0.99239,     0.99239,     0.99239,     0.99239,     0.99239,     0.99239,     0.99239,     0.99239,     0.99239,     0.99239,\n",
      "            0.99239,     0.99239,     0.99239,     0.99239,     0.99239,     0.99239,     0.99239,     0.99239,     0.99239,     0.99239,     0.99239,     0.99239,     0.99239,     0.99239,     0.99239,     0.99239,     0.99239,     0.99239,     0.99239,     0.99239,     0.99239,     0.99239,     0.99239,\n",
      "            0.99239,     0.99239,     0.99239,     0.99239,     0.99239,     0.99239,     0.99239,     0.99239,     0.99239,     0.99239,     0.99239,     0.99239,     0.99239,     0.99239,     0.99239,     0.99239,     0.99239,     0.99239,     0.99239,     0.99239,     0.99239,     0.99239,     0.99239,\n",
      "             0.9923,     0.99183,     0.99135,     0.99088,      0.9904,     0.98993,     0.98985,     0.98985,     0.98985,     0.98985,     0.98985,     0.98985,     0.98985,     0.98985,     0.98985,     0.98985,     0.98985,     0.98985,     0.98985,     0.98985,     0.98985,     0.98985,     0.98985,\n",
      "            0.98985,     0.98985,     0.98985,     0.98985,     0.98985,     0.98985,     0.98985,     0.98985,     0.98985,     0.98985,     0.98985,     0.98985,     0.98985,     0.98985,     0.98985,     0.98985,     0.98985,     0.98985,     0.98985,     0.98985,     0.98985,     0.98985,     0.98985,\n",
      "            0.98985,     0.98985,     0.98985,     0.98985,     0.98985,     0.98981,     0.98978,     0.98974,      0.9897,     0.98967,     0.98963,     0.98959,     0.98956,     0.98952,     0.98948,     0.98945,     0.98941,     0.98937,     0.98934,      0.9893,     0.98926,     0.98923,     0.98919,\n",
      "            0.98915,     0.98912,     0.98908,     0.98904,     0.98901,     0.98897,     0.98893,      0.9889,     0.98886,     0.98882,     0.98879,     0.98875,     0.98871,     0.98868,     0.98864,      0.9886,     0.98856,     0.98853,     0.98849,     0.98845,     0.98842,     0.98838,     0.98834,\n",
      "            0.98831,     0.98827,     0.98823,      0.9882,     0.98816,     0.98812,     0.98809,     0.98805,     0.98801,     0.98798,     0.98794,      0.9879,     0.98787,     0.98783,     0.98779,     0.98776,     0.98772,     0.98768,     0.98765,     0.98761,     0.98757,     0.98754,      0.9875,\n",
      "            0.98746,     0.98743,     0.98739,     0.98735,     0.98732,     0.98731,     0.98731,     0.98731,     0.98731,     0.98731,     0.98731,     0.98731,     0.98731,     0.98731,     0.98731,     0.98731,     0.98731,     0.98731,     0.98731,     0.98731,     0.98731,     0.98731,     0.98731,\n",
      "            0.98731,     0.98731,     0.98731,     0.98731,     0.98731,     0.98731,     0.98731,     0.98731,     0.98731,     0.98731,     0.98731,     0.98731,     0.98731,     0.98731,     0.98731,     0.98731,     0.98731,     0.98731,     0.98731,     0.98731,     0.98731,     0.98731,     0.98731,\n",
      "            0.98731,     0.98731,     0.98731,     0.98731,     0.98731,     0.98731,     0.98731,     0.98731,     0.98731,     0.98731,     0.98731,     0.98731,     0.98731,     0.98731,     0.98731,     0.98731,     0.98731,     0.98731,     0.98731,     0.98731,     0.98731,     0.98731,     0.98731,\n",
      "            0.98731,     0.98731,     0.98731,     0.98731,     0.98731,     0.98731,     0.98731,     0.98731,     0.98731,     0.98731,     0.98731,     0.98731,     0.98731,     0.98731,     0.98731,     0.98731,     0.98731,     0.98731,     0.98731,     0.98731,     0.98731,     0.98731,     0.98731,\n",
      "            0.98731,     0.98731,     0.98731,     0.98731,     0.98731,     0.98731,     0.98731,     0.98731,     0.98731,     0.98731,     0.98731,     0.98731,     0.98731,     0.98731,     0.98731,     0.98731,     0.98731,     0.98731,     0.98731,     0.98731,     0.98731,     0.98731,     0.98731,\n",
      "            0.98731,     0.98731,     0.98731,     0.98731,     0.98731,     0.98731,     0.98731,     0.98731,     0.98731,     0.98731,     0.98731,     0.98731,     0.98731,     0.98731,     0.98731,     0.98731,     0.98731,     0.98731,     0.98731,     0.98731,     0.98731,     0.98731,     0.98731,\n",
      "            0.98731,     0.98731,     0.98731,     0.98731,     0.98731,     0.98729,     0.98725,      0.9872,     0.98716,     0.98712,     0.98707,     0.98703,     0.98699,     0.98694,      0.9869,     0.98686,     0.98681,     0.98677,     0.98673,     0.98668,     0.98664,     0.98659,     0.98655,\n",
      "            0.98651,     0.98646,     0.98642,     0.98638,     0.98633,     0.98629,     0.98625,      0.9862,     0.98616,     0.98612,     0.98607,     0.98603,     0.98599,     0.98594,      0.9859,     0.98586,     0.98581,     0.98577,     0.98573,     0.98568,     0.98564,      0.9856,     0.98555,\n",
      "            0.98551,     0.98546,     0.98542,     0.98538,     0.98533,     0.98529,     0.98525,      0.9852,     0.98516,     0.98512,     0.98507,     0.98503,     0.98499,     0.98494,      0.9849,     0.98486,     0.98481,     0.98477,     0.98477,     0.98477,     0.98477,     0.98477,     0.98477,\n",
      "            0.98477,     0.98477,     0.98477,     0.98477,     0.98477,     0.98477,     0.98477,     0.98477,     0.98477,     0.98477,     0.98477,     0.98477,     0.98477,     0.98477,     0.98477,     0.98477,     0.98477,     0.98477,     0.98477,     0.98477,     0.98477,     0.98477,     0.98477,\n",
      "            0.98477,     0.98477,     0.98477,     0.98477,     0.98477,     0.98477,     0.98477,     0.98477,     0.98477,     0.98477,     0.98477,     0.98477,     0.98477,     0.98477,     0.98477,     0.98477,     0.98477,     0.98409,     0.98326,     0.98242,     0.98189,     0.98146,     0.98102,\n",
      "            0.98059,     0.98015,     0.97971,     0.97948,     0.97925,     0.97902,     0.97879,     0.97857,     0.97834,     0.97811,     0.97788,     0.97765,     0.97743,      0.9772,     0.97636,     0.97539,     0.97446,     0.97368,     0.97291,     0.97213,     0.97149,     0.97086,     0.97023,\n",
      "             0.9696,     0.96954,     0.96954,     0.96954,     0.96954,     0.96954,     0.96954,     0.96954,     0.96954,     0.96954,     0.96954,     0.96954,      0.9695,     0.96903,     0.96857,      0.9681,     0.96764,     0.96717,     0.96433,     0.96374,     0.96316,     0.96258,     0.96199,\n",
      "            0.96085,     0.95964,     0.95607,     0.95495,     0.95379,     0.95256,     0.95113,     0.94934,     0.94763,     0.94102,     0.93913,     0.93279,     0.93069,     0.92979,     0.92881,     0.92423,     0.92047,     0.91788,     0.91656,     0.91016,     0.90588,     0.90352,     0.89797,\n",
      "            0.89513,     0.89348,     0.88997,     0.88557,      0.8796,     0.87049,     0.86923,     0.86802,     0.85254,     0.84841,      0.8399,     0.83831,     0.83497,     0.82736,     0.82433,     0.82323,     0.82119,     0.81531,     0.80407,     0.77814,     0.76731,     0.75872,     0.75728,\n",
      "            0.75312,     0.74397,     0.73302,     0.71825,      0.7119,     0.70561,     0.69851,     0.69257,     0.68802,     0.67341,     0.66333,     0.65203,     0.65019,     0.64562,     0.63292,     0.61453,      0.5953,     0.57279,     0.56855,     0.54974,      0.5298,     0.51838,     0.49701,\n",
      "            0.47422,     0.46332,       0.452,     0.43848,     0.42326,     0.40987,     0.38667,     0.36785,     0.35746,      0.3432,     0.32303,     0.30616,     0.29206,     0.28445,     0.27477,     0.27018,      0.2571,     0.24868,      0.2408,     0.23388,     0.21726,     0.20659,     0.19704,\n",
      "            0.17955,     0.17794,     0.16364,      0.1578,     0.15287,     0.14803,      0.1395,     0.13094,     0.12254,      0.1154,     0.11381,     0.11273,     0.11164,     0.11002,     0.10713,     0.10035,    0.093154,     0.08511,    0.081373,     0.07817,    0.077419,    0.076667,     0.07436,\n",
      "           0.071643,    0.064273,    0.058154,    0.057307,     0.05646,     0.05516,    0.050462,    0.045619,    0.044874,     0.04413,    0.043385,    0.041682,     0.04048,    0.040223,    0.039965,    0.039708,    0.039451,    0.039193,    0.038936,    0.038679,    0.038421,    0.038164,    0.036311,\n",
      "           0.032962,    0.031845,    0.030728,    0.025184,    0.024187,    0.023191,    0.022387,    0.021686,    0.020986,    0.020297,     0.02004,    0.019783,    0.019525,    0.019268,    0.019011,    0.018753,    0.018496,    0.018239,    0.017981,    0.017657,    0.016997,    0.016336,    0.015676,\n",
      "            0.01486,    0.013717,    0.012645,    0.012202,    0.011758,    0.011315,    0.010871,    0.010427,    0.010061,    0.009819,   0.0095775,   0.0093361,   0.0090946,   0.0088531,   0.0086116,   0.0083701,   0.0081286,   0.0078871,   0.0076456,   0.0073996,   0.0071528,    0.006906,   0.0066593,\n",
      "          0.0064125,   0.0061658,    0.005919,   0.0056722,   0.0054255,   0.0051787,   0.0048767,   0.0045354,    0.004194,   0.0038527,   0.0035114,   0.0031701,   0.0028288,           0,           0,           0,           0,           0,           0,           0,           0,           0,           0,\n",
      "                  0,           0,           0,           0,           0,           0,           0,           0,           0,           0,           0,           0,           0,           0,           0,           0,           0,           0,           0,           0,           0,           0,           0,\n",
      "                  0,           0,           0,           0,           0,           0,           0,           0,           0,           0,           0,           0,           0,           0,           0,           0,           0,           0,           0,           0,           0,           0,           0,\n",
      "                  0,           0,           0,           0,           0,           0,           0,           0,           0,           0,           0]]), 'Confidence', 'Recall']]\n",
      "fitness: 0.6666791455767735\n",
      "keys: ['metrics/precision(B)', 'metrics/recall(B)', 'metrics/mAP50(B)', 'metrics/mAP50-95(B)']\n",
      "maps: array([    0.63038])\n",
      "names: {0: 'license_plate'}\n",
      "plot: True\n",
      "results_dict: {'metrics/precision(B)': 0.9834879565007288, 'metrics/recall(B)': 0.9847715736040609, 'metrics/mAP50(B)': 0.9934002336629065, 'metrics/mAP50-95(B)': 0.6303768024560921, 'fitness': 0.6666791455767735}\n",
      "save_dir: PosixPath('/kaggle/working/yolo_license_plate/yolov11_license_plate2')\n",
      "speed: {'preprocess': 1.0122805621764068, 'inference': 5.413606670985849, 'loss': 0.0009164766823072418, 'postprocess': 1.3978559119164065}\n",
      "task: 'detect'\n"
     ]
    }
   ],
   "source": [
    "metrics = model.val(\n",
    "    data='/kaggle/working/yolo_license_plate/data.yaml',\n",
    "    split='test'\n",
    ")\n",
    "print(metrics)\n"
   ]
  },
  {
   "cell_type": "markdown",
   "id": "d38daf6e",
   "metadata": {
    "papermill": {
     "duration": 0.422525,
     "end_time": "2025-05-26T08:44:28.319654",
     "exception": false,
     "start_time": "2025-05-26T08:44:27.897129",
     "status": "completed"
    },
    "tags": []
   },
   "source": [
    "# ***Save Zit format***"
   ]
  },
  {
   "cell_type": "code",
   "execution_count": 7,
   "id": "dc0f0a4c",
   "metadata": {
    "execution": {
     "iopub.execute_input": "2025-05-26T08:44:29.056517Z",
     "iopub.status.busy": "2025-05-26T08:44:29.056199Z",
     "iopub.status.idle": "2025-05-26T08:44:29.189459Z",
     "shell.execute_reply": "2025-05-26T08:44:29.188496Z"
    },
    "papermill": {
     "duration": 0.494758,
     "end_time": "2025-05-26T08:44:29.190893",
     "exception": false,
     "start_time": "2025-05-26T08:44:28.696135",
     "status": "completed"
    },
    "tags": []
   },
   "outputs": [
    {
     "name": "stdout",
     "output_type": "stream",
     "text": [
      "✅ Full model folder zipped as: /kaggle/working/yolov11_license_plate_full_backup.zip\n"
     ]
    }
   ],
   "source": [
    "import zipfile\n",
    "import os\n",
    "\n",
    "base_dir = '/kaggle/working/yolo_license_plate/yolov11_license_plate'\n",
    "zip_path = '/kaggle/working/yolov11_license_plate_full_backup.zip'\n",
    "\n",
    "with zipfile.ZipFile(zip_path, 'w') as zipf:\n",
    "    for folder, _, files in os.walk(base_dir):\n",
    "        for file in files:\n",
    "            full_path = os.path.join(folder, file)\n",
    "            arcname = os.path.relpath(full_path, base_dir)\n",
    "            zipf.write(full_path, arcname=arcname)\n",
    "\n",
    "print(\"✅ Full model folder zipped as:\", zip_path)\n"
   ]
  },
  {
   "cell_type": "code",
   "execution_count": null,
   "id": "5744d031",
   "metadata": {
    "papermill": {
     "duration": 0.393442,
     "end_time": "2025-05-26T08:44:30.016883",
     "exception": false,
     "start_time": "2025-05-26T08:44:29.623441",
     "status": "completed"
    },
    "tags": []
   },
   "outputs": [],
   "source": []
  },
  {
   "cell_type": "code",
   "execution_count": null,
   "id": "f17a1f09",
   "metadata": {
    "papermill": {
     "duration": 0.429183,
     "end_time": "2025-05-26T08:44:30.803964",
     "exception": false,
     "start_time": "2025-05-26T08:44:30.374781",
     "status": "completed"
    },
    "tags": []
   },
   "outputs": [],
   "source": []
  }
 ],
 "metadata": {
  "kaggle": {
   "accelerator": "gpu",
   "dataSources": [
    {
     "databundleVersionId": 7777379,
     "datasetId": 4480455,
     "sourceId": 7679780,
     "sourceType": "datasetVersion"
    },
    {
     "sourceId": 70083354,
     "sourceType": "kernelVersion"
    }
   ],
   "dockerImageVersionId": 31041,
   "isGpuEnabled": true,
   "isInternetEnabled": true,
   "language": "python",
   "sourceType": "notebook"
  },
  "kernelspec": {
   "display_name": "Python 3",
   "language": "python",
   "name": "python3"
  },
  "language_info": {
   "codemirror_mode": {
    "name": "ipython",
    "version": 3
   },
   "file_extension": ".py",
   "mimetype": "text/x-python",
   "name": "python",
   "nbconvert_exporter": "python",
   "pygments_lexer": "ipython3",
   "version": "3.11.11"
  },
  "papermill": {
   "default_parameters": {},
   "duration": 1409.63191,
   "end_time": "2025-05-26T08:44:34.184035",
   "environment_variables": {},
   "exception": null,
   "input_path": "__notebook__.ipynb",
   "output_path": "__notebook__.ipynb",
   "parameters": {},
   "start_time": "2025-05-26T08:21:04.552125",
   "version": "2.6.0"
  }
 },
 "nbformat": 4,
 "nbformat_minor": 5
}
